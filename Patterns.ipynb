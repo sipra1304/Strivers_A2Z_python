{
 "cells": [
  {
   "cell_type": "markdown",
   "metadata": {},
   "source": [
    "# 1) \n"
   ]
  },
  {
   "cell_type": "code",
   "execution_count": 6,
   "metadata": {},
   "outputs": [
    {
     "name": "stdout",
     "output_type": "stream",
     "text": [
      "*****\n",
      "*****\n",
      "*****\n",
      "*****\n",
      "*****\n"
     ]
    }
   ],
   "source": [
    "for i in range(5):\n",
    "    for j in range(5):\n",
    "        print(\"*\",end='')\n",
    "    print()"
   ]
  },
  {
   "cell_type": "markdown",
   "metadata": {},
   "source": [
    "# 2) \n"
   ]
  },
  {
   "cell_type": "code",
   "execution_count": 8,
   "metadata": {},
   "outputs": [
    {
     "name": "stdout",
     "output_type": "stream",
     "text": [
      "*\n",
      "**\n",
      "***\n",
      "****\n",
      "*****\n"
     ]
    }
   ],
   "source": [
    "for i in range(5):\n",
    "    for j in range(i+1):\n",
    "        print(\"*\",end='')\n",
    "    print()"
   ]
  },
  {
   "cell_type": "markdown",
   "metadata": {},
   "source": [
    "# 3)"
   ]
  },
  {
   "cell_type": "code",
   "execution_count": 12,
   "metadata": {},
   "outputs": [
    {
     "name": "stdout",
     "output_type": "stream",
     "text": [
      "1\n",
      "22\n",
      "333\n",
      "4444\n",
      "55555\n"
     ]
    }
   ],
   "source": [
    "for i in range(1,6):\n",
    "    for j in range(1,i+1):\n",
    "        print(i,end='')\n",
    "    print()"
   ]
  },
  {
   "cell_type": "markdown",
   "metadata": {},
   "source": [
    "# 4)"
   ]
  },
  {
   "cell_type": "code",
   "execution_count": 13,
   "metadata": {},
   "outputs": [
    {
     "name": "stdout",
     "output_type": "stream",
     "text": [
      "1\n",
      "12\n",
      "123\n",
      "1234\n",
      "12345\n"
     ]
    }
   ],
   "source": [
    "for i in range(1,6):\n",
    "    for j in range(1,i+1):\n",
    "        print(j,end='')\n",
    "    print()"
   ]
  },
  {
   "cell_type": "markdown",
   "metadata": {},
   "source": [
    "# 5)"
   ]
  },
  {
   "cell_type": "code",
   "execution_count": 3,
   "metadata": {},
   "outputs": [
    {
     "name": "stdout",
     "output_type": "stream",
     "text": [
      "*****\n",
      "****\n",
      "***\n",
      "**\n",
      "*\n"
     ]
    }
   ],
   "source": [
    "for i in range(5,0,-1):\n",
    "    for j in range(i):\n",
    "        print(\"*\",end='')\n",
    "    print()"
   ]
  },
  {
   "cell_type": "markdown",
   "metadata": {},
   "source": [
    "# 6)"
   ]
  },
  {
   "cell_type": "code",
   "execution_count": 24,
   "metadata": {},
   "outputs": [
    {
     "name": "stdout",
     "output_type": "stream",
     "text": [
      "12345\n",
      "1234\n",
      "123\n",
      "12\n",
      "1\n"
     ]
    }
   ],
   "source": [
    "for i in range(5,0,-1):\n",
    "    for j in range(1,i+1):\n",
    "        print(j,end='')\n",
    "    print()"
   ]
  },
  {
   "cell_type": "markdown",
   "metadata": {},
   "source": [
    "# 7)"
   ]
  },
  {
   "cell_type": "code",
   "execution_count": 34,
   "metadata": {},
   "outputs": [
    {
     "name": "stdout",
     "output_type": "stream",
     "text": [
      "\n",
      "    *\n",
      "   ***\n",
      "  *****\n",
      " *******\n",
      "*********"
     ]
    }
   ],
   "source": [
    "n=5\n",
    "def full_pyramid(n):\n",
    "    for i in range(1, n + 1):\n",
    "        print()\n",
    "        for j in range(n - i):\n",
    "            print(\" \", end=\"\")\n",
    "         \n",
    "        # Print asterisks for the current row\n",
    "        for k in range(1, 2*i):\n",
    "            print(\"*\", end=\"\")\n",
    "\n",
    "full_pyramid(n)      "
   ]
  },
  {
   "cell_type": "code",
   "execution_count": 5,
   "metadata": {},
   "outputs": [
    {
     "name": "stdout",
     "output_type": "stream",
     "text": [
      "    *\n",
      "   ***\n",
      "  *****\n",
      " *******\n",
      "*********\n"
     ]
    }
   ],
   "source": [
    "\n",
    "def full_pyramid(n):\n",
    "    for i in range(n):\n",
    "        \n",
    "        for j in range(n - i-1):\n",
    "            print(\" \", end=\"\")\n",
    "         \n",
    "        # Print asterisks for the current row\n",
    "        for j in range(2*i+1):\n",
    "            print(\"*\", end=\"\")\n",
    "            \n",
    "        print()\n",
    "\n",
    "full_pyramid(5)  "
   ]
  },
  {
   "cell_type": "markdown",
   "metadata": {},
   "source": [
    "# 8)"
   ]
  },
  {
   "cell_type": "code",
   "execution_count": 44,
   "metadata": {},
   "outputs": [
    {
     "name": "stdout",
     "output_type": "stream",
     "text": [
      "\n",
      "*********\n",
      " *******\n",
      "  *****\n",
      "   ***\n",
      "    *"
     ]
    }
   ],
   "source": [
    "n=5\n",
    "def full_pyramid(n):\n",
    "    for i in range(n,0,-1):\n",
    "        print()\n",
    "        for j in range(n - i,0,-1):\n",
    "            print(\" \", end=\"\")\n",
    "         \n",
    "        # Print asterisks for the current row\n",
    "        for k in range(2*i-1,0,-1):\n",
    "            print(\"*\", end=\"\")\n",
    "\n",
    "full_pyramid(n)      "
   ]
  },
  {
   "cell_type": "code",
   "execution_count": 8,
   "metadata": {},
   "outputs": [
    {
     "name": "stdout",
     "output_type": "stream",
     "text": [
      " *********\n",
      "  *******\n",
      "   *****\n",
      "    ***\n",
      "     *\n"
     ]
    }
   ],
   "source": [
    "\n",
    "def full_pyramid(n):\n",
    "    for i in range(n):\n",
    "        # space\n",
    "        for j in range(i+1):\n",
    "            print(\" \", end=\"\")\n",
    "         \n",
    "        # Print asterisks for the current row\n",
    "        for j in range(2*(n-i)-1,0,-1):\n",
    "            print(\"*\", end=\"\")\n",
    "            \n",
    "        print()\n",
    "\n",
    "full_pyramid(5) "
   ]
  },
  {
   "cell_type": "markdown",
   "metadata": {},
   "source": [
    "# 9)"
   ]
  },
  {
   "cell_type": "code",
   "execution_count": 46,
   "metadata": {},
   "outputs": [
    {
     "name": "stdout",
     "output_type": "stream",
     "text": [
      "\n",
      "    *\n",
      "   ***\n",
      "  *****\n",
      " *******\n",
      "*********\n",
      "*********\n",
      " *******\n",
      "  *****\n",
      "   ***\n",
      "    *"
     ]
    }
   ],
   "source": [
    "def full_pyramid(n):\n",
    "    for i in range(1, n + 1):\n",
    "        print()\n",
    "        for j in range(n - i):\n",
    "            print(\" \", end=\"\")\n",
    "         \n",
    "        # Print asterisks for the current row\n",
    "        for k in range(1, 2*i):\n",
    "            print(\"*\", end=\"\")\n",
    "    \n",
    "    for i in range(n,0,-1):\n",
    "        print()\n",
    "        for j in range(n - i,0,-1):\n",
    "            print(\" \", end=\"\")\n",
    "         \n",
    "        # Print asterisks for the current row\n",
    "        for k in range(2*i-1,0,-1):\n",
    "            print(\"*\", end=\"\")       \n",
    "full_pyramid(5)    "
   ]
  },
  {
   "cell_type": "markdown",
   "metadata": {},
   "source": [
    "# 10)"
   ]
  },
  {
   "cell_type": "code",
   "execution_count": 48,
   "metadata": {},
   "outputs": [
    {
     "name": "stdout",
     "output_type": "stream",
     "text": [
      "*\n",
      "**\n",
      "***\n",
      "****\n",
      "*****\n",
      "****\n",
      "***\n",
      "**\n",
      "*\n"
     ]
    }
   ],
   "source": [
    "for i in range(5):\n",
    "    for j in range(i+1):\n",
    "        print(\"*\",end='')\n",
    "    print()\n",
    "for i in range(4,0,-1):\n",
    "    for j in range(i,0,-1):\n",
    "        print(\"*\",end='')\n",
    "    print()"
   ]
  },
  {
   "cell_type": "markdown",
   "metadata": {},
   "source": [
    "# 11)"
   ]
  },
  {
   "cell_type": "code",
   "execution_count": 15,
   "metadata": {},
   "outputs": [
    {
     "name": "stdout",
     "output_type": "stream",
     "text": [
      "1 \n",
      "2 3 \n",
      "4 5 6 \n",
      "7 8 9 10 \n",
      "11 12 13 14 15 \n"
     ]
    }
   ],
   "source": [
    "c=1\n",
    "for i in range(5):\n",
    "    for j in range(i+1):\n",
    "        print(c,end=' ')\n",
    "        c=c+1\n",
    "    print()"
   ]
  },
  {
   "cell_type": "markdown",
   "metadata": {},
   "source": [
    "# 13)"
   ]
  },
  {
   "cell_type": "code",
   "execution_count": 12,
   "metadata": {},
   "outputs": [
    {
     "name": "stdout",
     "output_type": "stream",
     "text": [
      "1 \n",
      "0 1 \n",
      "1 0 1 \n",
      "0 1 0 1 \n",
      "1 0 1 0 1 \n"
     ]
    }
   ],
   "source": [
    "strt=1\n",
    "for i in range (5):\n",
    "    if (i%2 == 0):\n",
    "        strt=1\n",
    "    else: strt=0\n",
    "    for j in range(i+1):\n",
    "        print(strt, end=' ')\n",
    "        strt=1-strt\n",
    "    print()"
   ]
  },
  {
   "cell_type": "markdown",
   "metadata": {},
   "source": [
    "# 14)"
   ]
  },
  {
   "cell_type": "code",
   "execution_count": 14,
   "metadata": {},
   "outputs": [
    {
     "name": "stdout",
     "output_type": "stream",
     "text": [
      "1                 1 \n",
      "1 2             2 1 \n",
      "1 2 3         3 2 1 \n",
      "1 2 3 4     4 3 2 1 \n",
      "1 2 3 4 5 5 4 3 2 1 \n"
     ]
    }
   ],
   "source": [
    "def pt(n):\n",
    "    for i in range(n):\n",
    "        # number\n",
    "        for j in range(i+1):\n",
    "            print(j+1,end=' ')\n",
    "        # space\n",
    "        for j in range(2*(n-i-1),0,-1):\n",
    "            print(\" \", end=' ')\n",
    "        #number in reverse\n",
    "        for j in range(i+1,0,-1):\n",
    "            print(j,end=' ')\n",
    "        print()\n",
    "pt(5)          "
   ]
  },
  {
   "cell_type": "markdown",
   "metadata": {},
   "source": [
    "# 15)"
   ]
  },
  {
   "cell_type": "code",
   "execution_count": 55,
   "metadata": {},
   "outputs": [
    {
     "name": "stdout",
     "output_type": "stream",
     "text": [
      "4 3 2 1 1 2 3 4 \n",
      "3 2 1     1 2 3 \n",
      "2 1         1 2 \n",
      "1             1 \n",
      "1             1 \n",
      "1 2         2 1 \n",
      "1 2 3     3 2 1 \n",
      "1 2 3 4 4 3 2 1 \n"
     ]
    }
   ],
   "source": [
    "spaces = 0\n",
    "for i in range (4,0,-1):\n",
    "    #num\n",
    "    for j in range(i,0,-1):\n",
    "        print(j, end=' ') \n",
    "\n",
    "    #space\n",
    "    for j in range(spaces):\n",
    "        print(' ', end=' ' )\n",
    "    \n",
    "    #num\n",
    "    for j in range(1,i+1):\n",
    "        print(j, end=' ')\n",
    "  \n",
    "    spaces=spaces+2\n",
    "    print()\n",
    "    \n",
    "space=6\n",
    "for i in range (1,5):\n",
    "    #num\n",
    "    for j in range(1,i+1):\n",
    "        print(j, end=' ')\n",
    "    #space\n",
    "    for j in range(space):\n",
    "        print(' ', end=' ' )\n",
    "    #num\n",
    "    for j in range(i,0,-1):\n",
    "        print(j, end=' ')   \n",
    "    space=space-2\n",
    "    print()"
   ]
  },
  {
   "cell_type": "code",
   "execution_count": 58,
   "metadata": {},
   "outputs": [
    {
     "name": "stdout",
     "output_type": "stream",
     "text": [
      "* * * * * * * * * * \n",
      "* * * *     * * * * \n",
      "* * *         * * * \n",
      "* *             * * \n",
      "*                 * \n",
      "*                 * \n",
      "* *             * * \n",
      "* * *         * * * \n",
      "* * * *     * * * * \n",
      "* * * * * * * * * * \n"
     ]
    }
   ],
   "source": [
    "spaces = 0\n",
    "for i in range (5,0,-1):\n",
    "    #num\n",
    "    for j in range(i,0,-1):\n",
    "        print('*', end=' ') \n",
    "\n",
    "    #space\n",
    "    for j in range(spaces):\n",
    "        print(' ', end=' ' )\n",
    "    \n",
    "    #num\n",
    "    for j in range(1,i+1):\n",
    "        print('*', end=' ')\n",
    "  \n",
    "    spaces=spaces+2\n",
    "    print()\n",
    "    \n",
    "space=8\n",
    "for i in range (1,6):\n",
    "    #num\n",
    "    for j in range(1,i+1):\n",
    "        print('*', end=' ')\n",
    "    #space\n",
    "    for j in range(space):\n",
    "        print(' ', end=' ' )\n",
    "    #num\n",
    "    for j in range(i,0,-1):\n",
    "        print('*', end=' ')   \n",
    "    space=space-2\n",
    "    print()"
   ]
  },
  {
   "cell_type": "markdown",
   "metadata": {},
   "source": [
    "# 16)"
   ]
  },
  {
   "cell_type": "code",
   "execution_count": 61,
   "metadata": {},
   "outputs": [
    {
     "name": "stdout",
     "output_type": "stream",
     "text": [
      "*             * \n",
      "* *         * * \n",
      "* * *     * * * \n",
      "* * * * * * * * \n",
      "* * *     * * * \n",
      "* *         * * \n",
      "*             * \n"
     ]
    }
   ],
   "source": [
    "space=6\n",
    "for i in range (1,5):\n",
    "    #num\n",
    "    for j in range(1,i+1):\n",
    "        print('*', end=' ')\n",
    "    #space\n",
    "    for j in range(space):\n",
    "        print(' ', end=' ' )\n",
    "    #num\n",
    "    for j in range(i,0,-1):\n",
    "        print('*', end=' ')   \n",
    "    space=space-2\n",
    "    print()\n",
    "\n",
    "spaces = 2\n",
    "for i in range (3,0,-1):\n",
    "    #num\n",
    "    for j in range(i,0,-1):\n",
    "        print('*', end=' ') \n",
    "\n",
    "    #space\n",
    "    for j in range(spaces):\n",
    "        print(' ', end=' ' )\n",
    "    \n",
    "    #num\n",
    "    for j in range(1,i+1):\n",
    "        print('*', end=' ')\n",
    "  \n",
    "    spaces=spaces+2\n",
    "    print()"
   ]
  },
  {
   "cell_type": "markdown",
   "metadata": {},
   "source": [
    "# 17)"
   ]
  },
  {
   "cell_type": "code",
   "execution_count": 63,
   "metadata": {},
   "outputs": [
    {
     "name": "stdout",
     "output_type": "stream",
     "text": [
      "* * * * \n",
      "*     * \n",
      "*     * \n",
      "* * * * \n"
     ]
    }
   ],
   "source": [
    "spaces = 0\n",
    "for i in range (2,0,-1):\n",
    "    #num\n",
    "    for j in range(i,0,-1):\n",
    "        print('*', end=' ') \n",
    "\n",
    "    #space\n",
    "    for j in range(spaces):\n",
    "        print(' ', end=' ' )\n",
    "    \n",
    "    #num\n",
    "    for j in range(1,i+1):\n",
    "        print('*', end=' ')\n",
    "  \n",
    "    spaces=spaces+2\n",
    "    print()\n",
    "    \n",
    "space=2\n",
    "for i in range (1,3):\n",
    "    #num\n",
    "    for j in range(1,i+1):\n",
    "        print('*', end=' ')\n",
    "    #space\n",
    "    for j in range(space):\n",
    "        print(' ', end=' ' )\n",
    "    #num\n",
    "    for j in range(i,0,-1):\n",
    "        print('*', end=' ')   \n",
    "    space=space-2\n",
    "    print()"
   ]
  },
  {
   "cell_type": "markdown",
   "metadata": {},
   "source": [
    "# 18)"
   ]
  },
  {
   "cell_type": "code",
   "execution_count": 66,
   "metadata": {},
   "outputs": [],
   "source": [
    "def ptt(n):\n",
    "    for i in range(2*n-1):\n",
    "        for j in range(2*n-1):\n",
    "            top=i\n",
    "            btm=(2*n - 2)- i\n",
    "            left=j\n",
    "            right=(2*n - 2)- j\n",
    "            k= min(min(top,btm),min(left,right))\n",
    "            print(n-k, end=' ')\n",
    "        print()\n",
    "        "
   ]
  },
  {
   "cell_type": "code",
   "execution_count": 67,
   "metadata": {},
   "outputs": [
    {
     "name": "stdout",
     "output_type": "stream",
     "text": [
      "4 4 4 4 4 4 4 \n",
      "4 3 3 3 3 3 4 \n",
      "4 3 2 2 2 3 4 \n",
      "4 3 2 1 2 3 4 \n",
      "4 3 2 2 2 3 4 \n",
      "4 3 3 3 3 3 4 \n",
      "4 4 4 4 4 4 4 \n"
     ]
    }
   ],
   "source": [
    "ptt(4)"
   ]
  },
  {
   "cell_type": "markdown",
   "metadata": {},
   "source": [
    "# 19)"
   ]
  },
  {
   "cell_type": "code",
   "execution_count": 3,
   "metadata": {},
   "outputs": [
    {
     "name": "stdout",
     "output_type": "stream",
     "text": [
      "A \n",
      "A B \n",
      "A B C \n",
      "A B C D \n",
      "A B C D E \n"
     ]
    }
   ],
   "source": [
    "for i in range(5):\n",
    "    for j in range(i+1):\n",
    "        print(chr(65 + j), end=' ')\n",
    "    print()"
   ]
  },
  {
   "cell_type": "code",
   "execution_count": 17,
   "metadata": {},
   "outputs": [
    {
     "name": "stdout",
     "output_type": "stream",
     "text": [
      "A \n",
      "A B \n",
      "A B C \n",
      "A B C D \n",
      "A B C D E \n"
     ]
    }
   ],
   "source": [
    "for i in range(5):\n",
    "    for j in range(i+1):\n",
    "        print(chr(65+j), end=' ')\n",
    "    print()"
   ]
  },
  {
   "cell_type": "markdown",
   "metadata": {},
   "source": [
    "# 20)"
   ]
  },
  {
   "cell_type": "code",
   "execution_count": 2,
   "metadata": {},
   "outputs": [
    {
     "name": "stdout",
     "output_type": "stream",
     "text": [
      "A B C D E \n",
      "A B C D \n",
      "A B C \n",
      "A B \n",
      "A \n"
     ]
    }
   ],
   "source": [
    "for i in range(5,0,-1):\n",
    "    for j in range(i):\n",
    "        print(chr(65 + j), end=' ')\n",
    "    print()"
   ]
  },
  {
   "cell_type": "markdown",
   "metadata": {},
   "source": [
    "# 21)"
   ]
  },
  {
   "cell_type": "code",
   "execution_count": 13,
   "metadata": {},
   "outputs": [
    {
     "name": "stdout",
     "output_type": "stream",
     "text": [
      "A \n",
      "B B \n",
      "C C C \n",
      "D D D D \n",
      "E E E E E \n"
     ]
    }
   ],
   "source": [
    "for i in range(5):\n",
    "    for j in range(i+1):\n",
    "        print(chr(65 + i), end=' ')\n",
    "    print()"
   ]
  },
  {
   "cell_type": "markdown",
   "metadata": {},
   "source": [
    "# 22)"
   ]
  },
  {
   "cell_type": "markdown",
   "metadata": {},
   "source": [
    "Variation 1"
   ]
  },
  {
   "cell_type": "code",
   "execution_count": 14,
   "metadata": {},
   "outputs": [
    {
     "name": "stdout",
     "output_type": "stream",
     "text": [
      "E \n",
      "E D \n",
      "E D C \n",
      "E D C B \n",
      "E D C B A \n"
     ]
    }
   ],
   "source": [
    "for i in range(5):\n",
    "    for j in range(i+1):\n",
    "        print(chr(69 - j), end=' ')\n",
    "    print()"
   ]
  },
  {
   "cell_type": "markdown",
   "metadata": {},
   "source": [
    "Variation 2"
   ]
  },
  {
   "cell_type": "code",
   "execution_count": 21,
   "metadata": {},
   "outputs": [
    {
     "name": "stdout",
     "output_type": "stream",
     "text": [
      "E D C B A \n",
      "D C B A \n",
      "C B A \n",
      "B A \n",
      "A \n"
     ]
    }
   ],
   "source": [
    "for i in range(5,0,-1):\n",
    "    for j in range(i-1,-1,-1):\n",
    "        print(chr(65+ j), end=' ')\n",
    "    print()"
   ]
  },
  {
   "cell_type": "markdown",
   "metadata": {},
   "source": [
    "final"
   ]
  },
  {
   "cell_type": "code",
   "execution_count": 35,
   "metadata": {},
   "outputs": [],
   "source": [
    "def ptt(n):\n",
    "    for i in range(n):\n",
    "        for j in range(i+1,0,-1):\n",
    "            print(chr((65+n) - j), end=' ')\n",
    "        print()"
   ]
  },
  {
   "cell_type": "code",
   "execution_count": 36,
   "metadata": {},
   "outputs": [
    {
     "name": "stdout",
     "output_type": "stream",
     "text": [
      "E \n",
      "D E \n",
      "C D E \n",
      "B C D E \n",
      "A B C D E \n"
     ]
    }
   ],
   "source": [
    "ptt(5)"
   ]
  },
  {
   "cell_type": "markdown",
   "metadata": {},
   "source": [
    "# 23)"
   ]
  },
  {
   "cell_type": "code",
   "execution_count": 82,
   "metadata": {},
   "outputs": [
    {
     "name": "stdout",
     "output_type": "stream",
     "text": [
      "      A \n",
      "    A B A \n",
      "  A B C B A \n",
      "A B C D C B A \n"
     ]
    }
   ],
   "source": [
    "n=4\n",
    "def full_pyramid(n):\n",
    "    for i in range(1, n+1):\n",
    "        \n",
    "        for j in range(n - i):\n",
    "            print(\" \", end=\" \")\n",
    "         \n",
    "        # Print asterisks for the current row\n",
    "        for k in range(i):\n",
    "            print(chr(65 + k), end=\" \")\n",
    "            \n",
    "        #second smaller number pyramid\n",
    "        for k in range(i-1,0,-1):\n",
    "            print(chr(65 + k-1), end=\" \")\n",
    "            \n",
    "        print()\n",
    "\n",
    "full_pyramid(n)      "
   ]
  },
  {
   "cell_type": "code",
   "execution_count": 39,
   "metadata": {},
   "outputs": [],
   "source": [
    "def pyra(n):\n",
    "    for i in range(n):\n",
    "        #space\n",
    "        for j in range((n-i)-1,0,-1):\n",
    "            print(' ', end=' ')\n",
    "        #letter\n",
    "        for j in range(i+1):\n",
    "            print(chr(65+j), end=' ')\n",
    "        #letter\n",
    "        for j in range(i,0,-1):\n",
    "            print(chr(65+j-1), end=' ')\n",
    "        print()"
   ]
  },
  {
   "cell_type": "code",
   "execution_count": 40,
   "metadata": {},
   "outputs": [
    {
     "name": "stdout",
     "output_type": "stream",
     "text": [
      "      A \n",
      "    A B A \n",
      "  A B C B A \n",
      "A B C D C B A \n"
     ]
    }
   ],
   "source": [
    "pyra(4)"
   ]
  },
  {
   "cell_type": "code",
   "execution_count": 3,
   "metadata": {},
   "outputs": [
    {
     "name": "stdout",
     "output_type": "stream",
     "text": [
      "A B C D E \n",
      "A B C D \n",
      "A B C \n",
      "A B \n",
      "A \n"
     ]
    }
   ],
   "source": [
    "for i in range(5,0,-1):\n",
    "    for j in range(i):\n",
    "        print(chr(65+j), end=' ')\n",
    "    print()"
   ]
  }
 ],
 "metadata": {
  "kernelspec": {
   "display_name": "Python 3",
   "language": "python",
   "name": "python3"
  },
  "language_info": {
   "codemirror_mode": {
    "name": "ipython",
    "version": 3
   },
   "file_extension": ".py",
   "mimetype": "text/x-python",
   "name": "python",
   "nbconvert_exporter": "python",
   "pygments_lexer": "ipython3",
   "version": "3.11.4"
  }
 },
 "nbformat": 4,
 "nbformat_minor": 2
}
