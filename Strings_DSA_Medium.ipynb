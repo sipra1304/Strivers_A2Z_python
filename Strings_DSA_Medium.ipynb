{
 "cells": [
  {
   "cell_type": "markdown",
   "metadata": {},
   "source": [
    "# Sort Characters By Frequency"
   ]
  },
  {
   "cell_type": "markdown",
   "metadata": {},
   "source": [
    "TC=O(n)\n",
    "\n",
    "SC = O(N) or O(1) as we have only 26 alphabets"
   ]
  },
  {
   "cell_type": "code",
   "execution_count": 13,
   "metadata": {},
   "outputs": [],
   "source": [
    "\n",
    "def freq_sort(s):\n",
    "    count = {}\n",
    "    for c in s:\n",
    "        if c in count:\n",
    "            count[c] += 1\n",
    "        else:\n",
    "            count[c] = 1\n",
    "    return ''.join([c * count[c] for c in sorted(count, key=lambda x: count[x], reverse=True)])\n"
   ]
  },
  {
   "cell_type": "code",
   "execution_count": 15,
   "metadata": {},
   "outputs": [
    {
     "name": "stdout",
     "output_type": "stream",
     "text": [
      "aaaaaccc\n"
     ]
    }
   ],
   "source": [
    "s='acacacaa'\n",
    "print(freq_sort(s))"
   ]
  },
  {
   "cell_type": "markdown",
   "metadata": {},
   "source": [
    "# Max Nesting depth of Parentheses"
   ]
  },
  {
   "cell_type": "markdown",
   "metadata": {},
   "source": [
    "TC=O(n)\n",
    "\n",
    "SC=O(1)"
   ]
  },
  {
   "cell_type": "code",
   "execution_count": 25,
   "metadata": {},
   "outputs": [],
   "source": [
    "def max_nest(s):\n",
    "    c1=0\n",
    "    max_c=0\n",
    "    for i in s:\n",
    "        if i == '(':\n",
    "           c1+=1\n",
    "           max_c=max(c1,max_c) \n",
    "        elif i==')':\n",
    "            c1-=1\n",
    "    return max_c"
   ]
  },
  {
   "cell_type": "code",
   "execution_count": 26,
   "metadata": {},
   "outputs": [
    {
     "name": "stdout",
     "output_type": "stream",
     "text": [
      "3\n"
     ]
    }
   ],
   "source": [
    "s=\"(1+(2*3)+((8)/4))+1\"\n",
    "print(max_nest(s))"
   ]
  },
  {
   "cell_type": "markdown",
   "metadata": {},
   "source": [
    "# Roman to Integer"
   ]
  },
  {
   "cell_type": "markdown",
   "metadata": {},
   "source": [
    "TC=O(N)\n",
    "\n",
    "SC=O(1)"
   ]
  },
  {
   "cell_type": "code",
   "execution_count": 27,
   "metadata": {},
   "outputs": [],
   "source": [
    "roman={\n",
    "    'I': 1,\n",
    "    'V': 5,\n",
    "    'X': 10,\n",
    "    'L': 50,\n",
    "    'C': 100,\n",
    "    'D': 500,\n",
    "    'M': 1000  \n",
    "}"
   ]
  },
  {
   "cell_type": "code",
   "execution_count": 43,
   "metadata": {},
   "outputs": [],
   "source": [
    "def roman_int(s):\n",
    "    \"\"\"Convert a Roman numeral to an integer.\"\"\"\n",
    "    s.upper\n",
    "    a=s.strip().upper()\n",
    "    ans=0\n",
    "    for i in range(len(s)):\n",
    "        if i>0 and roman[s[i]]>roman[s[i-1]]:\n",
    "            ans+=roman[s[i]]-2*roman[s[i-1]]\n",
    "        else:\n",
    "            ans+=roman[s[i]]\n",
    "    return ans "
   ]
  },
  {
   "cell_type": "code",
   "execution_count": 47,
   "metadata": {},
   "outputs": [
    {
     "name": "stdout",
     "output_type": "stream",
     "text": [
      "4\n"
     ]
    }
   ],
   "source": [
    "s = \"IV\"\n",
    "print(roman_int(s))"
   ]
  },
  {
   "cell_type": "markdown",
   "metadata": {},
   "source": [
    "# Count number of substrings"
   ]
  },
  {
   "cell_type": "markdown",
   "metadata": {},
   "source": [
    "Given a string of lowercase alphabets, count all possible substrings (not necessarily distinct) that have exactly k distinct characters. "
   ]
  },
  {
   "cell_type": "markdown",
   "metadata": {},
   "source": [
    "TC = O(N) ; N= len(s)\n",
    "\n",
    "SC= O(k); K= distinct charcters"
   ]
  },
  {
   "cell_type": "code",
   "execution_count": 49,
   "metadata": {},
   "outputs": [],
   "source": [
    "\n",
    "\n",
    "def count_k_distinct_substrings(s, k):\n",
    "    if k == 0:\n",
    "        return 0\n",
    "\n",
    "    char_freq = {}\n",
    "    window_start = 0\n",
    "    count = 0\n",
    "\n",
    "    for window_end in range(len(s)):\n",
    "        right_char = s[window_end]\n",
    "        char_freq[right_char] = char_freq.get(right_char, 0) + 1\n",
    "\n",
    "        while len(char_freq) > k:\n",
    "            left_char = s[window_start]\n",
    "            char_freq[left_char] -= 1\n",
    "            if char_freq[left_char] == 0:\n",
    "                del char_freq[left_char]\n",
    "            window_start += 1\n",
    "\n",
    "        if len(char_freq) == k:\n",
    "            count += window_end - window_start\n",
    "\n",
    "    return count"
   ]
  },
  {
   "cell_type": "code",
   "execution_count": 50,
   "metadata": {},
   "outputs": [
    {
     "name": "stdout",
     "output_type": "stream",
     "text": [
      "3\n"
     ]
    }
   ],
   "source": [
    "print(count_k_distinct_substrings(\"aba\",2))"
   ]
  },
  {
   "cell_type": "markdown",
   "metadata": {},
   "source": [
    "# Reverse every word in a string"
   ]
  },
  {
   "cell_type": "markdown",
   "metadata": {},
   "source": [
    "Already done in Basic"
   ]
  },
  {
   "cell_type": "code",
   "execution_count": 48,
   "metadata": {},
   "outputs": [],
   "source": [
    "def rev(s):\n",
    "    l=0\n",
    "    r=len(s)-1\n",
    "    temp=''\n",
    "    ans=''\n",
    "    while l<=r:\n",
    "        c=s[l]\n",
    "        if (c!=' '):\n",
    "            temp+=c\n",
    "            \n",
    "        elif c==' ':\n",
    "            if ans !='': ans= temp+' '+ans\n",
    "            else:  ans = temp\n",
    "            temp = ''\n",
    "        l+=1\n",
    "    \n",
    "    if temp != '':\n",
    "        if (ans!=''): ans = temp+' '+ans\n",
    "        else: ans = temp\n",
    "    \n",
    "    return ans\n",
    "    "
   ]
  },
  {
   "cell_type": "markdown",
   "metadata": {},
   "source": [
    "# Sum of Beauty of All Strings"
   ]
  },
  {
   "cell_type": "markdown",
   "metadata": {},
   "source": [
    "TC =O(N^2)\n",
    "\n",
    "SC =O(N) or O(1) if we consider English alphabets have fixedsize of 26"
   ]
  },
  {
   "cell_type": "markdown",
   "metadata": {},
   "source": [
    "## using dict"
   ]
  },
  {
   "cell_type": "code",
   "execution_count": 13,
   "metadata": {},
   "outputs": [],
   "source": [
    "from collections import defaultdict"
   ]
  },
  {
   "cell_type": "code",
   "execution_count": 14,
   "metadata": {},
   "outputs": [],
   "source": [
    "def beautySum(s: str) -> int:\n",
    "\n",
    "    res = 0\n",
    "    for i in range(len(s)):\n",
    "            count = defaultdict(int)\n",
    "            for j in range(i,len(s)):\n",
    "                count[s[j]] += 1\n",
    "                minF = min(count.values())\n",
    "                maxF = max(count.values())\n",
    "                res += (maxF -minF)\n",
    "    return res\n",
    "    "
   ]
  },
  {
   "cell_type": "code",
   "execution_count": 15,
   "metadata": {},
   "outputs": [
    {
     "name": "stdout",
     "output_type": "stream",
     "text": [
      "5\n"
     ]
    }
   ],
   "source": [
    "s='aabcb'\n",
    "print(beautySum(s))"
   ]
  },
  {
   "cell_type": "markdown",
   "metadata": {},
   "source": [
    "## using list"
   ]
  },
  {
   "cell_type": "code",
   "execution_count": null,
   "metadata": {},
   "outputs": [],
   "source": [
    "def beautySum(s: str) -> int:\n",
    "    res = 0\n",
    "    for i in range(len(s)):\n",
    "        count = [0] * 26\n",
    "        for j in range(i, len(s)):\n",
    "            count[ord(s[j]) - ord('a')] += 1\n",
    "            minF = min(x for x in count if x != 0)\n",
    "            maxF = max(count)\n",
    "            res += (maxF - minF)\n",
    "    return res"
   ]
  },
  {
   "cell_type": "markdown",
   "metadata": {},
   "source": [
    "# ATOI"
   ]
  },
  {
   "cell_type": "markdown",
   "metadata": {},
   "source": [
    "TC = O(N)\n",
    "\n",
    "SC = O(1)"
   ]
  },
  {
   "cell_type": "code",
   "execution_count": 28,
   "metadata": {},
   "outputs": [],
   "source": [
    "def myAtoi(s: str) -> int:\n",
    "        i = 0\n",
    "        sign = 1\n",
    "        ans = 0\n",
    "        while i < len(s) and s[i] == ' ':\n",
    "            i += 1\n",
    "        if i < len(s) and s[i] == '-':\n",
    "            sign = -1\n",
    "            i += 1\n",
    "        elif i < len(s) and s[i] == '+':\n",
    "            i += 1\n",
    "        while i < len(s):\n",
    "            if '0' <= s[i] <= '9':\n",
    "                ans = ans * 10 + int(s[i])\n",
    "                if ans > 2**31 - 1 and sign == -1:\n",
    "                    return -2**31\n",
    "                elif ans > 2**31 - 1 and sign == 1:\n",
    "                    return 2**31 - 1\n",
    "                i += 1\n",
    "            else:\n",
    "                return ans * sign\n",
    "        return ans * sign\n"
   ]
  },
  {
   "cell_type": "code",
   "execution_count": 34,
   "metadata": {},
   "outputs": [
    {
     "name": "stdout",
     "output_type": "stream",
     "text": [
      "-2147483648\n"
     ]
    }
   ],
   "source": [
    "s = \"-91283472332\"\n",
    "print(myAtoi(s))"
   ]
  },
  {
   "cell_type": "code",
   "execution_count": 35,
   "metadata": {},
   "outputs": [],
   "source": [
    "def ispallindrome(s):\n",
    "    s = s.lower()\n",
    "    s = s.replace(\" \",\"\")\n",
    "    if s == s[::-1]:\n",
    "        return True"
   ]
  },
  {
   "cell_type": "markdown",
   "metadata": {},
   "source": [
    "# Longest Pallindrome Without DP"
   ]
  },
  {
   "cell_type": "markdown",
   "metadata": {},
   "source": [
    "## My approach == Brute Force"
   ]
  },
  {
   "cell_type": "markdown",
   "metadata": {},
   "source": [
    "\n",
    "\n",
    "    Time complexity : O(n^3). Assume that n is the length of the input string, there are a total of C(n, 2) = n(n-1)/2 substrings (excluding the trivial solution where a character itself is a palindrome). Since verifying each substring takes O(n) time, the run time complexity is O(n^3).\n",
    "\n",
    "    Space complexity : O(1).\n"
   ]
  },
  {
   "cell_type": "code",
   "execution_count": 37,
   "metadata": {},
   "outputs": [],
   "source": [
    "def longest_pallindrome(s):\n",
    "    curr_len=0\n",
    "    max_len=float(\"-inf\")\n",
    "    palli=''\n",
    "    for i in range(len(s)):\n",
    "        for j in range(i+1,len(s)):\n",
    "            if ispallindrome(s[i:j+1]):\n",
    "                curr_len=len(s[i:j+1])\n",
    "                if curr_len>max_len:\n",
    "                    max_len=curr_len\n",
    "                    palli=s[i:j+1]\n",
    "    return palli"
   ]
  },
  {
   "cell_type": "code",
   "execution_count": 39,
   "metadata": {},
   "outputs": [
    {
     "name": "stdout",
     "output_type": "stream",
     "text": [
      "bb\n"
     ]
    }
   ],
   "source": [
    "print(longest_pallindrome(\"cbbd\"))"
   ]
  },
  {
   "cell_type": "markdown",
   "metadata": {},
   "source": [
    "## OPTIMAL"
   ]
  },
  {
   "cell_type": "markdown",
   "metadata": {},
   "source": [
    "TC = O(N^2)\n",
    "\n",
    "SC = O(1)"
   ]
  },
  {
   "cell_type": "code",
   "execution_count": 42,
   "metadata": {},
   "outputs": [],
   "source": [
    "def longest_palindrome(s):\n",
    "    def expand_around_center(left, right):\n",
    "        while left >= 0 and right < len(s) and s[left] == s[right]:\n",
    "            left -= 1\n",
    "            right += 1\n",
    "        return s[left + 1:right]\n",
    "\n",
    "    longest = \"\"\n",
    "    for i in range(len(s)):\n",
    "        # Odd-length palindrome\n",
    "        palindrome = expand_around_center(i, i)\n",
    "        if len(palindrome) > len(longest):\n",
    "            longest = palindrome\n",
    "\n",
    "        # Even-length palindrome\n",
    "        palindrome = expand_around_center(i, i + 1)\n",
    "        if len(palindrome) > len(longest):\n",
    "            longest = palindrome\n",
    "\n",
    "    return longest"
   ]
  },
  {
   "cell_type": "code",
   "execution_count": 44,
   "metadata": {},
   "outputs": [
    {
     "name": "stdout",
     "output_type": "stream",
     "text": [
      "bbabb\n"
     ]
    }
   ],
   "source": [
    "print(longest_pallindrome(\"cbbabbd\"))"
   ]
  }
 ],
 "metadata": {
  "kernelspec": {
   "display_name": "Python 3",
   "language": "python",
   "name": "python3"
  },
  "language_info": {
   "codemirror_mode": {
    "name": "ipython",
    "version": 3
   },
   "file_extension": ".py",
   "mimetype": "text/x-python",
   "name": "python",
   "nbconvert_exporter": "python",
   "pygments_lexer": "ipython3",
   "version": "3.11.4"
  }
 },
 "nbformat": 4,
 "nbformat_minor": 2
}
