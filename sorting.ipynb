{
 "cells": [
  {
   "cell_type": "markdown",
   "metadata": {},
   "source": [
    "# Bubble Sort"
   ]
  },
  {
   "cell_type": "code",
   "execution_count": 1,
   "metadata": {},
   "outputs": [],
   "source": [
    "def bubble(arr):\n",
    "    n= len(arr)\n",
    "    for i in range(n-1,-1,-1):\n",
    "        s=0\n",
    "        for j in range(i):\n",
    "            if (arr[j]>arr[j+1]):\n",
    "                temp=arr[j+1]\n",
    "                arr[j+1]=arr[j]\n",
    "                arr[j]=temp\n",
    "                s=1\n",
    "        if s==0:\n",
    "            break\n",
    "    \n",
    "    for i in range(n):\n",
    "        print(arr[i], end=' ')\n",
    "    print()\n",
    "    "
   ]
  },
  {
   "cell_type": "code",
   "execution_count": 3,
   "metadata": {},
   "outputs": [
    {
     "name": "stdout",
     "output_type": "stream",
     "text": [
      "9 13 20 24 46 52 \n"
     ]
    }
   ],
   "source": [
    "arr = [13, 46, 24, 52, 20, 9]\n",
    "bubble(arr)"
   ]
  },
  {
   "cell_type": "markdown",
   "metadata": {},
   "source": [
    "# Recursive Bubble Sort"
   ]
  },
  {
   "cell_type": "code",
   "execution_count": 8,
   "metadata": {},
   "outputs": [],
   "source": [
    "def rec_bubble(arr,n):\n",
    "    \n",
    "    \n",
    "    s=0\n",
    "    for j in range(n-1):\n",
    "        if (arr[j]>arr[j+1]):\n",
    "            temp=arr[j+1]\n",
    "            arr[j+1]=arr[j]\n",
    "            arr[j]=temp\n",
    "            s=1\n",
    "    if s==0:\n",
    "        return\n",
    "    rec_bubble(arr,n-1)\n",
    "    \n",
    "    \n",
    "    "
   ]
  },
  {
   "cell_type": "code",
   "execution_count": 2,
   "metadata": {},
   "outputs": [],
   "source": [
    "def print_arr(arr):\n",
    "    n= len(arr)\n",
    "    for i in range(n):\n",
    "        print(arr[i], end=' ')\n",
    "    print()"
   ]
  },
  {
   "cell_type": "code",
   "execution_count": 12,
   "metadata": {},
   "outputs": [
    {
     "name": "stdout",
     "output_type": "stream",
     "text": [
      "13 46 24 52 20 9 \n",
      "9 13 20 24 46 52 \n"
     ]
    }
   ],
   "source": [
    "arr = [13, 46, 24, 52, 20, 9]\n",
    "print_arr(arr)\n",
    "rec_bubble(arr,len(arr))\n",
    "print_arr(arr)"
   ]
  },
  {
   "cell_type": "markdown",
   "metadata": {},
   "source": [
    "# Insertion Sort"
   ]
  },
  {
   "cell_type": "code",
   "execution_count": 13,
   "metadata": {},
   "outputs": [],
   "source": [
    "def ins_sort(arr):\n",
    "    n=len(arr)\n",
    "    for i in range(n):\n",
    "        j=i\n",
    "        while(j>0 and arr[j-1]>arr[j]):\n",
    "            t=arr[j-1]\n",
    "            arr[j-1]=arr[j]\n",
    "            arr[j]=t\n",
    "            j-=1\n",
    "        "
   ]
  },
  {
   "cell_type": "code",
   "execution_count": 14,
   "metadata": {},
   "outputs": [
    {
     "name": "stdout",
     "output_type": "stream",
     "text": [
      "13 46 24 52 20 9 \n",
      "9 13 20 24 46 52 \n"
     ]
    }
   ],
   "source": [
    "arr = [13, 46, 24, 52, 20, 9]\n",
    "print_arr(arr)\n",
    "ins_sort(arr)\n",
    "print_arr(arr)"
   ]
  },
  {
   "cell_type": "markdown",
   "metadata": {},
   "source": [
    "# Recursive Insertion sort"
   ]
  },
  {
   "cell_type": "code",
   "execution_count": 16,
   "metadata": {},
   "outputs": [],
   "source": [
    "def rec_ins(arr,i,n):\n",
    "    if i==n:return\n",
    "    \n",
    "    j=i\n",
    "    while(j>0 and arr[j-1]>arr[j]):\n",
    "        t=arr[j-1]\n",
    "        arr[j-1]=arr[j]\n",
    "        arr[j]=t\n",
    "        j-=1\n",
    "    rec_ins(arr,i+1,n)\n",
    "        "
   ]
  },
  {
   "cell_type": "code",
   "execution_count": 17,
   "metadata": {},
   "outputs": [
    {
     "name": "stdout",
     "output_type": "stream",
     "text": [
      "13 46 24 52 20 9 \n",
      "9 13 20 24 46 52 \n"
     ]
    }
   ],
   "source": [
    "arr = [13, 46, 24, 52, 20, 9]\n",
    "print_arr(arr)\n",
    "rec_ins(arr,0,len(arr))\n",
    "print_arr(arr)"
   ]
  },
  {
   "cell_type": "markdown",
   "metadata": {},
   "source": [
    "# Selection Sort"
   ]
  },
  {
   "cell_type": "code",
   "execution_count": 1,
   "metadata": {},
   "outputs": [],
   "source": [
    "def sel_sort(arr):\n",
    "    n=len(arr)\n",
    "    for i in range(n-1):\n",
    "        min=i\n",
    "        for j in range(i+1,n):\n",
    "            if arr[j]<arr[min]:\n",
    "                min=j\n",
    "        if min != i:\n",
    "            t= arr[min]\n",
    "            arr[min]=arr[i]\n",
    "            arr[i]=t"
   ]
  },
  {
   "cell_type": "code",
   "execution_count": 3,
   "metadata": {},
   "outputs": [
    {
     "name": "stdout",
     "output_type": "stream",
     "text": [
      "13 46 24 52 20 9 \n",
      "9 13 20 24 46 52 \n"
     ]
    }
   ],
   "source": [
    "arr = [13, 46, 24, 52, 20, 9]\n",
    "print_arr(arr)\n",
    "sel_sort(arr)\n",
    "print_arr(arr)"
   ]
  },
  {
   "cell_type": "markdown",
   "metadata": {},
   "source": [
    "# MERGE SORT"
   ]
  },
  {
   "cell_type": "markdown",
   "metadata": {},
   "source": [
    "TC=O(nlog(n))"
   ]
  },
  {
   "cell_type": "markdown",
   "metadata": {},
   "source": [
    "SC= O(N)"
   ]
  },
  {
   "cell_type": "code",
   "execution_count": 4,
   "metadata": {},
   "outputs": [],
   "source": [
    "def merge(arr, low, mid, high):\n",
    "    t=[]\n",
    "    lt=low\n",
    "    rt=mid+1\n",
    "    while(lt<= mid and rt<= high):\n",
    "        if arr[lt]<=arr[rt]:\n",
    "            t.append(arr[lt])\n",
    "            lt+=1\n",
    "        else:\n",
    "            t.append(arr[rt])\n",
    "            rt+=1\n",
    "            \n",
    "    while(lt<=mid):\n",
    "        t.append(arr[lt])\n",
    "        lt+=1\n",
    "    while(rt<=high):\n",
    "        t.append(arr[rt])\n",
    "        rt+=1\n",
    "    for i in range(low,high+1):\n",
    "        arr[i]=t[i-low]\n",
    "        \n"
   ]
  },
  {
   "cell_type": "code",
   "execution_count": 10,
   "metadata": {},
   "outputs": [],
   "source": [
    "def merge_sort(arr,low,high):\n",
    "    if low<high:\n",
    "        mid=int((low+high)//2)\n",
    "        merge_sort(arr, low, mid)\n",
    "        merge_sort(arr, mid+1, high)\n",
    "        merge(arr, low, mid, high)"
   ]
  },
  {
   "cell_type": "code",
   "execution_count": 11,
   "metadata": {},
   "outputs": [
    {
     "name": "stdout",
     "output_type": "stream",
     "text": [
      "13 46 24 52 20 9 \n",
      "9 13 20 24 46 52 \n"
     ]
    }
   ],
   "source": [
    "arr = [13, 46, 24, 52, 20, 9]\n",
    "print_arr(arr)\n",
    "merge_sort(arr,0,len(arr)-1)\n",
    "print_arr(arr)"
   ]
  },
  {
   "cell_type": "code",
   "execution_count": 14,
   "metadata": {},
   "outputs": [
    {
     "data": {
      "text/plain": [
       "9.230769230769232"
      ]
     },
     "execution_count": 14,
     "metadata": {},
     "output_type": "execute_result"
    }
   ],
   "source": [
    "(42/455)*100"
   ]
  },
  {
   "cell_type": "markdown",
   "metadata": {},
   "source": [
    "# Quick Sort"
   ]
  },
  {
   "cell_type": "code",
   "execution_count": 15,
   "metadata": {},
   "outputs": [],
   "source": [
    "def part(arr, low, high):\n",
    "    p=arr[low]\n",
    "    i=low\n",
    "    j=high\n",
    "    \n",
    "    while(i<j):\n",
    "        while (arr[i]<=p and i<=high-1):\n",
    "            i+=1\n",
    "        while (arr[j]>p and j>=low+1):\n",
    "            j-=1\n",
    "        if (i<j):\n",
    "            t=arr[i]\n",
    "            arr[i]=arr[j]\n",
    "            arr[j]=t\n",
    "    temp=arr[low]\n",
    "    arr[low]=arr[j]\n",
    "    arr[j]=temp\n",
    "    return j"
   ]
  },
  {
   "cell_type": "code",
   "execution_count": 19,
   "metadata": {},
   "outputs": [],
   "source": [
    "def quick_sort(arr,low,high):\n",
    "    if(low<high):\n",
    "        pi=part(arr,low,high)\n",
    "        quick_sort(arr,low,pi-1)\n",
    "        quick_sort(arr,pi+1,high)"
   ]
  },
  {
   "cell_type": "code",
   "execution_count": 20,
   "metadata": {},
   "outputs": [
    {
     "name": "stdout",
     "output_type": "stream",
     "text": [
      "13 46 24 52 20 9 \n",
      "9 13 20 24 46 52 \n"
     ]
    }
   ],
   "source": [
    "arr = [13, 46, 24, 52, 20, 9]\n",
    "print_arr(arr)\n",
    "quick_sort(arr,0,len(arr)-1)\n",
    "print_arr(arr)"
   ]
  }
 ],
 "metadata": {
  "kernelspec": {
   "display_name": "Python 3",
   "language": "python",
   "name": "python3"
  },
  "language_info": {
   "codemirror_mode": {
    "name": "ipython",
    "version": 3
   },
   "file_extension": ".py",
   "mimetype": "text/x-python",
   "name": "python",
   "nbconvert_exporter": "python",
   "pygments_lexer": "ipython3",
   "version": "3.11.4"
  }
 },
 "nbformat": 4,
 "nbformat_minor": 2
}
