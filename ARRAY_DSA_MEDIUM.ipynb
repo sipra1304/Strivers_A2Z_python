{
 "cells": [
  {
   "cell_type": "markdown",
   "metadata": {},
   "source": [
    "# 2SUM PROBLEM"
   ]
  },
  {
   "cell_type": "markdown",
   "metadata": {},
   "source": [
    "my approach == brute force"
   ]
  },
  {
   "cell_type": "markdown",
   "metadata": {},
   "source": [
    "TC=O(n^2)\n",
    "\n",
    "SC=O(1)"
   ]
  },
  {
   "cell_type": "code",
   "execution_count": 29,
   "metadata": {},
   "outputs": [],
   "source": [
    "def two_sum(arr,k):\n",
    "    n=len(arr)\n",
    "    i=0\n",
    "    j=1\n",
    "    flag=0\n",
    "    for i in range(0,n-1):\n",
    "        for j in range(i+1,n):\n",
    "            if arr[i]+arr[j]==k:\n",
    "                flag=1\n",
    "                return i,j"
   ]
  },
  {
   "cell_type": "code",
   "execution_count": 36,
   "metadata": {},
   "outputs": [
    {
     "name": "stdout",
     "output_type": "stream",
     "text": [
      "(1, 5)\n"
     ]
    }
   ],
   "source": [
    "if __name__ == \"__main__\":\n",
    "    arr =[0, 2,0, 0, 5, 6, 7]\n",
    "    res=two_sum(arr,8)\n",
    "    print(res)"
   ]
  },
  {
   "cell_type": "markdown",
   "metadata": {},
   "source": [
    "BETTER APPROACH"
   ]
  },
  {
   "cell_type": "markdown",
   "metadata": {},
   "source": [
    "TC=O(N*LOG(N))\n",
    "\n",
    "SC=O(N)"
   ]
  },
  {
   "cell_type": "code",
   "execution_count": 50,
   "metadata": {},
   "outputs": [
    {
     "name": "stdout",
     "output_type": "stream",
     "text": [
      "(0, 1)\n"
     ]
    }
   ],
   "source": [
    "def two_sum_hashing(arr, k):\n",
    "    num_to_index = {}\n",
    "    for i, num in enumerate(arr):\n",
    "        complement = k - num\n",
    "        if complement in num_to_index:\n",
    "            return num_to_index[complement], i\n",
    "        num_to_index[num] = i\n",
    "    return None  # Return None if no such pair is found\n",
    "\n",
    "# Example usage:\n",
    "arr = [2, 7, 11, 15]\n",
    "k = 9\n",
    "print(two_sum_hashing(arr, k))  # Output should be (0, 1) because arr[0] + arr[1] == 9\n"
   ]
  },
  {
   "cell_type": "markdown",
   "metadata": {},
   "source": [
    "OPTIMAL APPROACH"
   ]
  },
  {
   "cell_type": "markdown",
   "metadata": {},
   "source": [
    "TC=O(N)+O(N*LOG(N))\n",
    "\n",
    "SC=O(1)"
   ]
  },
  {
   "cell_type": "code",
   "execution_count": 48,
   "metadata": {},
   "outputs": [],
   "source": [
    "def sum2(arr,k):\n",
    "    arr.sort()\n",
    "    print(arr)\n",
    "    left = 0\n",
    "    right = len(arr) - 1\n",
    "    while left < right:\n",
    "        if arr[left] + arr[right] == k:\n",
    "            return left,right\n",
    "        elif k<arr[left] + arr[right]:\n",
    "            right -= 1  \n",
    "        else:\n",
    "            left += 1\n",
    "    return -1,-1\n",
    "        "
   ]
  },
  {
   "cell_type": "code",
   "execution_count": 49,
   "metadata": {},
   "outputs": [
    {
     "name": "stdout",
     "output_type": "stream",
     "text": [
      "[0, 0, 0, 2, 5, 6, 7]\n",
      "(3, 5)\n"
     ]
    }
   ],
   "source": [
    "if __name__ == \"__main__\":\n",
    "    arr =[0, 2,0, 0, 5, 6, 7]\n",
    "    res=sum2(arr,8)\n",
    "    print(res)"
   ]
  },
  {
   "cell_type": "markdown",
   "metadata": {},
   "source": [
    "# Sort an array of 0s, 1s and 2s\n",
    "\n",
    "Problem Statement: Given an array consisting of only 0s, 1s, and 2s. Write a program to in-place sort the array without using inbuilt sort functions. ( Expected: Single pass-O(N) and constant space)"
   ]
  },
  {
   "cell_type": "markdown",
   "metadata": {},
   "source": [
    "my approach"
   ]
  },
  {
   "cell_type": "markdown",
   "metadata": {},
   "source": [
    "TC=O(N)+O(NO OF 1)+O(NO OF 2)+O(NO OF 0)==O(N)+O(N)\n",
    "\n",
    "SC=O(1)"
   ]
  },
  {
   "cell_type": "code",
   "execution_count": 66,
   "metadata": {},
   "outputs": [],
   "source": [
    "def sort120(arr):\n",
    "    l1=0\n",
    "    l2=0\n",
    "    l0=0\n",
    "    for i in range(len(arr)):\n",
    "        if arr[i]==0:\n",
    "            l0+=1\n",
    "        elif arr[i]==1:\n",
    "            l1+=1\n",
    "        else:\n",
    "            l2+=1\n",
    "    print(l0,l1,l2)\n",
    "    i=0\n",
    "    j=0\n",
    "    for j in range(l0):\n",
    "        arr[j]=0\n",
    "        i+=1\n",
    "    for j in range(l1):\n",
    "        arr[i]=1\n",
    "        i+=1\n",
    "    for j in range(l2):\n",
    "        arr[i]=2\n",
    "        i+=1\n",
    "    \n",
    "    return arr\n",
    "        "
   ]
  },
  {
   "cell_type": "code",
   "execution_count": 67,
   "metadata": {},
   "outputs": [
    {
     "name": "stdout",
     "output_type": "stream",
     "text": [
      "3 2 2\n",
      "[0, 0, 0, 1, 1, 2, 2]\n"
     ]
    }
   ],
   "source": [
    "if __name__ == \"__main__\":\n",
    "    arr =[0, 2,0, 0, 1, 2, 1]\n",
    "    res=sort120(arr)\n",
    "    print(res)"
   ]
  },
  {
   "cell_type": "markdown",
   "metadata": {},
   "source": [
    "The steps will be the following:\n",
    "\n",
    "    First, we will run a loop that will continue until mid <= high.\n",
    "    There can be three different values of mid pointer i.e. arr[mid]\n",
    "        If arr[mid] == 0, we will swap arr[low] and arr[mid] and will increment both low and mid. Now the subarray from index 0 to (low-1) only contains 0.\n",
    "\n",
    "        If arr[mid] == 1, we will just increment the mid pointer and then the index (mid-1) will point to 1 as it should according to the rules.\n",
    "\n",
    "        If arr[mid] == 2, we will swap arr[mid] and arr[high] and will decrement high. Now the subarray from index high+1 to (n-1) only contains 2.\n",
    "        \n",
    "        In this step, we will do nothing to the mid-pointer as even after swapping, the subarray from mid to high(after decrementing high) might be unsorted. So, we will check the value of mid again in the next iteration.\n",
    "    Finally, our array should be sorted."
   ]
  },
  {
   "cell_type": "markdown",
   "metadata": {},
   "source": [
    "TC=O(N) [ SINGLE PASS]\n",
    "\n",
    "SC=O(1)"
   ]
  },
  {
   "cell_type": "code",
   "execution_count": 75,
   "metadata": {},
   "outputs": [],
   "source": [
    "def opt_sort(arr):\n",
    "    n = len(arr)\n",
    "    high=n-1\n",
    "    low=0\n",
    "    mid=0\n",
    "    while mid <= high :\n",
    "        if arr[mid] == 0:\n",
    "            arr[low],arr[mid]=arr[mid],arr[low]\n",
    "            low+=1\n",
    "            mid+=1\n",
    "        elif arr[mid]==1:\n",
    "            mid+=1\n",
    "        else:\n",
    "            arr[mid],arr[high]=arr[high],arr[mid]\n",
    "            high-=1\n",
    "        \n",
    "    return arr"
   ]
  },
  {
   "cell_type": "code",
   "execution_count": 76,
   "metadata": {},
   "outputs": [
    {
     "name": "stdout",
     "output_type": "stream",
     "text": [
      "[0, 0, 0, 1, 1, 1, 2, 2]\n"
     ]
    }
   ],
   "source": [
    "if __name__ == \"__main__\":\n",
    "    arr =[0, 1,2,0, 0, 1, 2, 1]\n",
    "    res=opt_sort(arr)\n",
    "    print(res)"
   ]
  },
  {
   "cell_type": "markdown",
   "metadata": {},
   "source": [
    "# Find the Majority Element that occurs more than N/2 times"
   ]
  },
  {
   "cell_type": "markdown",
   "metadata": {},
   "source": [
    "MY APPROACH == BETTER APPROACH"
   ]
  },
  {
   "cell_type": "markdown",
   "metadata": {},
   "source": [
    "TC=O(N)+O(N*LOG(N))\n",
    "\n",
    "SC=O(N)"
   ]
  },
  {
   "cell_type": "code",
   "execution_count": 1,
   "metadata": {},
   "outputs": [],
   "source": [
    "def find_major(arr):\n",
    "    n=len(arr)\n",
    "    hash={}\n",
    "    for i in arr:\n",
    "        hash[i]=hash.get(i,0)+1\n",
    "    \n",
    "    for i in hash:\n",
    "        if hash[i]>n/2:\n",
    "            return i\n",
    "        \n",
    "    return -1\n",
    "        "
   ]
  },
  {
   "cell_type": "code",
   "execution_count": 3,
   "metadata": {},
   "outputs": [
    {
     "name": "stdout",
     "output_type": "stream",
     "text": [
      "5\n"
     ]
    }
   ],
   "source": [
    "if __name__ == \"__main__\":\n",
    "    arr =[5, 5,0,5, 5, 5, 2, 1]\n",
    "    res=find_major(arr)\n",
    "    print(res)"
   ]
  },
  {
   "cell_type": "markdown",
   "metadata": {},
   "source": [
    "OPTIMAL APPROACH"
   ]
  },
  {
   "cell_type": "markdown",
   "metadata": {},
   "source": [
    "MOORE'S voting algo"
   ]
  },
  {
   "cell_type": "markdown",
   "metadata": {},
   "source": [
    "Time Complexity: O(N) + O(N)\n",
    "\n",
    "Space Complexity: O(1)"
   ]
  },
  {
   "cell_type": "code",
   "execution_count": 4,
   "metadata": {},
   "outputs": [],
   "source": [
    "def opt_mjor(arr):\n",
    "    n=len(arr)\n",
    "    count =0\n",
    "    el=None\n",
    "    \n",
    "    for i in range(n):\n",
    "        if count==0:\n",
    "            count=1\n",
    "            el=arr[i]\n",
    "        elif el==arr[i]:\n",
    "            count+=1\n",
    "        else:\n",
    "            count-=1\n",
    "    count=0\n",
    "    for i in range(n):\n",
    "        if arr[i]==el:\n",
    "            count+=1\n",
    "    if count>(n/2):\n",
    "        return el\n",
    "    return -1\n",
    "        \n"
   ]
  },
  {
   "cell_type": "code",
   "execution_count": 5,
   "metadata": {},
   "outputs": [
    {
     "name": "stdout",
     "output_type": "stream",
     "text": [
      "The majority element is: 2\n"
     ]
    }
   ],
   "source": [
    "arr = [2, 2, 1, 1, 1, 2, 2]\n",
    "ans = opt_mjor(arr)\n",
    "print(\"The majority element is:\", ans)"
   ]
  },
  {
   "cell_type": "markdown",
   "metadata": {},
   "source": [
    "# Kadane's Algorithm : Maximum Subarray Sum in an Array"
   ]
  },
  {
   "cell_type": "markdown",
   "metadata": {},
   "source": [
    "BRUTE FORCE"
   ]
  },
  {
   "cell_type": "code",
   "execution_count": 6,
   "metadata": {},
   "outputs": [],
   "source": [
    "def maxSubSum(arr):\n",
    "    max_sum = float('-inf')\n",
    "    curr_sum=float('-inf')\n",
    "    for i in range(len(arr)):\n",
    "        for j in range(i,len(arr)):\n",
    "            curr_sum=sum(arr[i:j+1])\n",
    "            max_sum=max(curr_sum,max_sum)\n",
    "            \n",
    "    return max_sum"
   ]
  },
  {
   "cell_type": "code",
   "execution_count": 7,
   "metadata": {},
   "outputs": [
    {
     "name": "stdout",
     "output_type": "stream",
     "text": [
      "The majority element is: 7\n"
     ]
    }
   ],
   "source": [
    "arr = [2, -2, 1,- 1, 5, 2, -2,-4,6]\n",
    "ans = maxSubSum(arr)\n",
    "print(\"The majority element is:\", ans)"
   ]
  },
  {
   "cell_type": "markdown",
   "metadata": {},
   "source": [
    "KADANES : OPTIMAL\n",
    "\n",
    "TC=O(N)\n",
    "\n",
    "SC=O(1)"
   ]
  },
  {
   "cell_type": "code",
   "execution_count": 11,
   "metadata": {},
   "outputs": [],
   "source": [
    "def kadane(arr):\n",
    "    max_sum = float('-inf')\n",
    "    sum=0\n",
    "    for i in range(len(arr)):\n",
    "        sum += arr[i]\n",
    "        if sum > max_sum:\n",
    "            max_sum = sum\n",
    "        if sum<0:\n",
    "            sum=0\n",
    "    if max_sum<0:\n",
    "        max_sum = 0\n",
    "    return max_sum"
   ]
  },
  {
   "cell_type": "code",
   "execution_count": 12,
   "metadata": {},
   "outputs": [
    {
     "name": "stdout",
     "output_type": "stream",
     "text": [
      "The majority element is: 7\n"
     ]
    }
   ],
   "source": [
    "arr = [2, -2, 1,- 1, 5, 2, -2,-4,6]\n",
    "ans = kadane(arr)\n",
    "print(\"The majority element is:\", ans)"
   ]
  },
  {
   "cell_type": "markdown",
   "metadata": {},
   "source": [
    "PRINTING THE SUBARRAY"
   ]
  },
  {
   "cell_type": "markdown",
   "metadata": {},
   "source": [
    "longest and shortest"
   ]
  },
  {
   "cell_type": "code",
   "execution_count": 24,
   "metadata": {},
   "outputs": [],
   "source": [
    "def kadane(arr):\n",
    "    max_sum = float('-inf')\n",
    "    sum=0\n",
    "    strt,end_short,end=-1,-1,-1\n",
    "    for i in range(len(arr)):\n",
    "        if sum == 0:\n",
    "            st=i\n",
    "        sum += arr[i]\n",
    "        if sum > max_sum:\n",
    "            max_sum = sum\n",
    "            strt=st\n",
    "            end_short=i\n",
    "        if sum>0:\n",
    "                end=i\n",
    "        if sum<0:\n",
    "            sum=0\n",
    "    if max_sum<0:\n",
    "        max_sum = 0\n",
    "        \n",
    "    print(\"longest:\",arr[strt:end+1])\n",
    "    print(\"shortest:\",arr[strt:end_short+1])\n",
    "    return max_sum"
   ]
  },
  {
   "cell_type": "code",
   "execution_count": 25,
   "metadata": {},
   "outputs": [
    {
     "name": "stdout",
     "output_type": "stream",
     "text": [
      "longest: [5, 2, -2, -4, 6]\n",
      "shortest: [5, 2]\n",
      "The majority element is: 7\n"
     ]
    }
   ],
   "source": [
    "arr = [2, -2, 1,- 1, 5, 2, -2,-4,6]\n",
    "ans = kadane(arr)\n",
    "print(\"The majority element is:\", ans)"
   ]
  },
  {
   "cell_type": "markdown",
   "metadata": {},
   "source": [
    "# Stock Buy And Sell\n",
    "\n",
    "Problem Statement: You are given an array of prices where prices[i] is the price of a given stock on an ith day.\n",
    "\n",
    "You want to maximize your profit by choosing a single day to buy one stock and choosing a different day in the future to sell that stock. Return the maximum profit you can achieve from this transaction. If you cannot achieve any profit, return 0."
   ]
  },
  {
   "cell_type": "markdown",
   "metadata": {},
   "source": [
    "MY APPOACH == BRUTE FORCE"
   ]
  },
  {
   "cell_type": "markdown",
   "metadata": {},
   "source": [
    "TC=O(N^2)\n",
    "\n",
    "SC=O(1)"
   ]
  },
  {
   "cell_type": "code",
   "execution_count": 28,
   "metadata": {},
   "outputs": [],
   "source": [
    "def stock_buy_sell(arr):\n",
    "    max_profit=0\n",
    "    min_price=float('inf')\n",
    "    for i in range(len(arr)-1):\n",
    "        if arr[i]<min_price:\n",
    "            min_price=arr[i]\n",
    "            for j in range(i+1,len(arr)):\n",
    "                if arr[j]>min_price and arr[j]-min_price>max_profit:\n",
    "                    max_profit=arr[j]-min_price\n",
    "    return max_profit"
   ]
  },
  {
   "cell_type": "code",
   "execution_count": 31,
   "metadata": {},
   "outputs": [
    {
     "name": "stdout",
     "output_type": "stream",
     "text": [
      "Max profit is:  5\n"
     ]
    }
   ],
   "source": [
    "\n",
    "if __name__ == \"__main__\":\n",
    "    arr = [7, 1, 5, 3, 6, 4]\n",
    "    maxPro = stock_buy_sell(arr)\n",
    "    print(\"Max profit is: \", maxPro)"
   ]
  },
  {
   "cell_type": "markdown",
   "metadata": {},
   "source": [
    "OPTIMAL\n",
    "\n",
    "TC=O(N)\n",
    "\n",
    "SC=O(1)"
   ]
  },
  {
   "cell_type": "code",
   "execution_count": 30,
   "metadata": {},
   "outputs": [],
   "source": [
    "def stock_buy_sell(arr):\n",
    "    max_profit=0\n",
    "    min_price=float('inf')\n",
    "    for i in range(len(arr)):\n",
    "        if arr[i]<min_price:\n",
    "            min_price=arr[i]\n",
    "        max_profit=max(max_profit,arr[i]-min_price)\n",
    "    return max_profit"
   ]
  },
  {
   "cell_type": "code",
   "execution_count": 32,
   "metadata": {},
   "outputs": [
    {
     "name": "stdout",
     "output_type": "stream",
     "text": [
      "Max profit is:  5\n"
     ]
    }
   ],
   "source": [
    "\n",
    "if __name__ == \"__main__\":\n",
    "    arr = [7, 1, 5, 3, 6, 4]\n",
    "    maxPro = stock_buy_sell(arr)\n",
    "    print(\"Max profit is: \", maxPro)"
   ]
  },
  {
   "cell_type": "markdown",
   "metadata": {},
   "source": [
    "# Rearrange Array Elements by Sign\n",
    "\n",
    "Variety-1\n",
    "\n",
    "Problem Statement:\n",
    "\n",
    "There’s an array ‘A’ of size ‘N’ with an equal number of positive and negative elements. Without altering the relative order of positive and negative elements, you must return an array of alternately positive and negative values.\n",
    "\n",
    "Note: Start the array with positive elements."
   ]
  },
  {
   "cell_type": "markdown",
   "metadata": {},
   "source": [
    "OPTIMAL"
   ]
  },
  {
   "cell_type": "markdown",
   "metadata": {},
   "source": [
    "Time Complexity: O(N) { O(N) for traversing the array once and substituting positives and negatives simultaneously using pointers, where N = size of the array A}.\n",
    "\n",
    "Space Complexity:  O(N) { Extra Space used to store the rearranged elements separately in an array, where N = size of array A}."
   ]
  },
  {
   "cell_type": "code",
   "execution_count": 42,
   "metadata": {},
   "outputs": [],
   "source": [
    "def rearrange(arr):\n",
    "    n = len(arr)\n",
    "    t=[0]*n\n",
    "    pos,neg=0,1\n",
    "    for i in range(n):\n",
    "        if arr[i]>=0:\n",
    "            t[pos]=arr[i]\n",
    "            pos+=2\n",
    "        else:\n",
    "            t[neg]=arr[i]\n",
    "            neg+=2\n",
    "        \n",
    "    return t"
   ]
  },
  {
   "cell_type": "code",
   "execution_count": 43,
   "metadata": {},
   "outputs": [
    {
     "name": "stdout",
     "output_type": "stream",
     "text": [
      "Max profit is:  [1, -7, 6, -5, 4, -3]\n"
     ]
    }
   ],
   "source": [
    "\n",
    "if __name__ == \"__main__\":\n",
    "    arr = [-7, 1, -5, -3, 6, 4]\n",
    "    maxPro = rearrange(arr)\n",
    "    print(\"Max profit is: \", maxPro)"
   ]
  },
  {
   "cell_type": "markdown",
   "metadata": {},
   "source": [
    "Variety-2\n",
    "\n",
    "Problem Statement:\n",
    "\n",
    "There’s an array ‘A’ of size ‘N’ with positive and negative elements (not necessarily equal). Without altering the relative order of positive and negative elements, you must return an array of alternately positive and negative values. The leftover elements should be placed at the very end in the same order as in array A.\n",
    "\n",
    "Note: Start the array with positive elements."
   ]
  },
  {
   "cell_type": "code",
   "execution_count": null,
   "metadata": {},
   "outputs": [],
   "source": [
    "def rearrange(arr):\n",
    "    n = len(arr)\n",
    "    t=[0]*n\n",
    "    pos,neg=0,1\n",
    "    \n",
    "    for i in range(n):\n",
    "        if arr[i]>=0:\n",
    "            t[pos]=arr[i]\n",
    "            pos+=2\n",
    "        else:\n",
    "            t[neg]=arr[i]\n",
    "            neg+=2\n",
    "    \n",
    "    \n",
    "        \n",
    "    return t"
   ]
  },
  {
   "cell_type": "code",
   "execution_count": 9,
   "metadata": {},
   "outputs": [
    {
     "name": "stdout",
     "output_type": "stream",
     "text": [
      "1 -4 2 -5 3 4 "
     ]
    }
   ],
   "source": [
    "def RearrangebySign(A, n):\n",
    "    # Define 2 lists, one for storing positive \n",
    "    # and other for negative elements of the array.\n",
    "    pos = []\n",
    "    neg = []\n",
    "    \n",
    "    # Segregate the array into positives and negatives.\n",
    "    for i in range(n):\n",
    "        if A[i] > 0:\n",
    "            pos.append(A[i])\n",
    "        else:\n",
    "            neg.append(A[i])\n",
    "    \n",
    "    # If positives are lesser than the negatives.\n",
    "    if len(pos) < len(neg):\n",
    "        # First, fill array alternatively till the point \n",
    "        # where positives and negatives are equal in number.\n",
    "        for i in range(len(pos)):\n",
    "            A[2*i] = pos[i]\n",
    "            A[2*i+1] = neg[i]\n",
    "        \n",
    "        # Fill the remaining negatives at the end of the array.\n",
    "        index = len(pos)*2\n",
    "        for i in range(len(neg)-len(pos)):\n",
    "            A[index] = neg[len(pos)+i]\n",
    "            index += 1\n",
    "    \n",
    "    # If negatives are lesser than the positives.\n",
    "    else:\n",
    "        # First, fill array alternatively till the point \n",
    "        # where positives and negatives are equal in number.\n",
    "        for i in range(len(neg)):\n",
    "            A[2*i] = pos[i]\n",
    "            A[2*i+1] = neg[i]\n",
    "        \n",
    "        # Fill the remaining positives at the end of the array.\n",
    "        index = len(neg)*2\n",
    "        for i in range(len(pos)-len(neg)):\n",
    "            A[index] = pos[len(neg)+i]\n",
    "            index += 1\n",
    "    \n",
    "    return A\n",
    "\n",
    "# Array initialization\n",
    "n = 6\n",
    "A = [1, 2, -4, -5, 3, 4]\n",
    "\n",
    "ans = RearrangebySign(A, n)\n",
    "\n",
    "for i in range(len(ans)):\n",
    "    print(ans[i], end=\" \")\n"
   ]
  },
  {
   "cell_type": "code",
   "execution_count": 12,
   "metadata": {},
   "outputs": [
    {
     "name": "stdout",
     "output_type": "stream",
     "text": [
      "[1, -4, 2, -5, 3, 4, 9]\n"
     ]
    }
   ],
   "source": [
    "A = [1, 2, -4, -5, 3, 4, 9]\n",
    "\n",
    "ans = RearrangebySign(A,len(A))\n",
    "\n",
    "\n",
    "print(ans)"
   ]
  },
  {
   "cell_type": "markdown",
   "metadata": {},
   "source": [
    "# next_permutation : find next lexicographically greater permutation\n",
    " \n",
    "Problem Statement: Given an array Arr[] of integers, rearrange the numbers of the given array into the lexicographically next greater permutation of numbers.\n",
    "\n",
    "If such an arrangement is not possible, it must rearrange to the lowest possible order (i.e., sorted in ascending order)."
   ]
  },
  {
   "cell_type": "markdown",
   "metadata": {},
   "source": [
    "TC = O(3*N)\n",
    "\n",
    "SC=O(N)"
   ]
  },
  {
   "cell_type": "code",
   "execution_count": 26,
   "metadata": {},
   "outputs": [],
   "source": [
    "def next_perm(arr):\n",
    "    n = len(arr)\n",
    "    ind=-1\n",
    "    for i in range(n-2,-1,-1):\n",
    "        if arr[i]<arr[i+1]:\n",
    "            ind=i\n",
    "            break\n",
    "    if ind == -1:\n",
    "        \n",
    "        arr.reverse()\n",
    "        return arr\n",
    "\n",
    "    for i in range(n-1,ind,-1):\n",
    "        if arr[i]>arr[ind]:\n",
    "            arr[i],arr[ind]=arr[ind],arr[i]\n",
    "            break\n",
    "    \n",
    "    arr[ind+1:]=reversed(arr[ind+1:])   \n",
    "    print(arr)\n",
    "    "
   ]
  },
  {
   "cell_type": "code",
   "execution_count": 27,
   "metadata": {},
   "outputs": [
    {
     "name": "stdout",
     "output_type": "stream",
     "text": [
      "[2, 3, 0, 0, 1, 4, 5]\n"
     ]
    }
   ],
   "source": [
    "if __name__ == \"__main__\":\n",
    "    A = [2, 1, 5, 4, 3, 0, 0]\n",
    "    next_perm(A)\n",
    "    "
   ]
  },
  {
   "cell_type": "markdown",
   "metadata": {},
   "source": [
    "# Leaders in an Array\n",
    "\n",
    "\n",
    "Problem Statement: Given an array, print all the elements which are leaders. A Leader is an element that is greater than all of the elements on its right side in the array."
   ]
  },
  {
   "cell_type": "markdown",
   "metadata": {},
   "source": [
    "MY APPROACH == BRUTE FORCE"
   ]
  },
  {
   "cell_type": "markdown",
   "metadata": {},
   "source": [
    "TC=O(N^2)\n",
    "\n",
    "SC=O(N)"
   ]
  },
  {
   "cell_type": "code",
   "execution_count": 37,
   "metadata": {},
   "outputs": [],
   "source": [
    "def leader_arr(arr):\n",
    "    n = len(arr)\n",
    "    t=[arr[n-1]]\n",
    "    \n",
    "    for i in range(n-2,-1,-1):\n",
    "        flag=1\n",
    "        for j in range(i+1,n):\n",
    "            if arr[i] < arr[j]:\n",
    "                flag=0\n",
    "        \n",
    "        if flag !=0:\n",
    "            t.append(arr[i])\n",
    "        \n",
    "        \n",
    "    \n",
    "    return t[::-1]"
   ]
  },
  {
   "cell_type": "code",
   "execution_count": 45,
   "metadata": {},
   "outputs": [
    {
     "name": "stdout",
     "output_type": "stream",
     "text": [
      "[5, 3, 0, 0]\n"
     ]
    }
   ],
   "source": [
    "if __name__ == \"__main__\":\n",
    "    A = [2, 1, 5, 2, 3, 0, 0]\n",
    "    ans=leader_arr(A)\n",
    "    print(ans)"
   ]
  },
  {
   "cell_type": "markdown",
   "metadata": {},
   "source": [
    "OPTIMAL SOLN\n",
    "\n",
    "TC=O(N)\n",
    "\n",
    "SC=O(N)"
   ]
  },
  {
   "cell_type": "code",
   "execution_count": 44,
   "metadata": {},
   "outputs": [],
   "source": [
    "def leader_arr(arr):\n",
    "    n = len(arr)\n",
    "    t=[arr[n-1]]\n",
    "    max_el=arr[n-1]\n",
    "    for i in range(n-2,-1,-1):\n",
    "        if arr[i]>=max_el:\n",
    "            t.append(arr[i])\n",
    "            max_el=arr[i]\n",
    "    return t[::-1]"
   ]
  },
  {
   "cell_type": "markdown",
   "metadata": {},
   "source": [
    "# Longest Consecutive Sequence in an Array"
   ]
  },
  {
   "cell_type": "markdown",
   "metadata": {},
   "source": [
    "MY APPROACH==BETTER APPROACH\n",
    "\n",
    "TC=O(N)+O(N*LOG(N))\n",
    "\n",
    "SC=O(1)"
   ]
  },
  {
   "cell_type": "code",
   "execution_count": 53,
   "metadata": {},
   "outputs": [],
   "source": [
    "def longest_cons(arr):\n",
    "    n=len(arr)\n",
    "    c=0\n",
    "    arr.sort()\n",
    "    print(arr)\n",
    "    for i in range(n-1):\n",
    "        if abs(arr[i]-arr[i+1]) == 1: \n",
    "            c+=1\n",
    "    return c+1"
   ]
  },
  {
   "cell_type": "code",
   "execution_count": 54,
   "metadata": {},
   "outputs": [
    {
     "name": "stdout",
     "output_type": "stream",
     "text": [
      "[0, 3, 5, 6, 7, 8, 9]\n",
      "5\n"
     ]
    }
   ],
   "source": [
    "if __name__=='__main__':\n",
    "    arr=[3, 8, 5,0, 7, 6, 9]\n",
    "    ans= longest_cons(arr)\n",
    "    print(ans)"
   ]
  },
  {
   "cell_type": "markdown",
   "metadata": {},
   "source": [
    "BRUTE FORCE"
   ]
  },
  {
   "cell_type": "markdown",
   "metadata": {},
   "source": [
    "TC=O(N^2)\n",
    "\n",
    "SC=O(1)"
   ]
  },
  {
   "cell_type": "code",
   "execution_count": 50,
   "metadata": {},
   "outputs": [
    {
     "name": "stdout",
     "output_type": "stream",
     "text": [
      "The longest consecutive sequence is 4\n"
     ]
    }
   ],
   "source": [
    "\n",
    "\n",
    "\n",
    "def linearSearch(a, num):\n",
    "    n = len(a)  # size of array\n",
    "    for i in range(n):\n",
    "        if a[i] == num:\n",
    "            return True\n",
    "    return False\n",
    "\n",
    "\n",
    "def longestSuccessiveElements(a):\n",
    "    n = len(a)  # size of array\n",
    "    longest = 1\n",
    "    # pick an element and search for its consecutive numbers\n",
    "    for i in range(n):\n",
    "        x = a[i]\n",
    "        cnt = 1\n",
    "        # search for consecutive numbers using linear search\n",
    "        while linearSearch(a, x + 1):\n",
    "            x += 1\n",
    "            cnt += 1\n",
    "\n",
    "        longest = max(longest, cnt)\n",
    "    return longest\n",
    "\n",
    "\n",
    "a = [100, 2, 1, 200, 3, 4]\n",
    "ans = longestSuccessiveElements(a)\n",
    "print(\"The longest consecutive sequence is\", ans)\n",
    "\n"
   ]
  },
  {
   "cell_type": "markdown",
   "metadata": {},
   "source": [
    "OPTIMAL SOLN\n",
    "\n",
    "TC=O(3*N)\n",
    "\n",
    "SC=O(N)"
   ]
  },
  {
   "cell_type": "code",
   "execution_count": 62,
   "metadata": {},
   "outputs": [],
   "source": [
    "def opt_longest(arr):\n",
    "    n=len(arr)\n",
    "    t=set(arr)\n",
    "    arr=list(t)\n",
    "    c=0\n",
    "    print(arr)\n",
    "    for i in range(n-1):\n",
    "        if abs(arr[i]-arr[i+1]) == 1: \n",
    "            c+=1\n",
    "    return c+1"
   ]
  },
  {
   "cell_type": "code",
   "execution_count": 63,
   "metadata": {},
   "outputs": [
    {
     "name": "stdout",
     "output_type": "stream",
     "text": [
      "[0, 3, 5, 6, 7, 8, 9]\n",
      "5\n"
     ]
    }
   ],
   "source": [
    "if __name__=='__main__':\n",
    "    arr=[3, 8, 5,0, 7, 6, 9]\n",
    "    ans= opt_longest(arr)\n",
    "    print(ans)"
   ]
  },
  {
   "cell_type": "markdown",
   "metadata": {},
   "source": [
    "# Set Matrix Zero\n",
    "\n",
    "Problem Statement: Given a matrix if an element in the matrix is 0 then you will have to set its entire column and row to 0 and then return the matrix."
   ]
  },
  {
   "cell_type": "markdown",
   "metadata": {},
   "source": [
    "BETTER APPROACH"
   ]
  },
  {
   "cell_type": "markdown",
   "metadata": {},
   "source": [
    "Time Complexity: O(2*(N*M)), where N = no. of rows in the matrix and M = no. of columns in the matrix.\n",
    "Reason: We are traversing the entire matrix 2 times and each traversal is taking O(N*M) time complexity.\n",
    "\n",
    "Space Complexity: O(N) + O(M), where N = no. of rows in the matrix and M = no. of columns in the matrix."
   ]
  },
  {
   "cell_type": "code",
   "execution_count": 67,
   "metadata": {},
   "outputs": [],
   "source": [
    "def set_zero(arr,m,n):\n",
    "    row=[0]*n\n",
    "    col=[0]*m\n",
    "    for i in range(m):\n",
    "        for j in range(n):\n",
    "            if arr[i][j]==0:\n",
    "                row[j]=1\n",
    "                col[i]=1\n",
    "    \n",
    "    for i in range(m):\n",
    "        for j in range(n):\n",
    "            if row[j]==1 or col[i]==1:\n",
    "                arr[i][j]=0\n",
    "    \n",
    "    return arr\n",
    "    "
   ]
  },
  {
   "cell_type": "code",
   "execution_count": 70,
   "metadata": {},
   "outputs": [
    {
     "name": "stdout",
     "output_type": "stream",
     "text": [
      "The original matrix is:\n",
      "1 1 1 \n",
      "1 0 1 \n",
      "1 1 0 \n",
      "The Final matrix is:\n",
      "1 0 0 \n",
      "0 0 0 \n",
      "0 0 0 \n"
     ]
    }
   ],
   "source": [
    "if __name__ == \"__main__\":\n",
    "\tmatrix = [[1, 1, 1], [1, 0, 1], [1, 1, 0]]\n",
    "\tn = len(matrix)\n",
    "\tm = len(matrix[0])\n",
    "\tprint(\"The original matrix is:\")\n",
    "\tfor row in matrix:\n",
    "\t    for ele in row:\n",
    "\t        print(ele, end=\" \")\n",
    "\t    print()\n",
    "     \n",
    "\tans = set_zero(matrix, n, m)\n",
    "\n",
    "\tprint(\"The Final matrix is:\")\n",
    "\tfor row in ans:\n",
    "\t    for ele in row:\n",
    "\t        print(ele, end=\" \")\n",
    "\t    print()"
   ]
  },
  {
   "cell_type": "markdown",
   "metadata": {},
   "source": [
    "OPTIMAL APPROACH"
   ]
  },
  {
   "cell_type": "code",
   "execution_count": 77,
   "metadata": {},
   "outputs": [],
   "source": [
    "def set_zero_opt(arr,m,n):\n",
    "    col0=1\n",
    "    for i in range(m):\n",
    "        for j in range(n):\n",
    "            if arr[i][j]==0:\n",
    "                arr[i][0]=0\n",
    "                \n",
    "                if j!=0:\n",
    "                    arr[0][j]=0   \n",
    "                else:\n",
    "                    col0=0\n",
    "    for i in range(1,m):\n",
    "        for j in range(1,n):\n",
    "            if arr[i][j]!=0:\n",
    "                if arr[0][j]==0 or arr[i][0]==0:\n",
    "                    arr[i][j]=0  \n",
    "    if arr[0][0]==0:\n",
    "        for j in range(n):\n",
    "            arr[0][j]=0\n",
    "        \n",
    "    if col0==0:\n",
    "        for i in range(m):\n",
    "            arr[i][0]=0\n",
    "    return arr\n",
    "    "
   ]
  },
  {
   "cell_type": "code",
   "execution_count": 79,
   "metadata": {},
   "outputs": [
    {
     "name": "stdout",
     "output_type": "stream",
     "text": [
      "The original matrix is:\n",
      "1 1 1 \n",
      "1 0 1 \n",
      "1 1 0 \n",
      "The Final matrix is:\n",
      "1 0 0 \n",
      "0 0 0 \n",
      "0 0 0 \n"
     ]
    }
   ],
   "source": [
    "if __name__ == \"__main__\":\n",
    "\tmatrix = [[1, 1, 1], [1, 0, 1], [1, 1, 0]]\n",
    "\tn = len(matrix)\n",
    "\tm = len(matrix[0])\n",
    "\tprint(\"The original matrix is:\")\n",
    "\tfor row in matrix:\n",
    "\t    for ele in row:\n",
    "\t        print(ele, end=\" \")\n",
    "\t    print()\n",
    "     \n",
    "\tans = set_zero_opt(matrix, n, m)\n",
    "\n",
    "\tprint(\"The Final matrix is:\")\n",
    "\tfor row in ans:\n",
    "\t    for ele in row:\n",
    "\t        print(ele, end=\" \")\n",
    "\t    print()"
   ]
  },
  {
   "cell_type": "markdown",
   "metadata": {},
   "source": [
    "# Rotate Matrix anti-clockwise by 90 degree"
   ]
  },
  {
   "cell_type": "markdown",
   "metadata": {},
   "source": [
    "Input:   \n",
    "\n",
    "          {{1,2,3},\n",
    "\n",
    "          {4,5,6},\n",
    "\n",
    "          {7,8,9}}\n",
    "Output:\n",
    "\n",
    "        3 6 9 \n",
    "\n",
    "        2 5 8 \n",
    "        \n",
    "        1 4 7 "
   ]
  },
  {
   "cell_type": "code",
   "execution_count": 81,
   "metadata": {},
   "outputs": [],
   "source": [
    "def mat_rot_anti(mat,m,n):\n",
    "    for j in range(n-1,-1,-1):\n",
    "        for i in range(m):\n",
    "            print(mat[i][j], end=' ')\n",
    "        print()"
   ]
  },
  {
   "cell_type": "code",
   "execution_count": 86,
   "metadata": {},
   "outputs": [
    {
     "name": "stdout",
     "output_type": "stream",
     "text": [
      "3 6 9 \n",
      "2 5 8 \n",
      "1 4 7 \n"
     ]
    }
   ],
   "source": [
    "\n",
    "matrix = [[1, 2, 3], [4, 5, 6], [7, 8, 9]]\n",
    "n = len(matrix)\n",
    "m = len(matrix[0])\n",
    "mat_rot_anti(matrix,n,m)"
   ]
  },
  {
   "cell_type": "markdown",
   "metadata": {},
   "source": [
    "# ROATATE CLOCKWISE"
   ]
  },
  {
   "cell_type": "markdown",
   "metadata": {},
   "source": [
    "Input:\n",
    " [[1,2,3],[4,5,6],[7,8,9]]\n",
    "\n",
    "Output\n",
    ": [[7,4,1],[8,5,2],[9,6,3]]"
   ]
  },
  {
   "cell_type": "code",
   "execution_count": 89,
   "metadata": {},
   "outputs": [],
   "source": [
    "def mat_rot_CLOCK(mat,m,n):\n",
    "    for j in range(n):\n",
    "        for i in range(m-1,-1,-1):\n",
    "            print(mat[i][j], end=' ')\n",
    "        print()"
   ]
  },
  {
   "cell_type": "code",
   "execution_count": 90,
   "metadata": {},
   "outputs": [
    {
     "name": "stdout",
     "output_type": "stream",
     "text": [
      "7 4 1 \n",
      "8 5 2 \n",
      "9 6 3 \n"
     ]
    }
   ],
   "source": [
    "\n",
    "matrix = [[1, 2, 3], [4, 5, 6], [7, 8, 9]]\n",
    "n = len(matrix)\n",
    "m = len(matrix[0])\n",
    "mat_rot_CLOCK(matrix,n,m)"
   ]
  },
  {
   "cell_type": "markdown",
   "metadata": {},
   "source": [
    "# Spiral Traversal of Matrix"
   ]
  },
  {
   "cell_type": "code",
   "execution_count": 9,
   "metadata": {},
   "outputs": [],
   "source": [
    "def spiral(mat,m,n):\n",
    "    for i in range(m):\n",
    "        if i %2==0:\n",
    "            for j in range(n):\n",
    "                print(mat[i][j],end=\"  \")\n",
    "        else:\n",
    "            for j in range(n-1,-1,-1):\n",
    "                print(mat[i][j],end=\"  \")\n",
    "        print()\n",
    "        "
   ]
  },
  {
   "cell_type": "code",
   "execution_count": 10,
   "metadata": {},
   "outputs": [
    {
     "name": "stdout",
     "output_type": "stream",
     "text": [
      "1  2  3  4  \n",
      "8  7  6  5  \n",
      "9  10  11  12  \n"
     ]
    }
   ],
   "source": [
    "matrix = [[1, 2, 3,4], [ 5, 6,7,8], [ 9,10,11,12]]\n",
    "n = len(matrix)\n",
    "m = len(matrix[0])\n",
    "spiral(matrix,n,m)"
   ]
  },
  {
   "cell_type": "markdown",
   "metadata": {},
   "source": [
    "# Count Subarray sum Equals K"
   ]
  },
  {
   "cell_type": "markdown",
   "metadata": {},
   "source": [
    "BRUTE FORCE\n",
    "\n",
    "TC=O(N^2)\n",
    "\n",
    "SC=O(1)"
   ]
  },
  {
   "cell_type": "code",
   "execution_count": 14,
   "metadata": {},
   "outputs": [],
   "source": [
    "def count_sub_arr(arr,k):\n",
    "    n = len(arr)\n",
    "    count = 0\n",
    "    for i in range(n):\n",
    "        for j in range(i,n):\n",
    "            if sum(arr[i:j+1]) ==k :\n",
    "                count+=1\n",
    "        \n",
    "    return count"
   ]
  },
  {
   "cell_type": "code",
   "execution_count": 15,
   "metadata": {},
   "outputs": [
    {
     "name": "stdout",
     "output_type": "stream",
     "text": [
      "2\n"
     ]
    }
   ],
   "source": [
    "arr=[2,2,5,1,1,9]\n",
    "ans=count_sub_arr(arr,10)\n",
    "print(ans)"
   ]
  },
  {
   "cell_type": "markdown",
   "metadata": {},
   "source": [
    "OPTIMAL"
   ]
  },
  {
   "cell_type": "markdown",
   "metadata": {},
   "source": [
    "TC=O(N*LOG(N))\n",
    "\n",
    "SC=O(N)"
   ]
  },
  {
   "cell_type": "code",
   "execution_count": 23,
   "metadata": {},
   "outputs": [],
   "source": [
    "def count_better(arr, k):\n",
    "    n = len(arr)\n",
    "    pre_sum_dict = {}\n",
    "    sum = 0\n",
    "    c = 0\n",
    "\n",
    "    for i in range(n):\n",
    "        # Calculate the prefix sum till index i\n",
    "        sum += arr[i]\n",
    "\n",
    "        # If sum == k, update the count\n",
    "        if sum == k:\n",
    "            c += 1\n",
    "\n",
    "        # Calculate the remaining part sum i.e. sum - k\n",
    "        rem = sum - k\n",
    "\n",
    "        # If rem is in the dictionary, add the count of occurrences of rem to c\n",
    "        if rem in pre_sum_dict:\n",
    "            c += pre_sum_dict[rem]\n",
    "\n",
    "        # Update the prefix sum dictionary\n",
    "        if sum in pre_sum_dict:\n",
    "            pre_sum_dict[sum] += 1\n",
    "        else:\n",
    "            pre_sum_dict[sum] = 1\n",
    "\n",
    "    return c\n"
   ]
  },
  {
   "cell_type": "code",
   "execution_count": 25,
   "metadata": {},
   "outputs": [
    {
     "name": "stdout",
     "output_type": "stream",
     "text": [
      "3\n"
     ]
    }
   ],
   "source": [
    "arr=[2,2,5,1,1,9,5,5]\n",
    "ans=count_better(arr,10)\n",
    "print(ans)"
   ]
  }
 ],
 "metadata": {
  "kernelspec": {
   "display_name": "Python 3",
   "language": "python",
   "name": "python3"
  },
  "language_info": {
   "codemirror_mode": {
    "name": "ipython",
    "version": 3
   },
   "file_extension": ".py",
   "mimetype": "text/x-python",
   "name": "python",
   "nbconvert_exporter": "python",
   "pygments_lexer": "ipython3",
   "version": "3.11.4"
  }
 },
 "nbformat": 4,
 "nbformat_minor": 2
}
