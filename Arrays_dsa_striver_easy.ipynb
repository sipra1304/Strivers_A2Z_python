{
 "cells": [
  {
   "cell_type": "markdown",
   "metadata": {},
   "source": [
    "# FIND LARGEST"
   ]
  },
  {
   "cell_type": "markdown",
   "metadata": {},
   "source": [
    "TC=O(N)\n",
    "\n",
    "SC=O(1)"
   ]
  },
  {
   "cell_type": "code",
   "execution_count": 1,
   "metadata": {},
   "outputs": [],
   "source": [
    "def large(arr):\n",
    "    return max(arr)\n"
   ]
  },
  {
   "cell_type": "code",
   "execution_count": 2,
   "metadata": {},
   "outputs": [
    {
     "name": "stdout",
     "output_type": "stream",
     "text": [
      "7\n"
     ]
    }
   ],
   "source": [
    "if __name__ == '__main__':\n",
    "    arr = [1, 2, 4, 6, 7, 5]\n",
    "    print(large(arr))"
   ]
  },
  {
   "cell_type": "markdown",
   "metadata": {},
   "source": [
    "# Second Largest and Second smallest"
   ]
  },
  {
   "cell_type": "markdown",
   "metadata": {},
   "source": [
    "My approach"
   ]
  },
  {
   "cell_type": "markdown",
   "metadata": {},
   "source": [
    "TC= O(N)"
   ]
  },
  {
   "cell_type": "markdown",
   "metadata": {},
   "source": [
    "sc=O(1)"
   ]
  },
  {
   "cell_type": "code",
   "execution_count": 3,
   "metadata": {},
   "outputs": [],
   "source": [
    "def func1(arr,n):\n",
    "    max_s= float('-inf')\n",
    "    maxm=float('-inf')\n",
    "    if n<=1:\n",
    "        return -1\n",
    "    for i in range(n):         \n",
    "        if arr[i]>maxm:\n",
    "            max_s=maxm\n",
    "            maxm=arr[i]\n",
    "        elif arr[i]>max_s  and arr[i]!=maxm:\n",
    "            max_s=arr[i]\n",
    "    return max_s\n",
    "\n",
    "\n",
    "def func2(arr, n):\n",
    "    if (n < 2):\n",
    "        return -1  \n",
    "    small = float('inf')\n",
    "    second_small = float('inf')\n",
    "    for i in range(n):\n",
    "        if (arr[i] < small):\n",
    "            second_small = small\n",
    "            small = arr[i]\n",
    "        elif (arr[i] < second_small and arr[i] != small):\n",
    "            second_small = arr[i]\n",
    "    return second_small\n",
    "\n",
    "def secondSmallest(arr, n):\n",
    "    if (n < 2):\n",
    "        return -1\n",
    "    small = float('inf')\n",
    "    second_small = float('inf')\n",
    "    for i in range(n):\n",
    "        if (arr[i] < small):\n",
    "            second_small = small\n",
    "            small = arr[i]\n",
    "        elif (arr[i] < second_small and arr[i] != small):\n",
    "            second_small = arr[i]\n",
    "    return second_small\n",
    "    \n",
    "            "
   ]
  },
  {
   "cell_type": "code",
   "execution_count": 4,
   "metadata": {},
   "outputs": [
    {
     "name": "stdout",
     "output_type": "stream",
     "text": [
      "6\n",
      "2\n"
     ]
    }
   ],
   "source": [
    "if __name__ == '__main__':\n",
    "    arr = [1, 2, 4, 6, 7, 5]\n",
    "    n = len(arr)\n",
    "    ss=func1(arr, n)\n",
    "    ss2=func2(arr, n)\n",
    "    sl=secondSmallest(arr,n)\n",
    "    print(ss)\n",
    "    print(ss2)\n",
    "   "
   ]
  },
  {
   "cell_type": "code",
   "execution_count": 5,
   "metadata": {},
   "outputs": [],
   "source": [
    "def secondSmallest(arr, n):\n",
    "    if (n < 2):\n",
    "        return -1\n",
    "    small = float('inf')\n",
    "    second_small = float('inf')\n",
    "    for i in range(n):\n",
    "        if (arr[i] < small):\n",
    "            second_small = small\n",
    "            small = arr[i]\n",
    "        elif (arr[i] < second_small and arr[i] != small):\n",
    "            second_small = arr[i]\n",
    "    return second_small\n"
   ]
  },
  {
   "cell_type": "code",
   "execution_count": 6,
   "metadata": {},
   "outputs": [],
   "source": [
    "def secondLargest(arr, n):\n",
    "    if (n < 2):\n",
    "        return -1\n",
    "    large = float('-inf')\n",
    "    second_large = float('-inf')\n",
    "    for i in range(n):\n",
    "        if (arr[i] > large):\n",
    "            second_large = large\n",
    "            large = arr[i]\n",
    "        elif (arr[i] > second_large and arr[i] != large):\n",
    "            second_large = arr[i]\n",
    "    return second_large"
   ]
  },
  {
   "cell_type": "code",
   "execution_count": 7,
   "metadata": {},
   "outputs": [
    {
     "name": "stdout",
     "output_type": "stream",
     "text": [
      "Second smallest is 2\n",
      "Second largest is 5\n"
     ]
    }
   ],
   "source": [
    "if __name__ == \"__main__\":\n",
    "    arr = [1, 2, 4, 7, 7, 5]\n",
    "    n = len(arr)\n",
    "    sS = secondSmallest(arr, n)\n",
    "    sL = secondLargest(arr, n)\n",
    "    print(\"Second smallest is\", sS)\n",
    "    print(\"Second largest is\", sL)"
   ]
  },
  {
   "cell_type": "markdown",
   "metadata": {},
   "source": [
    "# Check if an Array is Sorted"
   ]
  },
  {
   "cell_type": "markdown",
   "metadata": {},
   "source": [
    "Brute Force: TC=O(n^2) SC=O(1)"
   ]
  },
  {
   "cell_type": "code",
   "execution_count": 8,
   "metadata": {},
   "outputs": [],
   "source": [
    "def check_if_sorted(arr,n):\n",
    "    a=1\n",
    "    for i in range(n):\n",
    "        for j in range(i+1,n):\n",
    "            if (arr[i]>arr[j]):\n",
    "                a=0\n",
    "                break\n",
    "        \n",
    "    return a"
   ]
  },
  {
   "cell_type": "code",
   "execution_count": 9,
   "metadata": {},
   "outputs": [
    {
     "name": "stdout",
     "output_type": "stream",
     "text": [
      "False\n"
     ]
    }
   ],
   "source": [
    "if __name__ == \"__main__\":\n",
    "    arr = [1, 2, 3, 7, 5]\n",
    "    n = len(arr)\n",
    "    ans = check_if_sorted(arr, n)\n",
    "    if ans:\n",
    "        print(\"True\")\n",
    "    else:\n",
    "        print(\"False\")\n"
   ]
  },
  {
   "cell_type": "markdown",
   "metadata": {},
   "source": [
    "my approach\n",
    "time complexity=O(n)\n",
    "space complexity=O(2N)"
   ]
  },
  {
   "cell_type": "code",
   "execution_count": 10,
   "metadata": {},
   "outputs": [],
   "source": [
    "def check_if_sorted(arr,n):\n",
    "    a=[]\n",
    "    b=[]\n",
    "    for i in range(n):\n",
    "        a.append(arr[i])\n",
    "        b.append(arr[i])\n",
    "    a.sort()\n",
    "    if b==a:\n",
    "        return True\n",
    "    \n",
    "    return False"
   ]
  },
  {
   "cell_type": "code",
   "execution_count": 11,
   "metadata": {},
   "outputs": [
    {
     "name": "stdout",
     "output_type": "stream",
     "text": [
      "False\n"
     ]
    }
   ],
   "source": [
    "if __name__ == \"__main__\":\n",
    "    arr = [1, 2, 3,43 , 5]\n",
    "    n = len(arr)\n",
    "    ans = check_if_sorted(arr, n)\n",
    "    if ans:\n",
    "        print(\"True\")\n",
    "    else:\n",
    "        print(\"False\")"
   ]
  },
  {
   "cell_type": "markdown",
   "metadata": {},
   "source": [
    "Optimal Solution : TC=O(N) SC=O(1)"
   ]
  },
  {
   "cell_type": "code",
   "execution_count": 12,
   "metadata": {},
   "outputs": [],
   "source": [
    "def check_if_sorted(arr,n):\n",
    "    a=1\n",
    "    for i in range(1,n):\n",
    "        if arr[i-1]>arr[i]:\n",
    "            a=0\n",
    "            break\n",
    "        \n",
    "        \n",
    "    return a"
   ]
  },
  {
   "cell_type": "code",
   "execution_count": 13,
   "metadata": {},
   "outputs": [
    {
     "name": "stdout",
     "output_type": "stream",
     "text": [
      "True\n"
     ]
    }
   ],
   "source": [
    "if __name__ == \"__main__\":\n",
    "    arr = [1, 2, 3,4 , 5]\n",
    "    n = len(arr)\n",
    "    ans = check_if_sorted(arr, n)\n",
    "    if ans:\n",
    "        print(\"True\")\n",
    "    else:\n",
    "        print(\"False\")"
   ]
  },
  {
   "cell_type": "markdown",
   "metadata": {},
   "source": [
    "# linear search"
   ]
  },
  {
   "cell_type": "code",
   "execution_count": 14,
   "metadata": {},
   "outputs": [],
   "source": [
    "def linearSearch(arr,n,x):\n",
    "    for i in range(n):\n",
    "        if (arr[i]==x):\n",
    "            return i+1\n",
    "    return False\n",
    "    "
   ]
  },
  {
   "cell_type": "code",
   "execution_count": 15,
   "metadata": {},
   "outputs": [
    {
     "name": "stdout",
     "output_type": "stream",
     "text": [
      "False\n"
     ]
    }
   ],
   "source": [
    "if __name__ == \"__main__\":\n",
    "    arr = [1, 2, 3, 4, 5]\n",
    "    n = len(arr)\n",
    "    ans = linearSearch(arr, n, 9)\n",
    "    print(ans)"
   ]
  },
  {
   "cell_type": "markdown",
   "metadata": {},
   "source": [
    "# Remove Duplicates in-place from Sorted Array"
   ]
  },
  {
   "cell_type": "markdown",
   "metadata": {},
   "source": [
    "My approach"
   ]
  },
  {
   "cell_type": "markdown",
   "metadata": {},
   "source": [
    "TC= O(N)"
   ]
  },
  {
   "cell_type": "markdown",
   "metadata": {},
   "source": [
    "SC=O(non duplicate elements of arr)"
   ]
  },
  {
   "cell_type": "code",
   "execution_count": 16,
   "metadata": {},
   "outputs": [],
   "source": [
    "def func(arr):\n",
    "    if not arr:\n",
    "        return[]\n",
    "    n=len(arr)\n",
    "    t=[arr[0]]\n",
    "    for i in range(1,n):\n",
    "        \n",
    "        if arr[i]!=arr[i-1]:\n",
    "            t.append(arr[i])\n",
    "        else:\n",
    "            continue\n",
    "    return t\n",
    "\n",
    "        "
   ]
  },
  {
   "cell_type": "code",
   "execution_count": 17,
   "metadata": {},
   "outputs": [
    {
     "name": "stdout",
     "output_type": "stream",
     "text": [
      "[1, 2, 3, 4, 5]\n"
     ]
    }
   ],
   "source": [
    "if __name__ == \"__main__\":\n",
    "    arr = [1, 2, 3,3,4 ,2, 5]\n",
    "    print(func([1, 1, 2, 3, 3, 4, 4, 4, 5])) "
   ]
  },
  {
   "cell_type": "markdown",
   "metadata": {},
   "source": [
    "BRUTE FORCE APPROACH"
   ]
  },
  {
   "cell_type": "markdown",
   "metadata": {},
   "source": [
    "Time complexity: O(n*log(n))+O(n)\n",
    "\n",
    "Space Complexity: O(n)"
   ]
  },
  {
   "cell_type": "code",
   "execution_count": 18,
   "metadata": {},
   "outputs": [],
   "source": [
    "from typing import List\n",
    "\n",
    "def removeDups(arr: List[int]) -> int:\n",
    "    st = set()\n",
    "    for i in range(len(arr)):\n",
    "        st.add(arr[i])\n",
    "    k = len(st)\n",
    "    j = 0\n",
    "    for x in st:\n",
    "        arr[j] = x\n",
    "        j += 1\n",
    "    return k"
   ]
  },
  {
   "cell_type": "code",
   "execution_count": 19,
   "metadata": {},
   "outputs": [
    {
     "name": "stdout",
     "output_type": "stream",
     "text": [
      "5\n",
      "1 2 3 4 5 "
     ]
    }
   ],
   "source": [
    "arr = [1, 1, 2, 3, 3, 4, 4, 4, 5]\n",
    "unique_count = removeDups(arr)\n",
    "print(unique_count)  # Output: 5\n",
    "for i in range (unique_count):\n",
    "    # Output:[1, 2, 3, 4, 5]\n",
    "    print(arr[i], end=' ')"
   ]
  },
  {
   "cell_type": "markdown",
   "metadata": {},
   "source": [
    "OPTIMAL SOLN"
   ]
  },
  {
   "cell_type": "markdown",
   "metadata": {},
   "source": [
    "Time Complexity: O(N)\n",
    "\n",
    "Space Complexity: O(1)"
   ]
  },
  {
   "cell_type": "code",
   "execution_count": 20,
   "metadata": {},
   "outputs": [],
   "source": [
    "def remDups(arr: List[int] )-> int : \n",
    "#The function takes a single parameter arr, which is a list of integers.\n",
    "#The function returns an integer, which is the number of unique elements in the list\n",
    "    i = 0\n",
    "    for j in range(1, len(arr)):\n",
    "        if arr[i] != arr[j]:\n",
    "            \n",
    "            arr[i+1] = arr[j]\n",
    "            i += 1\n",
    "    return i + 1\n",
    "            \n",
    "            "
   ]
  },
  {
   "cell_type": "code",
   "execution_count": 21,
   "metadata": {},
   "outputs": [
    {
     "name": "stdout",
     "output_type": "stream",
     "text": [
      "1 2 3 4 5 "
     ]
    }
   ],
   "source": [
    "if __name__ == \"__main__\":\n",
    "    arr = [1, 2, 3,3,4 , 5]\n",
    "    k = remDups(arr)\n",
    "    for i in range(k):\n",
    "        print(arr[i], end=\" \")\n",
    "    "
   ]
  },
  {
   "cell_type": "markdown",
   "metadata": {},
   "source": [
    "# Left Rotate the Array by One"
   ]
  },
  {
   "cell_type": "markdown",
   "metadata": {},
   "source": [
    "MY APPROACH == Brute Force"
   ]
  },
  {
   "cell_type": "markdown",
   "metadata": {},
   "source": [
    "TC =O(N)\n",
    "\n",
    "SC= O(N)"
   ]
  },
  {
   "cell_type": "code",
   "execution_count": 22,
   "metadata": {},
   "outputs": [],
   "source": [
    "def ltrot(arr):\n",
    "    t=[0]*len(arr)\n",
    "    for i in range(1,len(arr)):\n",
    "        t[i-1]=arr[i]\n",
    "    t[len(arr)-1]=arr[0]\n",
    "    return t\n",
    "        \n",
    "    "
   ]
  },
  {
   "cell_type": "code",
   "execution_count": 23,
   "metadata": {},
   "outputs": [
    {
     "name": "stdout",
     "output_type": "stream",
     "text": [
      "[2, 3, 3, 4, 5, 1]\n"
     ]
    }
   ],
   "source": [
    "if __name__ == \"__main__\":\n",
    "    arr = [1, 2, 3,3,4 , 5]\n",
    "    print(ltrot(arr))"
   ]
  },
  {
   "cell_type": "markdown",
   "metadata": {},
   "source": [
    "Optimal Solution"
   ]
  },
  {
   "cell_type": "markdown",
   "metadata": {},
   "source": [
    "Time Complexity: O(n), as we iterate through the array only once.\n",
    "\n",
    "Space Complexity: O(1) as no extra space is used"
   ]
  },
  {
   "cell_type": "code",
   "execution_count": 24,
   "metadata": {},
   "outputs": [],
   "source": [
    "def letrot(arr):\n",
    "    t =arr[0]\n",
    "    for i in range(1,len(arr)):\n",
    "        arr[i-1]=arr[i]\n",
    "    arr[len(arr)-1] = t\n",
    "    return arr"
   ]
  },
  {
   "cell_type": "code",
   "execution_count": 25,
   "metadata": {},
   "outputs": [
    {
     "name": "stdout",
     "output_type": "stream",
     "text": [
      "[2, 3, 3, 4, 5, 6, 1]\n"
     ]
    }
   ],
   "source": [
    "if __name__ == \"__main__\":\n",
    "    arr = [1, 2, 3,3,4 , 5,6]\n",
    "    print(letrot(arr))"
   ]
  },
  {
   "cell_type": "markdown",
   "metadata": {},
   "source": [
    "# Rotate array by K elements"
   ]
  },
  {
   "cell_type": "markdown",
   "metadata": {},
   "source": [
    "My Approach = Approach1"
   ]
  },
  {
   "cell_type": "markdown",
   "metadata": {},
   "source": [
    "Time Complexity: O(n)\n",
    "\n",
    "Space Complexity: O(k) since k array element needs to be stored in temp array"
   ]
  },
  {
   "cell_type": "code",
   "execution_count": 26,
   "metadata": {},
   "outputs": [],
   "source": [
    "def left_rot_k(arr,k):\n",
    "    t=[0]*k\n",
    "    for i in range(k):\n",
    "        t[i]=arr[i]\n",
    "    for i in range(k,len(arr)):\n",
    "        arr[i-k]=arr[i]\n",
    "    for i in range(k):\n",
    "        arr[len(arr)-k+i]=t[i]\n",
    "    return arr"
   ]
  },
  {
   "cell_type": "code",
   "execution_count": 27,
   "metadata": {},
   "outputs": [
    {
     "name": "stdout",
     "output_type": "stream",
     "text": [
      "[3, 4, 5, 6, 1, 2, 3]\n"
     ]
    }
   ],
   "source": [
    "if __name__ == \"__main__\":\n",
    "    arr = [1, 2, 3,3,4 , 5,6]\n",
    "    print(left_rot_k(arr,3))"
   ]
  },
  {
   "cell_type": "markdown",
   "metadata": {},
   "source": [
    "Approach2"
   ]
  },
  {
   "cell_type": "markdown",
   "metadata": {},
   "source": [
    "TC=O()"
   ]
  },
  {
   "cell_type": "code",
   "execution_count": 28,
   "metadata": {},
   "outputs": [],
   "source": [
    "def reverse(arr, strt, end):\n",
    "    while(strt<=end):\n",
    "        temp=arr[strt]\n",
    "        arr[strt]=arr[end]\n",
    "        arr[end]=temp\n",
    "        strt+=1\n",
    "        end-=1\n",
    "        "
   ]
  },
  {
   "cell_type": "code",
   "execution_count": 29,
   "metadata": {},
   "outputs": [],
   "source": [
    "# function to rotate left\n",
    "def rotate_left(arr,k):\n",
    "    n=len(arr)\n",
    "    # rev first k elements\n",
    "    reverse(arr,0,k-1)\n",
    "    # rev last n-k elements\n",
    "    reverse(arr,k,n-1)\n",
    "    # rev whole array\n",
    "    reverse(arr,0,n-1)\n"
   ]
  },
  {
   "cell_type": "code",
   "execution_count": 30,
   "metadata": {},
   "outputs": [],
   "source": [
    "# function to rotate right\n",
    "def rotate_right(arr,k):\n",
    "    n=len(arr)\n",
    "    # rev first n-k elements\n",
    "    reverse(arr,0,n-k-1)\n",
    "    # rev last k elements\n",
    "    reverse(arr,n-k,n-1)\n",
    "    # rev whole array\n",
    "    reverse(arr,0,n-1)"
   ]
  },
  {
   "cell_type": "code",
   "execution_count": 31,
   "metadata": {},
   "outputs": [
    {
     "name": "stdout",
     "output_type": "stream",
     "text": [
      "[4, 5, 6, 7, 1, 2, 3]\n"
     ]
    }
   ],
   "source": [
    "if __name__ == \"__main__\":\n",
    "    arr =[1, 2, 3, 4, 5, 6, 7]\n",
    "    rotate_left(arr,3)\n",
    "    print(arr)\n",
    "    "
   ]
  },
  {
   "cell_type": "code",
   "execution_count": 32,
   "metadata": {},
   "outputs": [
    {
     "name": "stdout",
     "output_type": "stream",
     "text": [
      "[6, 7, 1, 2, 3, 4, 5]\n"
     ]
    }
   ],
   "source": [
    "if __name__ == \"__main__\":\n",
    "    arr =[1, 2, 3, 4, 5, 6, 7]\n",
    "    rotate_right(arr,2)\n",
    "    print(arr)"
   ]
  },
  {
   "cell_type": "markdown",
   "metadata": {},
   "source": [
    "# Move all Zeros to the end of the array"
   ]
  },
  {
   "cell_type": "markdown",
   "metadata": {},
   "source": [
    "My Approach"
   ]
  },
  {
   "cell_type": "markdown",
   "metadata": {},
   "source": [
    "TC=O(N^2)\n",
    "\n",
    "SC=O(1)"
   ]
  },
  {
   "cell_type": "code",
   "execution_count": 33,
   "metadata": {},
   "outputs": [],
   "source": [
    "def swap(a,b):\n",
    "    t=a\n",
    "    a=b\n",
    "    b=t\n",
    "    "
   ]
  },
  {
   "cell_type": "code",
   "execution_count": 34,
   "metadata": {},
   "outputs": [],
   "source": [
    "def mov_zeros(arr):\n",
    "    n=len(arr)\n",
    "    \n",
    "    for i in range(n-1):\n",
    "        if arr[i]==0:\n",
    "            j=i+1\n",
    "            if arr[j]!=0:\n",
    "                temp=arr[i]\n",
    "                arr[i]=arr[j]\n",
    "                arr[j]=temp     \n",
    "            else:\n",
    "                while(arr[j]==0 and j<n-1):\n",
    "                    j=j+1\n",
    "                temp=arr[i]\n",
    "                arr[i]=arr[j]\n",
    "                arr[j]=temp   \n",
    "    return arr        \n",
    "        \n",
    "    "
   ]
  },
  {
   "cell_type": "code",
   "execution_count": 35,
   "metadata": {},
   "outputs": [
    {
     "name": "stdout",
     "output_type": "stream",
     "text": [
      "[2, 5, 6, 7, 0, 0, 0]\n"
     ]
    }
   ],
   "source": [
    "if __name__ == \"__main__\":\n",
    "    arr =[0, 2,0, 0, 5, 6, 7]\n",
    "    res=mov_zeros(arr)\n",
    "    print(res)"
   ]
  },
  {
   "cell_type": "markdown",
   "metadata": {},
   "source": [
    "BRUTE FORCE"
   ]
  },
  {
   "cell_type": "markdown",
   "metadata": {},
   "source": [
    "TC =O(2*N)\n",
    "\n",
    "SC=O(N)"
   ]
  },
  {
   "cell_type": "code",
   "execution_count": 36,
   "metadata": {},
   "outputs": [],
   "source": [
    "def moveZeros(a,n):\n",
    "    # Temporary array\n",
    "    temp = []\n",
    "    \n",
    "    # Copy non-zero elements from original to temp array\n",
    "    for i in range(n):\n",
    "        if a[i] != 0:\n",
    "            temp.append(a[i])\n",
    "    \n",
    "    # Number of non-zero elements\n",
    "    nz = len(temp)\n",
    "    \n",
    "    # Copy elements from temp to fill first nz fields of original array\n",
    "    for i in range(nz):\n",
    "        a[i] = temp[i]\n",
    "    \n",
    "    # Fill the rest of the cells with 0\n",
    "    for i in range(nz, n):\n",
    "        a[i] = 0\n",
    "    \n",
    "    return a\n",
    "\n",
    "\n"
   ]
  },
  {
   "cell_type": "code",
   "execution_count": 37,
   "metadata": {},
   "outputs": [
    {
     "name": "stdout",
     "output_type": "stream",
     "text": [
      "1 2 3 2 4 5 1 0 0 0 \n"
     ]
    }
   ],
   "source": [
    "arr = [1, 0, 2, 3, 2, 0, 0, 4, 5, 1]\n",
    "n = 10\n",
    "ans = moveZeros(arr,n)\n",
    "for it in ans:\n",
    "    print(it, end=\" \")\n",
    "print()"
   ]
  },
  {
   "cell_type": "markdown",
   "metadata": {},
   "source": [
    "OPTIMAL SOLN"
   ]
  },
  {
   "cell_type": "markdown",
   "metadata": {},
   "source": [
    "TC = O(N)\n",
    "\n",
    "SC =O(1)"
   ]
  },
  {
   "cell_type": "code",
   "execution_count": 38,
   "metadata": {},
   "outputs": [],
   "source": [
    "def mov_zeros_opt(arr):\n",
    "    n=len(arr)\n",
    "    j=-1\n",
    "    \n",
    "    for i in range(n):\n",
    "        if arr[i]==0:\n",
    "            j=i\n",
    "            break\n",
    "    \n",
    "    if j == -1:\n",
    "        return arr\n",
    "    \n",
    "    for i in range(j+1,n):\n",
    "        if arr[i] != 0 :\n",
    "            arr[i],arr[j]=arr[j],arr[i]\n",
    "            j+=1\n",
    "           \n",
    "    return arr        \n",
    "        \n",
    "    "
   ]
  },
  {
   "cell_type": "code",
   "execution_count": 39,
   "metadata": {},
   "outputs": [
    {
     "name": "stdout",
     "output_type": "stream",
     "text": [
      "[2, 5, 6, 7, 0, 0, 0]\n"
     ]
    }
   ],
   "source": [
    "if __name__ == \"__main__\":\n",
    "    arr =[0, 2,0, 0, 5, 6, 7]\n",
    "    res=mov_zeros_opt(arr)\n",
    "    print(res)"
   ]
  },
  {
   "cell_type": "markdown",
   "metadata": {},
   "source": [
    "# Union of Two Sorted Arrays"
   ]
  },
  {
   "cell_type": "code",
   "execution_count": 45,
   "metadata": {},
   "outputs": [],
   "source": [
    "def union(arr1, arr2):\n",
    "    m = len(arr1)\n",
    "    n = len(arr2)\n",
    "    t = []\n",
    "    i = 0\n",
    "    j = 0\n",
    "    \n",
    "    while i < m and j < n:\n",
    "        if arr1[i] <= arr2[j]:\n",
    "            if len(t) == 0 or t[-1] < arr1[i]:\n",
    "                t.append(arr1[i])\n",
    "            i += 1\n",
    "        else:\n",
    "            if len(t) == 0 or t[-1] < arr2[j]:\n",
    "                t.append(arr2[j])\n",
    "            j += 1\n",
    "            \n",
    "    while i < m:\n",
    "        if len(t) == 0 or t[-1] < arr1[i]:\n",
    "            t.append(arr1[i])\n",
    "        i += 1\n",
    "    \n",
    "    while j < n:\n",
    "        if len(t) == 0 or t[-1] < arr2[j]:\n",
    "            t.append(arr2[j])\n",
    "        j += 1\n",
    "            \n",
    "    return t\n"
   ]
  },
  {
   "cell_type": "code",
   "execution_count": 46,
   "metadata": {},
   "outputs": [
    {
     "name": "stdout",
     "output_type": "stream",
     "text": [
      "[0, 1, 2, 3, 4, 5, 6, 7]\n"
     ]
    }
   ],
   "source": [
    "if __name__ == \"__main__\":\n",
    "    arr =[0, 2,0, 0, 5, 6, 7]\n",
    "    brr=[1,1,2,3,4,4,5]\n",
    "    print(union(arr,brr))"
   ]
  },
  {
   "cell_type": "markdown",
   "metadata": {},
   "source": [
    "My approach"
   ]
  },
  {
   "cell_type": "code",
   "execution_count": null,
   "metadata": {},
   "outputs": [],
   "source": [
    "from typing import List"
   ]
  },
  {
   "cell_type": "markdown",
   "metadata": {},
   "source": [
    "TC=very high"
   ]
  },
  {
   "cell_type": "code",
   "execution_count": null,
   "metadata": {},
   "outputs": [],
   "source": [
    "def remDups(arr: List[int] )-> int : \n",
    "#The function takes a single parameter arr, which is a list of integers.\n",
    "#The function returns an integer, which is the number of unique elements in the list\n",
    "    i = 0\n",
    "    arr.sort()\n",
    "    for j in range(1, len(arr)):\n",
    "        if arr[i] != arr[j]:\n",
    "            \n",
    "            arr[i+1] = arr[j]\n",
    "            i += 1\n",
    "    return i + 1"
   ]
  },
  {
   "cell_type": "code",
   "execution_count": null,
   "metadata": {},
   "outputs": [],
   "source": [
    "def union(arr,brr):\n",
    "    t=[]\n",
    "    m=len(arr)\n",
    "    n=len(brr)\n",
    "    i,j=0,0\n",
    "    \n",
    "    while (i<m and j<n):\n",
    "        if (arr[i]<brr[j]):\n",
    "            t.append(arr[i])\n",
    "            i+=1\n",
    "            \n",
    "        elif(arr[i]>brr[j]):\n",
    "            t.append(brr[j])\n",
    "            j+=1\n",
    "        else:\n",
    "            t.append(arr[i])\n",
    "            i+=1\n",
    "            j+=1\n",
    "        \n",
    "    \n",
    "    while (i<m):\n",
    "        t.append(arr[i])\n",
    "        i+=1\n",
    "    while(j<n):\n",
    "        t.append(brr[j])\n",
    "        j+=1\n",
    "        \n",
    "    k=remDups(t)\n",
    "    \n",
    "    for i in range(k):\n",
    "        print(t[i], end=' ')"
   ]
  },
  {
   "cell_type": "code",
   "execution_count": null,
   "metadata": {},
   "outputs": [
    {
     "name": "stdout",
     "output_type": "stream",
     "text": [
      "0 1 2 3 4 5 6 7 "
     ]
    }
   ],
   "source": [
    "if __name__ == \"__main__\":\n",
    "    arr =[0, 2,0, 0, 5, 6, 7]\n",
    "    brr=[1,1,2,3,4,4,5]\n",
    "    union(arr,brr)"
   ]
  },
  {
   "cell_type": "markdown",
   "metadata": {},
   "source": [
    "OPTIMAL SOLN"
   ]
  },
  {
   "cell_type": "markdown",
   "metadata": {},
   "source": [
    "TC=O(N+M)\n",
    "SC=O(M+N)"
   ]
  },
  {
   "cell_type": "code",
   "execution_count": null,
   "metadata": {},
   "outputs": [],
   "source": [
    "def opt_union(arr,brr):\n",
    "    i,j=0,0\n",
    "    t=[]\n",
    "    while i<len(arr) and j< len(brr):\n",
    "        if arr[i]<=brr[j]:\n",
    "            if (len(t)==0 or t[-1]<arr[i]) :\n",
    "                t.append(arr[i])\n",
    "            i+=1\n",
    "        else:\n",
    "            if len(t)==0 or t[-1]<brr[j]:\n",
    "                t.append(brr[j])\n",
    "            j+=1\n",
    "    while i<len(arr):\n",
    "        if len(t)==0 or t[-1]< arr[i]:\n",
    "            t.append(arr[i])\n",
    "        i+=1\n",
    "    while j<len(brr):\n",
    "        if len(t)==0 or t[-1]<brr[j]:\n",
    "            t.append(brr[i])\n",
    "        j+=1\n",
    "    return t"
   ]
  },
  {
   "cell_type": "code",
   "execution_count": null,
   "metadata": {},
   "outputs": [
    {
     "name": "stdout",
     "output_type": "stream",
     "text": [
      "[0, 1, 2, 3, 4, 5, 6, 7]\n"
     ]
    }
   ],
   "source": [
    "if __name__ == \"__main__\":\n",
    "    arr =[0,0,2,\n",
    "          0, 5, 6, 7]\n",
    "    brr=[1,1,2,3,4,4,5]\n",
    "    print(opt_union(arr,brr))"
   ]
  },
  {
   "cell_type": "markdown",
   "metadata": {},
   "source": [
    "# Find the missing number in an array"
   ]
  },
  {
   "cell_type": "markdown",
   "metadata": {},
   "source": [
    "My approach"
   ]
  },
  {
   "cell_type": "code",
   "execution_count": null,
   "metadata": {},
   "outputs": [],
   "source": [
    "def find_missing_num(arr,n):\n",
    "    if len(arr)== n: return -1\n",
    "    arr.sort()\n",
    "    for i in range(1,len(arr)):\n",
    "        if i != arr[i-1]:\n",
    "            return i\n",
    "    return n"
   ]
  },
  {
   "cell_type": "code",
   "execution_count": null,
   "metadata": {},
   "outputs": [
    {
     "name": "stdout",
     "output_type": "stream",
     "text": [
      "3\n"
     ]
    }
   ],
   "source": [
    "if __name__ == \"__main__\":\n",
    "    \n",
    "    brr=[1,2,4,5]\n",
    "    print(find_missing_num(brr,5))"
   ]
  },
  {
   "cell_type": "markdown",
   "metadata": {},
   "source": [
    "BETTER APPROACH : Hashing"
   ]
  },
  {
   "cell_type": "markdown",
   "metadata": {},
   "source": [
    "TC=O(2*n)\n",
    "\n",
    "SC=O(n)"
   ]
  },
  {
   "cell_type": "code",
   "execution_count": null,
   "metadata": {},
   "outputs": [],
   "source": [
    "def find_missing_num(arr,n):\n",
    "    \n",
    "    hash=[0]*(n+1)\n",
    "    for i in range(len(arr)):\n",
    "        hash[arr[i]]+=1\n",
    "        \n",
    "    for i in range(1,len(hash)):\n",
    "        if hash[i+1] ==0:\n",
    "            return i+1\n",
    "    return -1\n",
    "    "
   ]
  },
  {
   "cell_type": "code",
   "execution_count": null,
   "metadata": {},
   "outputs": [
    {
     "name": "stdout",
     "output_type": "stream",
     "text": [
      "3\n"
     ]
    }
   ],
   "source": [
    "if __name__ == \"__main__\":\n",
    "    \n",
    "    brr=[1,2,2,4,4,5]\n",
    "    print(find_missing_num(brr,5))"
   ]
  },
  {
   "cell_type": "markdown",
   "metadata": {},
   "source": [
    "OPTIMAL SOLN 1\n",
    "\n",
    "TC=O(N)\n",
    "SC=O(1)"
   ]
  },
  {
   "cell_type": "code",
   "execution_count": null,
   "metadata": {},
   "outputs": [],
   "source": [
    "def miss_n_1(arr,n):\n",
    "    s1 = (n*(n+1))//2\n",
    "    s2 = 0\n",
    "    for i in range(len(arr)):\n",
    "        s2+=arr[i]\n",
    "    if s1 == s2: return -1\n",
    "    return s1 -s2"
   ]
  },
  {
   "cell_type": "code",
   "execution_count": null,
   "metadata": {},
   "outputs": [
    {
     "name": "stdout",
     "output_type": "stream",
     "text": [
      "6\n"
     ]
    }
   ],
   "source": [
    "if __name__ == \"__main__\":\n",
    "    \n",
    "    brr=[1,2,3,4,7,5]\n",
    "    print(miss_n_1(brr,7))"
   ]
  },
  {
   "cell_type": "markdown",
   "metadata": {},
   "source": [
    "OPTIMAL 2\n",
    "\n",
    "TC=O(N)\n",
    "SC=O(1)"
   ]
  },
  {
   "cell_type": "code",
   "execution_count": null,
   "metadata": {},
   "outputs": [],
   "source": [
    "def miss_xor(arr,n):\n",
    "    x1=0\n",
    "    x2=0\n",
    "    for i in range(n-1):\n",
    "        x1=x1 ^ arr[i]\n",
    "        x2=x2 ^ (i+1)\n",
    "    x2 = x2 ^ n\n",
    "    return x1 ^ x2"
   ]
  },
  {
   "cell_type": "code",
   "execution_count": null,
   "metadata": {},
   "outputs": [
    {
     "name": "stdout",
     "output_type": "stream",
     "text": [
      "6\n"
     ]
    }
   ],
   "source": [
    "if __name__ == \"__main__\":\n",
    "    \n",
    "    brr=[1,2,4,3,7,5]\n",
    "    print(miss_xor(brr,7))"
   ]
  },
  {
   "cell_type": "markdown",
   "metadata": {},
   "source": [
    "# Count Maximum Consecutive One's in the array"
   ]
  },
  {
   "cell_type": "markdown",
   "metadata": {},
   "source": [
    "My approach==soln\n",
    "\n",
    "TC=O(N)\n",
    "\n",
    "SC=O(1)"
   ]
  },
  {
   "cell_type": "code",
   "execution_count": null,
   "metadata": {},
   "outputs": [],
   "source": [
    "def max_cons_ones(arr):\n",
    "    c=0\n",
    "    max_length=0\n",
    "    i=0\n",
    "    while i<=(len(arr)-2):\n",
    "        if arr[i]==1 and arr[i+1]==1:\n",
    "            c+=1\n",
    "            max_length=max(c,max_length)\n",
    "        else:c=0\n",
    "        \n",
    "        i+=1\n",
    "        \n",
    "    return max_length+1"
   ]
  },
  {
   "cell_type": "code",
   "execution_count": null,
   "metadata": {},
   "outputs": [
    {
     "name": "stdout",
     "output_type": "stream",
     "text": [
      "3\n"
     ]
    }
   ],
   "source": [
    "if __name__ == \"__main__\":\n",
    "    nums = [1, 1, 0, 1, 1,1,0,1,0, 1,1]\n",
    "    obj = max_cons_ones(nums)\n",
    "    print(obj)"
   ]
  },
  {
   "cell_type": "markdown",
   "metadata": {},
   "source": [
    "# Find the number that appears once, and the other numbers twice"
   ]
  },
  {
   "cell_type": "markdown",
   "metadata": {},
   "source": [
    "MY APPROACH"
   ]
  },
  {
   "cell_type": "markdown",
   "metadata": {},
   "source": [
    "TC=O(2*n)+O(max(arr)+1)\n",
    "\n",
    "SC=O(max(arr)+1)"
   ]
  },
  {
   "cell_type": "code",
   "execution_count": null,
   "metadata": {},
   "outputs": [],
   "source": [
    "def find_singular(arr):\n",
    "    hash=[0]*(max(arr)+1)\n",
    "    \n",
    "    for i in range(len(arr)):\n",
    "        hash[arr[i]]+=1\n",
    "    for i in range(len(hash)):\n",
    "        if hash[i]==1:\n",
    "            return i\n",
    "    return -1\n",
    "    \n",
    "    "
   ]
  },
  {
   "cell_type": "markdown",
   "metadata": {},
   "source": [
    "TC=O(n*log(m))+O(m); m= size of dict\n",
    "\n",
    "SC=O(max(arr)+1)"
   ]
  },
  {
   "cell_type": "code",
   "execution_count": null,
   "metadata": {},
   "outputs": [],
   "source": [
    "def find_singular2(arr):\n",
    "    hash={}\n",
    "    \n",
    "    for num in arr:\n",
    "        hash[num]=hash.get(num,0)+1\n",
    "        \n",
    "    for i in hash.keys():\n",
    "        if hash[i]==1:\n",
    "            return i\n",
    "    return -1"
   ]
  },
  {
   "cell_type": "code",
   "execution_count": null,
   "metadata": {},
   "outputs": [
    {
     "name": "stdout",
     "output_type": "stream",
     "text": [
      "5\n"
     ]
    }
   ],
   "source": [
    "if __name__ == \"__main__\":\n",
    "    nums = [1, 1, 2, 5, 0,0,2]\n",
    "    obj = find_singular(nums)\n",
    "    print(obj)"
   ]
  },
  {
   "cell_type": "code",
   "execution_count": null,
   "metadata": {},
   "outputs": [
    {
     "name": "stdout",
     "output_type": "stream",
     "text": [
      "5\n"
     ]
    }
   ],
   "source": [
    "if __name__ == \"__main__\":\n",
    "    nums = [1, 1, 2, 5, 0,0,2]\n",
    "    obj = find_singular2(nums)\n",
    "    print(obj)"
   ]
  },
  {
   "cell_type": "markdown",
   "metadata": {},
   "source": [
    "OPTIMAL APPROACH"
   ]
  },
  {
   "cell_type": "markdown",
   "metadata": {},
   "source": [
    "TC=O(n)\n",
    "\n",
    "SC=O(1)"
   ]
  },
  {
   "cell_type": "code",
   "execution_count": null,
   "metadata": {},
   "outputs": [],
   "source": [
    "def opt_singular(arr):\n",
    "    x=0\n",
    "    for i in range(len(arr)):\n",
    "        x=x^arr[i]\n",
    "    return x"
   ]
  },
  {
   "cell_type": "code",
   "execution_count": null,
   "metadata": {},
   "outputs": [
    {
     "name": "stdout",
     "output_type": "stream",
     "text": [
      "5\n"
     ]
    }
   ],
   "source": [
    "if __name__ == \"__main__\":\n",
    "    nums = [1, 1, 2, 5, 0,0,2]\n",
    "    obj = opt_singular(nums)\n",
    "    print(obj)"
   ]
  },
  {
   "cell_type": "markdown",
   "metadata": {},
   "source": [
    "# Longest Subarray with given Sum K(Positives)"
   ]
  },
  {
   "cell_type": "markdown",
   "metadata": {},
   "source": [
    "my approach edited by bb"
   ]
  },
  {
   "cell_type": "markdown",
   "metadata": {},
   "source": [
    "TC=O(N^2)\n",
    "\n",
    "SC=O(1)"
   ]
  },
  {
   "cell_type": "code",
   "execution_count": null,
   "metadata": {},
   "outputs": [],
   "source": [
    "def long_sub(arr,k):\n",
    "    n=len(arr)\n",
    "    i=0\n",
    "    b=0\n",
    "    j=0\n",
    "    while(i<n):\n",
    "        t=0\n",
    "        temp=k\n",
    "        j=i\n",
    "        while (j<=n-1 and temp>0):\n",
    "            temp-=arr[j]\n",
    "            if temp>=0:\n",
    "                t+=1\n",
    "            j+=1\n",
    "        b=max(t,b)\n",
    "        i=i+1\n",
    "        \n",
    "    return b"
   ]
  },
  {
   "cell_type": "code",
   "execution_count": null,
   "metadata": {},
   "outputs": [
    {
     "name": "stdout",
     "output_type": "stream",
     "text": [
      "4\n"
     ]
    }
   ],
   "source": [
    "arr=[2,2,5,1,1,9]\n",
    "ans=long_sub(arr,10)\n",
    "print(ans)"
   ]
  },
  {
   "cell_type": "markdown",
   "metadata": {},
   "source": [
    "Brute force optimized"
   ]
  },
  {
   "cell_type": "markdown",
   "metadata": {},
   "source": [
    "TC=O(N^2)\n",
    "\n",
    "SC=O(1)"
   ]
  },
  {
   "cell_type": "code",
   "execution_count": null,
   "metadata": {},
   "outputs": [],
   "source": [
    "def longest_sub_arr(arr,k):\n",
    "    n = len(arr)\n",
    "    max_len = 0\n",
    "    for i in range(n):\n",
    "        for j in range(i,n):\n",
    "            if sum(arr[i:j+1]) ==k and j-i+1 > max_len:\n",
    "                max_len=j-i+1\n",
    "        \n",
    "    return max_len"
   ]
  },
  {
   "cell_type": "code",
   "execution_count": null,
   "metadata": {},
   "outputs": [
    {
     "name": "stdout",
     "output_type": "stream",
     "text": [
      "3\n"
     ]
    }
   ],
   "source": [
    "arr=a = [-1, 1, 1]\n",
    "ans=longest_sub_arr(arr,1)\n",
    "print(ans)"
   ]
  },
  {
   "cell_type": "markdown",
   "metadata": {},
   "source": [
    "bettter soln (vvi)"
   ]
  },
  {
   "cell_type": "markdown",
   "metadata": {},
   "source": [
    "Time Complexity: O(N) or O(N*logN) \n",
    "\n",
    "''' \n",
    "depending on which map data structure we are using, where N = size of the array.\n",
    "Reason: For example, if we are using an unordered_map data structure in C++ the time complexity will be O(N)(though in the worst case, unordered_map takes O(N) to find an element and the time complexity becomes O(N2)) but if we are using a map data structure, the time complexity will be O(N*logN). The least complexity will be O(N) as we are using a loop to traverse the array.\n",
    "'''\n",
    "\n",
    "Space Complexity: O(N) as we are using a map data structure"
   ]
  },
  {
   "cell_type": "code",
   "execution_count": null,
   "metadata": {},
   "outputs": [],
   "source": [
    "def longest_better(arr,k):\n",
    "    n= len(arr)\n",
    "    pre_sum_dict={}\n",
    "    sum=0\n",
    "    max_len=0\n",
    "    for i in range(n):\n",
    "        \n",
    "        #calc the prefix sum till index i\n",
    "        sum+=arr[i]\n",
    "        \n",
    "        #if sum==k, update the maxlen\n",
    "        if sum==k:\n",
    "            max_len=max(max_len,i+1)\n",
    "        \n",
    "        #calculate sum of remaining part i.e x-k\n",
    "        rem= sum-k\n",
    "        \n",
    "        # Calculate the length and update maxLen:\n",
    "        if rem in pre_sum_dict:\n",
    "            max_len=max(max_len,i-pre_sum_dict[rem])\n",
    "            \n",
    "        if sum not in pre_sum_dict:\n",
    "            pre_sum_dict[sum]=i\n",
    "            \n",
    "    return max_len"
   ]
  },
  {
   "cell_type": "code",
   "execution_count": null,
   "metadata": {},
   "outputs": [
    {
     "name": "stdout",
     "output_type": "stream",
     "text": [
      "6\n"
     ]
    }
   ],
   "source": [
    "arr=[2,1,5,-1,1,2,-9]\n",
    "ans=longest_better(arr,10)\n",
    "print(ans)"
   ]
  },
  {
   "cell_type": "markdown",
   "metadata": {},
   "source": [
    "OPTIMAL SOLN"
   ]
  },
  {
   "cell_type": "markdown",
   "metadata": {},
   "source": [
    "Time Complexity: O(2*N)\n",
    "\n",
    "Space Complexity: O(1)"
   ]
  },
  {
   "cell_type": "code",
   "execution_count": null,
   "metadata": {},
   "outputs": [
    {
     "name": "stdout",
     "output_type": "stream",
     "text": [
      "The length of the longest subarray is: 3\n"
     ]
    }
   ],
   "source": [
    "def getLongestSubarray(arr, k):\n",
    "    n = len(arr) # size of the array.\n",
    "\n",
    "    left, right = 0, 0 # 2 pointers\n",
    "    Sum = arr[0]\n",
    "    maxLen = 0\n",
    "    while right < n:\n",
    "        # if sum > k, reduce the subarray from left\n",
    "        # until sum becomes less or equal to k:\n",
    "        while left <= right and Sum > k:\n",
    "            Sum -= arr[left]\n",
    "            left += 1\n",
    "\n",
    "        # if sum = k, update the maxLen i.e. answer:\n",
    "        if Sum == k:\n",
    "            maxLen = max(maxLen, right - left + 1)\n",
    "\n",
    "        # Move forward the right pointer:\n",
    "        right += 1\n",
    "        if right < n: Sum += arr[right]\n",
    "\n",
    "    return maxLen\n",
    "\n",
    "\n",
    "if __name__ == \"__main__\":\n",
    "\ta = [2, 2, 5,5, 1,4,1, 9]\n",
    "\tk = 10\n",
    "\n",
    "\tlength = getLongestSubarray(a, k)\n",
    "\tprint(f\"The length of the longest subarray is: {length}\")"
   ]
  },
  {
   "cell_type": "markdown",
   "metadata": {},
   "source": [
    "# Longest Subarray with sum K | [Postives and Negatives]"
   ]
  },
  {
   "cell_type": "code",
   "execution_count": null,
   "metadata": {},
   "outputs": [],
   "source": [
    "def longest_sub_arr(arr,k):\n",
    "    n = len(arr)\n",
    "    max_len = 0\n",
    "    for i in range(n):\n",
    "        for j in range(i,n):\n",
    "            if sum(arr[i:j+1]) ==k and j-i+1 > max_len:\n",
    "                max_len=j-i+1\n",
    "        \n",
    "    return max_len"
   ]
  },
  {
   "cell_type": "code",
   "execution_count": null,
   "metadata": {},
   "outputs": [],
   "source": [
    "def longest_better(arr,k):\n",
    "    n= len(arr)\n",
    "    pre_sum_dict={}\n",
    "    sum=0\n",
    "    max_len=0\n",
    "    for i in range(n):\n",
    "        \n",
    "        #calc the prefix sum till index i\n",
    "        sum+=arr[i]\n",
    "        \n",
    "        #if sum==k, update the maxlen\n",
    "        if sum==k:\n",
    "            max_len=max(max_len,i+1)\n",
    "        \n",
    "        #calculate sum of remaining part i.e x-k\n",
    "        rem= sum-k\n",
    "        \n",
    "        # Calculate the length and update maxLen:\n",
    "        if rem in pre_sum_dict:\n",
    "            max_len=max(max_len,i-pre_sum_dict[rem])\n",
    "            \n",
    "        if sum not in pre_sum_dict:\n",
    "            pre_sum_dict[sum]=i\n",
    "            \n",
    "    return max_len\n",
    "            \n",
    "        "
   ]
  },
  {
   "cell_type": "code",
   "execution_count": null,
   "metadata": {},
   "outputs": [
    {
     "name": "stdout",
     "output_type": "stream",
     "text": [
      "6\n"
     ]
    }
   ],
   "source": [
    "arr=[2,1,5,-1,1,2,-9]\n",
    "ans=longest_better(arr,10)\n",
    "print(ans)"
   ]
  },
  {
   "cell_type": "markdown",
   "metadata": {},
   "source": [
    "#   Find all subarrays"
   ]
  },
  {
   "cell_type": "code",
   "execution_count": null,
   "metadata": {},
   "outputs": [],
   "source": [
    "def find_all(arr):\n",
    "    for i in range(len(arr)):\n",
    "        \n",
    "        for j in range(i,len(arr)):\n",
    "            \n",
    "            print(arr[i:j+1], end=' ')\n",
    "        print()\n",
    "        "
   ]
  },
  {
   "cell_type": "code",
   "execution_count": null,
   "metadata": {},
   "outputs": [
    {
     "name": "stdout",
     "output_type": "stream",
     "text": [
      "[2] [2, 1] [2, 1, 5] [2, 1, 5, -9] \n",
      "[1] [1, 5] [1, 5, -9] \n",
      "[5] [5, -9] \n",
      "[-9] \n"
     ]
    }
   ],
   "source": [
    "arr=[2,1,5,-9]\n",
    "find_all(arr)\n"
   ]
  }
 ],
 "metadata": {
  "kernelspec": {
   "display_name": "Python 3",
   "language": "python",
   "name": "python3"
  },
  "language_info": {
   "codemirror_mode": {
    "name": "ipython",
    "version": 3
   },
   "file_extension": ".py",
   "mimetype": "text/x-python",
   "name": "python",
   "nbconvert_exporter": "python",
   "pygments_lexer": "ipython3",
   "version": "3.11.4"
  }
 },
 "nbformat": 4,
 "nbformat_minor": 2
}
