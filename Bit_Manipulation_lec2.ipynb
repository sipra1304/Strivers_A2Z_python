{
 "cells": [
  {
   "cell_type": "markdown",
   "metadata": {},
   "source": [
    "# Find the number that appears odd number of times"
   ]
  },
  {
   "cell_type": "markdown",
   "metadata": {},
   "source": [
    "TC = O(N)\n",
    "\n",
    "SC= O(1)"
   ]
  },
  {
   "cell_type": "code",
   "execution_count": 1,
   "metadata": {},
   "outputs": [],
   "source": [
    "def findodd(arr):\n",
    "    xor1=0\n",
    "    for i in range(len(arr)):\n",
    "        xor1=xor1 ^ arr[i]\n",
    "    return xor1   "
   ]
  },
  {
   "cell_type": "code",
   "execution_count": 2,
   "metadata": {},
   "outputs": [
    {
     "name": "stdout",
     "output_type": "stream",
     "text": [
      "2\n"
     ]
    }
   ],
   "source": [
    "arr=[4,4,8,9,8,2,9]\n",
    "print(findodd(arr))"
   ]
  },
  {
   "cell_type": "markdown",
   "metadata": {},
   "source": [
    "# Count number of bits to be flipped to convert A to B"
   ]
  },
  {
   "cell_type": "markdown",
   "metadata": {},
   "source": [
    "TC = O(flip bits)\n",
    "\n",
    "SC = O(1)"
   ]
  },
  {
   "cell_type": "code",
   "execution_count": 3,
   "metadata": {},
   "outputs": [],
   "source": [
    "def count_flip(a,b):\n",
    "    result=a^b\n",
    "    c=0\n",
    "    while result!=0:\n",
    "        c+=result&1\n",
    "        result>>=1\n",
    "    return c"
   ]
  },
  {
   "cell_type": "code",
   "execution_count": 4,
   "metadata": {},
   "outputs": [
    {
     "name": "stdout",
     "output_type": "stream",
     "text": [
      "1\n"
     ]
    }
   ],
   "source": [
    "print(count_flip(15,7))"
   ]
  },
  {
   "cell_type": "markdown",
   "metadata": {},
   "source": [
    "# Find XOR of numbers from L to R."
   ]
  },
  {
   "cell_type": "markdown",
   "metadata": {},
   "source": [
    "TC = O(1)\n",
    "\n",
    "SC= O(1)"
   ]
  },
  {
   "cell_type": "code",
   "execution_count": 1,
   "metadata": {},
   "outputs": [],
   "source": [
    "def xorLR(L,R):\n",
    "    def xor1r(r):\n",
    "        if r%4 == 0:\n",
    "            return r\n",
    "        if r%4==1:\n",
    "            return r\n",
    "        if r%4==2:\n",
    "            return r+1\n",
    "        if r%4==3:\n",
    "            return 0\n",
    "    return xor1r(R) ^ xor1r(L-1)"
   ]
  },
  {
   "cell_type": "code",
   "execution_count": 3,
   "metadata": {},
   "outputs": [
    {
     "data": {
      "text/plain": [
       "0"
      ]
     },
     "execution_count": 3,
     "metadata": {},
     "output_type": "execute_result"
    }
   ],
   "source": [
    "xorLR(4,7)"
   ]
  },
  {
   "cell_type": "markdown",
   "metadata": {},
   "source": [
    "# Two numbers with odd occurrences"
   ]
  },
  {
   "cell_type": "markdown",
   "metadata": {},
   "source": [
    "TC = O(2*N)\n",
    "\n",
    "SC = O(1)"
   ]
  },
  {
   "cell_type": "code",
   "execution_count": null,
   "metadata": {},
   "outputs": [],
   "source": [
    "def findodd2(arr):\n",
    "    xor1=0\n",
    "    for i in range(len(arr)):\n",
    "        xor1=xor1 ^ arr[i]\n",
    "    r=xor1 & -xor1\n",
    "    \n",
    "    g1,g2=0,0\n",
    "    for n in arr:\n",
    "        \n",
    "        if n & r:\n",
    "            g1=g1^ n\n",
    "        else:\n",
    "            g2=g2^ n\n",
    "        \n",
    "\n",
    "    return g1,g2 "
   ]
  },
  {
   "cell_type": "markdown",
   "metadata": {},
   "source": [
    "# POWER SET"
   ]
  },
  {
   "cell_type": "markdown",
   "metadata": {},
   "source": [
    "TC = O((2^N)*N)\n",
    "\n",
    "SC= O(2^N)"
   ]
  },
  {
   "cell_type": "code",
   "execution_count": 4,
   "metadata": {},
   "outputs": [],
   "source": [
    "def powset(arr):\n",
    "    n=len(arr)\n",
    "    res=[]\n",
    "    for i in range(1<<n):\n",
    "        subset=[]\n",
    "        for j in range(n):\n",
    "            if (i & (1 << j)):\n",
    "                subset.append(arr[j])\n",
    "        res.append(subset)\n",
    "    return res               "
   ]
  }
 ],
 "metadata": {
  "kernelspec": {
   "display_name": "Python 3",
   "language": "python",
   "name": "python3"
  },
  "language_info": {
   "codemirror_mode": {
    "name": "ipython",
    "version": 3
   },
   "file_extension": ".py",
   "mimetype": "text/x-python",
   "name": "python",
   "nbconvert_exporter": "python",
   "pygments_lexer": "ipython3",
   "version": "3.11.4"
  }
 },
 "nbformat": 4,
 "nbformat_minor": 2
}
