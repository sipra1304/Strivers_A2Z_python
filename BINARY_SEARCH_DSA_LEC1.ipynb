{
 "cells": [
  {
   "cell_type": "markdown",
   "metadata": {},
   "source": [
    "# Binary Search"
   ]
  },
  {
   "cell_type": "code",
   "execution_count": 10,
   "metadata": {},
   "outputs": [],
   "source": [
    "def bs(arr,k):\n",
    "    l=0\n",
    "    r=len(arr)-1\n",
    "    while l<=r:\n",
    "        mid= (l+r)//2\n",
    "        if arr[mid]==k:\n",
    "            return mid\n",
    "        elif k<arr[mid]:\n",
    "            r=mid-1\n",
    "        else:\n",
    "            l=mid+1   \n",
    "    return -1     "
   ]
  },
  {
   "cell_type": "code",
   "execution_count": 4,
   "metadata": {},
   "outputs": [
    {
     "name": "stdout",
     "output_type": "stream",
     "text": [
      "The target is at index: 2\n"
     ]
    }
   ],
   "source": [
    "\n",
    "if __name__ == \"__main__\":\n",
    "    a = [3, 4, 6, 7, 9, 12, 16, 17]\n",
    "    target = 6\n",
    "    ind = bs(a, target)\n",
    "    if ind == -1:\n",
    "        print(\"The target is not present.\")\n",
    "    else:\n",
    "        print(\"The target is at index:\", ind)"
   ]
  },
  {
   "cell_type": "markdown",
   "metadata": {},
   "source": [
    "# Implement Lower Bound"
   ]
  },
  {
   "cell_type": "markdown",
   "metadata": {},
   "source": [
    "Time Complexity: O(logN), where N = size of the given array.\n",
    "Reason: We are basically using the Binary Search algorithm.\n",
    "\n",
    "Space Complexity: O(1) as we are using no extra space."
   ]
  },
  {
   "cell_type": "code",
   "execution_count": 5,
   "metadata": {},
   "outputs": [],
   "source": [
    "def lowbound(arr,k):\n",
    "    l=0\n",
    "    r=len(arr)-1\n",
    "    lb=-1\n",
    "    while l<=r:\n",
    "        mid= (l+r)//2\n",
    "        if arr[mid]>=k:\n",
    "            lb=mid\n",
    "            r=mid-1\n",
    "        else:\n",
    "            \n",
    "            l=mid+1   \n",
    "    return lb    "
   ]
  },
  {
   "cell_type": "code",
   "execution_count": 7,
   "metadata": {},
   "outputs": [
    {
     "name": "stdout",
     "output_type": "stream",
     "text": [
      "The lower bound is the index: 3\n"
     ]
    }
   ],
   "source": [
    "if __name__ == \"__main__\":\n",
    "    arr = [3, 5, 8, 15, 19]\n",
    "    n = 5\n",
    "    x = 9\n",
    "    ind = lowbound(arr, x)\n",
    "    print(\"The lower bound is the index:\", ind)"
   ]
  },
  {
   "cell_type": "markdown",
   "metadata": {},
   "source": [
    "# Upper Bound"
   ]
  },
  {
   "cell_type": "code",
   "execution_count": 8,
   "metadata": {},
   "outputs": [],
   "source": [
    "def uppbound(arr,k):\n",
    "    l=0\n",
    "    r=len(arr)-1\n",
    "    lb=-1\n",
    "    while l<=r:\n",
    "        mid= (l+r)//2\n",
    "        if arr[mid]>k:\n",
    "            lb=mid\n",
    "            r=mid-1\n",
    "        else:\n",
    "            \n",
    "            l=mid+1   \n",
    "    return lb    "
   ]
  },
  {
   "cell_type": "code",
   "execution_count": 10,
   "metadata": {},
   "outputs": [
    {
     "name": "stdout",
     "output_type": "stream",
     "text": [
      "The upper bound is the index: 3\n"
     ]
    }
   ],
   "source": [
    "if __name__ == \"__main__\":\n",
    "    arr = [1,2,2,3]\n",
    "    n = 6\n",
    "    x = 2\n",
    "    ind = uppbound(arr, x)\n",
    "    print(\"The upper bound is the index:\", ind)"
   ]
  },
  {
   "cell_type": "markdown",
   "metadata": {},
   "source": [
    "# Search Insert Position"
   ]
  },
  {
   "cell_type": "markdown",
   "metadata": {},
   "source": [
    "Problem Statement: You are given a sorted array arr of distinct values and a target value x. You need to search for the index of the target value in the array."
   ]
  },
  {
   "cell_type": "code",
   "execution_count": 12,
   "metadata": {},
   "outputs": [],
   "source": [
    "def searchInsert(arr,k):\n",
    "    l=0\n",
    "    r=len(arr)-1\n",
    "    lb=-1\n",
    "    while l<=r:\n",
    "        mid= (l+r)//2\n",
    "        if arr[mid]==k:return mid\n",
    "        \n",
    "        elif arr[mid]>k:\n",
    "            lb=mid\n",
    "            r=mid-1\n",
    "        else:\n",
    "            l=mid+1   \n",
    "    return lb   "
   ]
  },
  {
   "cell_type": "code",
   "execution_count": 13,
   "metadata": {},
   "outputs": [
    {
     "name": "stdout",
     "output_type": "stream",
     "text": [
      "The index is: 3\n"
     ]
    }
   ],
   "source": [
    "if __name__ == \"__main__\":\n",
    "    arr = [1, 2, 4, 7]\n",
    "    x = 6\n",
    "    ind = searchInsert(arr, x)\n",
    "    print(\"The index is:\", ind)"
   ]
  },
  {
   "cell_type": "markdown",
   "metadata": {},
   "source": [
    "# Floor and Ceil in Sorted Array"
   ]
  },
  {
   "cell_type": "markdown",
   "metadata": {},
   "source": [
    "Problem Statement: You're given an sorted array arr of n integers and an integer x. Find the floor and ceiling of x in arr[0..n-1].\n",
    "The floor of x is the largest element in the array which is smaller than or equal to x.\n",
    "The ceiling of x is the smallest element in the array greater than or equal to x"
   ]
  },
  {
   "cell_type": "markdown",
   "metadata": {},
   "source": [
    "TC = O(2*(log(n)))"
   ]
  },
  {
   "cell_type": "markdown",
   "metadata": {},
   "source": [
    "SC =  O(1)"
   ]
  },
  {
   "cell_type": "code",
   "execution_count": 25,
   "metadata": {},
   "outputs": [],
   "source": [
    "def ceiling(arr,k):\n",
    "    l=0\n",
    "    r=len(arr)-1\n",
    "    lb=-1\n",
    "    while l<=r:\n",
    "        mid= (l+r)//2\n",
    "        if arr[mid]>=k:\n",
    "            lb=mid\n",
    "            r=mid-1\n",
    "        else:\n",
    "            \n",
    "            l=mid+1   \n",
    "    return arr[lb]    "
   ]
  },
  {
   "cell_type": "code",
   "execution_count": 6,
   "metadata": {},
   "outputs": [],
   "source": [
    "def floor(arr,k):\n",
    "    l=0\n",
    "    r=len(arr)-1\n",
    "    lb=-1\n",
    "    while l<=r:\n",
    "        mid= (l+r)//2\n",
    "        if arr[mid]<=k:\n",
    "            lb=mid\n",
    "            l=mid+1\n",
    "        else:\n",
    "            \n",
    "            r=mid-1\n",
    "    return arr[lb]   "
   ]
  },
  {
   "cell_type": "code",
   "execution_count": 8,
   "metadata": {},
   "outputs": [],
   "source": [
    "def floorCeiling(arr,k):\n",
    "    floorValue=floor(arr,k)\n",
    "    ceilingValue = ceiling(arr,k)\n",
    "    return (floorValue, ceilingValue)"
   ]
  },
  {
   "cell_type": "code",
   "execution_count": 9,
   "metadata": {},
   "outputs": [
    {
     "name": "stdout",
     "output_type": "stream",
     "text": [
      "The floor and ceil are: 4 7\n"
     ]
    }
   ],
   "source": [
    "arr = [3, 4, 4, 7, 8, 10]\n",
    "n = 6\n",
    "x = 5\n",
    "ans = floorCeiling(arr, x)\n",
    "print(\"The floor and ceil are:\", ans[0], ans[1])"
   ]
  },
  {
   "cell_type": "markdown",
   "metadata": {},
   "source": [
    "# Last occurrence in a sorted array "
   ]
  },
  {
   "cell_type": "markdown",
   "metadata": {},
   "source": [
    "TC = O(log(n))\n",
    "\n",
    "SC=O(1)"
   ]
  },
  {
   "cell_type": "code",
   "execution_count": 28,
   "metadata": {},
   "outputs": [],
   "source": [
    "def floor_index(arr,k):\n",
    "    l=0\n",
    "    r=len(arr)-1\n",
    "    lb=-1\n",
    "    while l<=r:\n",
    "        mid= (l+r)//2\n",
    "        if arr[mid]<=k:\n",
    "            lb=mid\n",
    "            l=mid+1\n",
    "        else:\n",
    "            \n",
    "            r=mid-1\n",
    "    return lb   "
   ]
  },
  {
   "cell_type": "code",
   "execution_count": 30,
   "metadata": {},
   "outputs": [
    {
     "name": "stdout",
     "output_type": "stream",
     "text": [
      "The floor and ceil are: 3\n"
     ]
    }
   ],
   "source": [
    "arr = [3, 4, 4,4,7, 8]\n",
    "n = 6\n",
    "x = 4\n",
    "ans = floor_index(arr, x)\n",
    "print(\"The floor and ceil are:\", ans)"
   ]
  },
  {
   "cell_type": "markdown",
   "metadata": {},
   "source": [
    "# Count Occurrences in Sorted Array"
   ]
  },
  {
   "cell_type": "markdown",
   "metadata": {},
   "source": [
    "Time Complexity: O(2*logN), where N = size of the given array.\n",
    "Reason: We are basically using the binary search algorithm twice.\n",
    "\n",
    "Space Complexity: O(1) as we are using no extra space."
   ]
  },
  {
   "cell_type": "code",
   "execution_count": 32,
   "metadata": {},
   "outputs": [],
   "source": [
    "def floor_index(arr,k):\n",
    "    l=0\n",
    "    r=len(arr)-1\n",
    "    lb=-1\n",
    "    while l<=r:\n",
    "        mid= (l+r)//2\n",
    "        if arr[mid]<=k:\n",
    "            lb=mid\n",
    "            l=mid+1\n",
    "        else:\n",
    "            \n",
    "            r=mid-1\n",
    "    return lb   "
   ]
  },
  {
   "cell_type": "code",
   "execution_count": 31,
   "metadata": {},
   "outputs": [],
   "source": [
    "def ceiling_index(arr,k):\n",
    "    l=0\n",
    "    r=len(arr)-1\n",
    "    lb=-1\n",
    "    while l<=r:\n",
    "        mid= (l+r)//2\n",
    "        if arr[mid]>=k:\n",
    "            lb=mid\n",
    "            r=mid-1\n",
    "        else:\n",
    "            \n",
    "            l=mid+1   \n",
    "    return lb  "
   ]
  },
  {
   "cell_type": "code",
   "execution_count": 38,
   "metadata": {},
   "outputs": [
    {
     "name": "stdout",
     "output_type": "stream",
     "text": [
      "The floor and ceil are: 8\n"
     ]
    }
   ],
   "source": [
    "arr = [3, 4, 4,4,4,4,4,4,4,7, 8]\n",
    "n = 6\n",
    "x = 4\n",
    "ans = floor_index(arr, x) - ceiling_index(arr,x) +1\n",
    "print(\"The floor and ceil are:\", ans)"
   ]
  },
  {
   "cell_type": "markdown",
   "metadata": {},
   "source": [
    "# Find out how many times the array has been rotated"
   ]
  },
  {
   "cell_type": "markdown",
   "metadata": {},
   "source": [
    "TC = 2*LOG(N)"
   ]
  },
  {
   "cell_type": "markdown",
   "metadata": {},
   "source": [
    "SC = O(1)"
   ]
  },
  {
   "cell_type": "code",
   "execution_count": 56,
   "metadata": {},
   "outputs": [],
   "source": [
    "def findMin(arr):\n",
    "    low=0\n",
    "    high=len(arr)-1\n",
    "    ans=float('inf')\n",
    "    index=-1\n",
    "    while low<=high:\n",
    "        mid=(low+high)//2\n",
    "        if arr[low]<= arr[high]:\n",
    "            if arr[low] < ans:\n",
    "                index = low\n",
    "                ans = arr[low]\n",
    "            break\n",
    "        if arr[low]<=arr[mid]:\n",
    "            # Keep the minimum\n",
    "            if arr[low] < ans:\n",
    "                index = low\n",
    "                ans = arr[low]\n",
    "\n",
    "            # Eliminate left half\n",
    "            low = mid + 1\n",
    "        else:\n",
    "            # Keep the minimum\n",
    "            if arr[mid] < ans:\n",
    "                index = mid\n",
    "                ans = arr[mid]\n",
    "\n",
    "            # Eliminate right half\n",
    "            high = mid - 1\n",
    "    return index"
   ]
  },
  {
   "cell_type": "code",
   "execution_count": 57,
   "metadata": {},
   "outputs": [
    {
     "name": "stdout",
     "output_type": "stream",
     "text": [
      "The floor and ceil are: 1\n"
     ]
    }
   ],
   "source": [
    "arr = [8,1,2,3,4,5,6,7]\n",
    "x = 4\n",
    "ans = findMin(arr)\n",
    "print(\"The floor and ceil are:\", ans)"
   ]
  },
  {
   "cell_type": "markdown",
   "metadata": {},
   "source": [
    "# Search Single Element in a sorted array"
   ]
  },
  {
   "cell_type": "markdown",
   "metadata": {},
   "source": [
    "MY APPROACH = BRUTE FORCE"
   ]
  },
  {
   "cell_type": "markdown",
   "metadata": {},
   "source": [
    "TC = O(N)\n",
    "\n",
    "SC=O(1)"
   ]
  },
  {
   "cell_type": "code",
   "execution_count": 1,
   "metadata": {},
   "outputs": [],
   "source": [
    "def search_single(arr):\n",
    "    k=0\n",
    "    for i in range(len(arr)):\n",
    "        k=k^arr[i]\n",
    "    return k  "
   ]
  },
  {
   "cell_type": "code",
   "execution_count": 2,
   "metadata": {},
   "outputs": [
    {
     "name": "stdout",
     "output_type": "stream",
     "text": [
      "The single element is: 4\n"
     ]
    }
   ],
   "source": [
    "arr = [1, 1, 2, 2, 3, 3, 4, 5, 5, 6, 6]\n",
    "ans = search_single(arr)\n",
    "print(\"The single element is:\", ans)"
   ]
  },
  {
   "cell_type": "markdown",
   "metadata": {},
   "source": [
    "OPTIMAL APPROACH"
   ]
  },
  {
   "cell_type": "markdown",
   "metadata": {},
   "source": [
    "Time Complexity: O(logN), N = size of the given array.\n",
    "Reason: We are basically using the Binary Search algorithm.\n",
    "\n",
    "Space Complexity: O(1) as we are not using any extra space."
   ]
  },
  {
   "cell_type": "code",
   "execution_count": 4,
   "metadata": {},
   "outputs": [],
   "source": [
    "def search_nondup(arr):\n",
    "    n=len(arr)\n",
    "    \n",
    "    if n==1:\n",
    "        return arr[0]\n",
    "    if arr[0]!=arr[1]:\n",
    "        return arr[0]\n",
    "    if arr[n-1]!=arr[n-1]:\n",
    "        return arr[n-1]\n",
    "    \n",
    "    l=1\n",
    "    h=n-2\n",
    "    while l<=h:\n",
    "        mid=(l+h)//2\n",
    "        \n",
    "        if arr[mid]!=arr[mid-1] and arr[mid]!=arr[mid+1]:\n",
    "            return arr[mid]\n",
    "        \n",
    "        if (mid % 2 == 1 and arr[mid] == arr[mid - 1]) or (mid % 2 == 0 and arr[mid] == arr[mid + 1]):\n",
    "            l=mid+1\n",
    "        else:\n",
    "            h=mid-1\n",
    "            \n",
    "    return -1"
   ]
  },
  {
   "cell_type": "code",
   "execution_count": 5,
   "metadata": {},
   "outputs": [
    {
     "name": "stdout",
     "output_type": "stream",
     "text": [
      "The single element is: 4\n"
     ]
    }
   ],
   "source": [
    "arr = [1, 1, 2, 2, 3, 3, 4, 5, 5, 6, 6]\n",
    "ans = search_nondup(arr)\n",
    "print(\"The single element is:\", ans)"
   ]
  },
  {
   "cell_type": "markdown",
   "metadata": {},
   "source": [
    "# Search Element in Rotated Sorted Array II"
   ]
  },
  {
   "cell_type": "markdown",
   "metadata": {},
   "source": [
    "Withh dupss\n",
    "\n",
    "TC=O(log(n))\n",
    "\n",
    "SC=O(1)"
   ]
  },
  {
   "cell_type": "code",
   "execution_count": 10,
   "metadata": {},
   "outputs": [],
   "source": [
    "def searchRot(arr,k):\n",
    "    low=0\n",
    "    high=len(arr)-1\n",
    "    \n",
    "    while low<=high:\n",
    "        \n",
    "        mid=(low+high)//2\n",
    "        if arr[mid]== k:\n",
    "            return True\n",
    "        \n",
    "        # Edge case:\n",
    "        if arr[low] == arr[mid] and arr[mid] == arr[high]:\n",
    "            low += 1\n",
    "            high -= 1\n",
    "            continue\n",
    "\n",
    "        if arr[low]<=arr[mid]:\n",
    "            if k < arr[mid] and k>= arr[low]:\n",
    "                high=mid-1\n",
    "                \n",
    "            else:\n",
    "                low=mid+1\n",
    "                \n",
    "        else:\n",
    "            if k > arr[mid] and k<= arr[high]:\n",
    "                low = mid +1\n",
    "            else:\n",
    "                high = mid -1\n",
    "    return False"
   ]
  },
  {
   "cell_type": "code",
   "execution_count": 11,
   "metadata": {},
   "outputs": [
    {
     "name": "stdout",
     "output_type": "stream",
     "text": [
      "Target is present in the array.\n"
     ]
    }
   ],
   "source": [
    "if __name__ == \"__main__\":\n",
    "    arr = [7, 8, 1, 2, 3, 3, 3, 4, 5, 6]\n",
    "    k = 3\n",
    "    ans = searchRot(arr, k)\n",
    "    if not ans:\n",
    "        print(\"Target is not present.\")\n",
    "    else:\n",
    "        print(\"Target is present in the array.\")"
   ]
  },
  {
   "cell_type": "markdown",
   "metadata": {},
   "source": [
    "# Peak element in Array"
   ]
  },
  {
   "cell_type": "markdown",
   "metadata": {},
   "source": [
    "Problem Statement: Given an array of length N. Peak element is defined as the element greater than both of its neighbors. Formally, if 'arr[i]' is the peak element, 'arr[i - 1]' < 'arr[i]' and 'arr[i + 1]' < 'arr[i]'. Find the index(0-based) of a peak element in the array. If there are multiple peak numbers, return the index of any peak number"
   ]
  },
  {
   "cell_type": "markdown",
   "metadata": {},
   "source": [
    "TC=O(LOG(N))\n",
    "\n",
    "SC=O(1); considering the peak array stored all the peak elements only"
   ]
  },
  {
   "cell_type": "code",
   "execution_count": 25,
   "metadata": {},
   "outputs": [],
   "source": [
    "def find_peak(arr):\n",
    "    count=0\n",
    "    l=1\n",
    "    n=len(arr)\n",
    "    h=n-2\n",
    "    peak=[]\n",
    "    if arr[0]>arr[1]:\n",
    "        count+=1\n",
    "        peak.append(arr[0])\n",
    "    if arr[n-1]>arr[n-2]:\n",
    "        count+=1\n",
    "        peak.append(arr[n-1])\n",
    "    while l<=h:\n",
    "        m=(l+h)//2\n",
    "        if arr[m]>arr[m-1] and arr[m]>arr[m+1]:\n",
    "            count+=1\n",
    "            peak.append(arr[m])\n",
    "        if arr[m]>arr[m-1]:\n",
    "            l=m+1\n",
    "        else:\n",
    "            h=m-1\n",
    "            \n",
    "    print(\"PEAK COUNT:\", count)\n",
    "    return peak"
   ]
  },
  {
   "cell_type": "code",
   "execution_count": 26,
   "metadata": {},
   "outputs": [
    {
     "name": "stdout",
     "output_type": "stream",
     "text": [
      "PEAK COUNT: 3\n"
     ]
    },
    {
     "data": {
      "text/plain": [
       "[5, 6, 8]"
      ]
     },
     "execution_count": 26,
     "metadata": {},
     "output_type": "execute_result"
    }
   ],
   "source": [
    "arr = [5, 2, 3, 4, 5, 6, 7, 8, 5, 6]\n",
    "ans = find_peak(arr)\n",
    "ans"
   ]
  }
 ],
 "metadata": {
  "kernelspec": {
   "display_name": "Python 3",
   "language": "python",
   "name": "python3"
  },
  "language_info": {
   "codemirror_mode": {
    "name": "ipython",
    "version": 3
   },
   "file_extension": ".py",
   "mimetype": "text/x-python",
   "name": "python",
   "nbconvert_exporter": "python",
   "pygments_lexer": "ipython3",
   "version": "3.11.5"
  }
 },
 "nbformat": 4,
 "nbformat_minor": 2
}
