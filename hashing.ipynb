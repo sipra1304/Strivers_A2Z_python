{
 "cells": [
  {
   "cell_type": "markdown",
   "metadata": {},
   "source": [
    "# Integer Hashing"
   ]
  },
  {
   "cell_type": "code",
   "execution_count": 15,
   "metadata": {},
   "outputs": [],
   "source": [
    "def hashing(arr,q):\n",
    "    hash=[0]*(max(q)+1)\n",
    "    \n",
    "    for i in range(len(arr)):\n",
    "        hash[arr[i]] += 1\n",
    "    \n",
    "    for x in q:\n",
    "        print(f\"Count of {x}: {hash[x]}\")\n",
    "        \n",
    "        "
   ]
  },
  {
   "cell_type": "code",
   "execution_count": 16,
   "metadata": {},
   "outputs": [
    {
     "name": "stdout",
     "output_type": "stream",
     "text": [
      "Count of 1: 2\n",
      "Count of 2: 2\n",
      "Count of 5: 0\n",
      "Count of 7: 0\n",
      "Count of 4: 2\n"
     ]
    }
   ],
   "source": [
    "input_array = [1, 1, 2, 3, 4, 2, 3, 6, 4]\n",
    "query_elements = [1, 2, 5, 7, 4]\n",
    "hashing(input_array,query_elements)\n"
   ]
  },
  {
   "cell_type": "markdown",
   "metadata": {},
   "source": [
    "# Integer Hashing Improved"
   ]
  },
  {
   "cell_type": "code",
   "execution_count": 1,
   "metadata": {},
   "outputs": [
    {
     "name": "stdout",
     "output_type": "stream",
     "text": [
      "{1: 2, 2: 2, 5: 0, 7: 0, 4: 2}\n"
     ]
    }
   ],
   "source": [
    "def integer_array_hashing(input_array, query_elements):\n",
    "    # Step 1: Create a dictionary to store the frequency of each element in the input array\n",
    "    frequency_dict = {}\n",
    "    for num in input_array:\n",
    "        if num in frequency_dict:\n",
    "            frequency_dict[num] += 1\n",
    "        else:\n",
    "            frequency_dict[num] = 1\n",
    "    \n",
    "    # Step 2: Create a result dictionary to store the frequency of the query elements\n",
    "    result_dict = {}\n",
    "    for elem in query_elements:\n",
    "        # Use the dictionary's get method to return 0 if the element is not found\n",
    "        result_dict[elem] = frequency_dict.get(elem, 0)\n",
    "    \n",
    "    return result_dict\n",
    "\n",
    "# Example usage\n",
    "input_array = [1, 1, 2, 3, 4, 2, 3, 6, 4]\n",
    "query_elements = [1, 2, 5, 7, 4]\n",
    "output = integer_array_hashing(input_array, query_elements)\n",
    "print(output)  # Output: {1: 2, 2: 2, 5: 0, 7: 0, 4: 2}"
   ]
  },
  {
   "cell_type": "code",
   "execution_count": 4,
   "metadata": {},
   "outputs": [
    {
     "data": {
      "text/plain": [
       "9"
      ]
     },
     "execution_count": 4,
     "metadata": {},
     "output_type": "execute_result"
    }
   ],
   "source": [
    "len(input_array)"
   ]
  },
  {
   "cell_type": "markdown",
   "metadata": {},
   "source": [
    "# Character Hashing"
   ]
  },
  {
   "cell_type": "code",
   "execution_count": 25,
   "metadata": {},
   "outputs": [],
   "source": [
    "def hashing_char(s,q):\n",
    "    hash=[0]*26\n",
    "    \n",
    "    for i in range(len(s)):\n",
    "        hash[ord(s[i]) - 97] += 1\n",
    "    \n",
    "    while q != 0:\n",
    "        x = input(\"Enter a character: \")\n",
    "        if len(x) == 1 and 'a' <= x <= 'z':\n",
    "            print(f\"Count of {x}: {hash[ord(x) - 97]}\")\n",
    "        else:\n",
    "            print(\"Invalid input. Please enter a single lowercase letter.\")\n",
    "        q -= 1"
   ]
  },
  {
   "cell_type": "code",
   "execution_count": 26,
   "metadata": {},
   "outputs": [
    {
     "name": "stdout",
     "output_type": "stream",
     "text": [
      "Count of f: 0\n",
      "Count of c: 2\n",
      "Count of a: 1\n",
      "Count of b: 2\n",
      "Count of b: 2\n"
     ]
    }
   ],
   "source": [
    "hashing_char('abcbggecd',5)"
   ]
  },
  {
   "cell_type": "markdown",
   "metadata": {},
   "source": [
    "# Find the highest/lowest frequency element"
   ]
  },
  {
   "cell_type": "code",
   "execution_count": 47,
   "metadata": {},
   "outputs": [],
   "source": [
    "def integer_array_hashing(input_array):\n",
    "    # Step 1: Create a dictionary to store the frequency of each element in the input array\n",
    "    frequency_dict = {}\n",
    "    for num in input_array:\n",
    "        if num in frequency_dict:\n",
    "            frequency_dict[num] += 1\n",
    "        else:\n",
    "            frequency_dict[num] = 1\n",
    "    high=0\n",
    "    high_element=None\n",
    "    low=float('inf')\n",
    "    low_element=None\n",
    "    for i in input_array:\n",
    "        if frequency_dict[i] > high:\n",
    "            high=frequency_dict[i]\n",
    "            high_element=i\n",
    "        if frequency_dict[i] < low:\n",
    "            low=frequency_dict[i]\n",
    "            low_element=i\n",
    "    return high_element, low_element"
   ]
  },
  {
   "cell_type": "code",
   "execution_count": 48,
   "metadata": {},
   "outputs": [
    {
     "name": "stdout",
     "output_type": "stream",
     "text": [
      "(1, 6)\n"
     ]
    }
   ],
   "source": [
    "# Example usage\n",
    "input_array = [1, 1, 2, 3, 4, 2, 3, 6, 4]\n",
    "query_elements = [1, 2, 5, 7, 4]\n",
    "output = integer_array_hashing(input_array)\n",
    "print(output)  # Output: {1: 2, 2: 2, 5: 0, 7: 0, 4: 2}"
   ]
  }
 ],
 "metadata": {
  "kernelspec": {
   "display_name": "Python 3",
   "language": "python",
   "name": "python3"
  },
  "language_info": {
   "codemirror_mode": {
    "name": "ipython",
    "version": 3
   },
   "file_extension": ".py",
   "mimetype": "text/x-python",
   "name": "python",
   "nbconvert_exporter": "python",
   "pygments_lexer": "ipython3",
   "version": "3.11.4"
  }
 },
 "nbformat": 4,
 "nbformat_minor": 2
}
