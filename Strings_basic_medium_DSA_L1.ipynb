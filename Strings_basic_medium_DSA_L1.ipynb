{
 "cells": [
  {
   "cell_type": "markdown",
   "metadata": {},
   "source": [
    "# REMOVE OUTERMOST PARANTHESIS"
   ]
  },
  {
   "cell_type": "markdown",
   "metadata": {},
   "source": [
    "TC=O(len(s))"
   ]
  },
  {
   "cell_type": "code",
   "execution_count": 3,
   "metadata": {},
   "outputs": [],
   "source": [
    "def removr(s):\n",
    "    ans=''\n",
    "    count =0\n",
    "    for i in s:\n",
    "        if i == '(':\n",
    "            if count >=1:\n",
    "                ans+=i\n",
    "            count +=1\n",
    "        elif i==')':\n",
    "            if count >1:\n",
    "                ans +=i\n",
    "            count -=1\n",
    "        else:\n",
    "            ans+=i  \n",
    "    return ans"
   ]
  },
  {
   "cell_type": "code",
   "execution_count": 5,
   "metadata": {},
   "outputs": [
    {
     "name": "stdout",
     "output_type": "stream",
     "text": [
      "(ab)(c)d\n"
     ]
    }
   ],
   "source": [
    "s=removr(\"((ab)(c)d)\")\n",
    "print(s)"
   ]
  },
  {
   "cell_type": "markdown",
   "metadata": {},
   "source": [
    "# Reverse Words in a String"
   ]
  },
  {
   "cell_type": "markdown",
   "metadata": {},
   "source": [
    "Time Complexity: O(N), N~length of string\n",
    "\n",
    "Space Complexity: O(1), Constant Space"
   ]
  },
  {
   "cell_type": "code",
   "execution_count": 13,
   "metadata": {},
   "outputs": [],
   "source": [
    "def rev(s):\n",
    "    l=0\n",
    "    r=len(s)-1\n",
    "    temp=''\n",
    "    ans=''\n",
    "    while l<=r:\n",
    "        c=s[l]\n",
    "        if (c!=' '):\n",
    "            temp+=c\n",
    "            \n",
    "        elif c==' ':\n",
    "            if ans !='': ans= temp+' '+ans\n",
    "            else:  ans = temp\n",
    "            temp = ''\n",
    "        l+=1\n",
    "    \n",
    "    if temp != '':\n",
    "        if (ans!=''): ans = temp+' '+ans\n",
    "        else: ans = temp\n",
    "    \n",
    "    return ans\n",
    "    "
   ]
  },
  {
   "cell_type": "code",
   "execution_count": 14,
   "metadata": {},
   "outputs": [
    {
     "name": "stdout",
     "output_type": "stream",
     "text": [
      "on going be should preparation DSA\n"
     ]
    }
   ],
   "source": [
    "s ='DSA preparation should be going on'\n",
    "print(rev(s))"
   ]
  },
  {
   "cell_type": "markdown",
   "metadata": {},
   "source": [
    "# Largest Odd Number in String"
   ]
  },
  {
   "cell_type": "code",
   "execution_count": 17,
   "metadata": {},
   "outputs": [],
   "source": [
    "def largest(s):\n",
    "    t=''\n",
    "    for i in range(len(s)):\n",
    "        if s[i]>t: t=s[i]\n",
    "    return t"
   ]
  },
  {
   "cell_type": "code",
   "execution_count": 19,
   "metadata": {},
   "outputs": [
    {
     "name": "stdout",
     "output_type": "stream",
     "text": [
      "8\n"
     ]
    }
   ],
   "source": [
    "s ='6874'\n",
    "print(largest(s))"
   ]
  },
  {
   "cell_type": "markdown",
   "metadata": {},
   "source": [
    "# Longest Common Prefix"
   ]
  },
  {
   "cell_type": "markdown",
   "metadata": {},
   "source": [
    "TC = O(min(len(first),len(last)))\n",
    "\n",
    "SC = O(1)"
   ]
  },
  {
   "cell_type": "code",
   "execution_count": 23,
   "metadata": {},
   "outputs": [],
   "source": [
    "def longest_prefix(s):\n",
    "    ans = \"\"\n",
    "    s.sort()\n",
    "    first = s[0]\n",
    "    last = s[-1]\n",
    "    for i in range(min(len(first),len(last))):\n",
    "        if first[i] != last[i]:\n",
    "            return ans\n",
    "        ans += first[i]\n",
    "    return ans"
   ]
  },
  {
   "cell_type": "code",
   "execution_count": 26,
   "metadata": {},
   "outputs": [
    {
     "name": "stdout",
     "output_type": "stream",
     "text": [
      "fli\n"
     ]
    }
   ],
   "source": [
    "s = [\"fliower\",\"fliow\",\"flight\"]\n",
    "print(longest_prefix(s))"
   ]
  },
  {
   "cell_type": "markdown",
   "metadata": {},
   "source": [
    "# ISOMORPHIC STRING"
   ]
  },
  {
   "cell_type": "markdown",
   "metadata": {},
   "source": [
    "## My approach"
   ]
  },
  {
   "cell_type": "markdown",
   "metadata": {},
   "source": [
    "Time complexity of O(n), where n is the length of the strings\n",
    "\n",
    "Space complexity of O(n) due to the hash dictionary."
   ]
  },
  {
   "cell_type": "code",
   "execution_count": 27,
   "metadata": {},
   "outputs": [],
   "source": [
    "def isiso(s,t):\n",
    "    if len(s) != len(t):\n",
    "        return False\n",
    "    hash={}\n",
    "    for i in range(len(s)):\n",
    "        if s[i] not in hash:\n",
    "            hash[s[i]] = t[i]\n",
    "        else:\n",
    "            if hash[s[i]] != t[i]:\n",
    "                return False\n",
    "    return True"
   ]
  },
  {
   "cell_type": "code",
   "execution_count": 32,
   "metadata": {},
   "outputs": [
    {
     "name": "stdout",
     "output_type": "stream",
     "text": [
      "False\n"
     ]
    }
   ],
   "source": [
    "print(isiso(\"egg\",\"add\"))"
   ]
  },
  {
   "cell_type": "markdown",
   "metadata": {},
   "source": [
    "## OPTIMAL"
   ]
  },
  {
   "cell_type": "markdown",
   "metadata": {},
   "source": [
    "Time complexity of O(n), where n is the length of the strings\n",
    "\n",
    "Space complexity of O(1) "
   ]
  },
  {
   "cell_type": "code",
   "execution_count": 35,
   "metadata": {},
   "outputs": [],
   "source": [
    "def isiso_opt(s, t):\n",
    "    if len(s) != len(t):\n",
    "        return False\n",
    "    #using fixed-size arrays\n",
    "    s_to_t = [0] * 200\n",
    "    t_to_s = [0] * 200\n",
    "    for i in range(len(s)):\n",
    "        if s_to_t[ord(s[i])] != t_to_s[ord(t[i])]:\n",
    "            return False\n",
    "        s_to_t[ord(s[i])] = i+1\n",
    "        t_to_s[ord(t[i])] = i+1\n",
    "    return True"
   ]
  },
  {
   "cell_type": "code",
   "execution_count": 37,
   "metadata": {},
   "outputs": [
    {
     "name": "stdout",
     "output_type": "stream",
     "text": [
      "False\n"
     ]
    }
   ],
   "source": [
    "print(isiso_opt(\"egg\",\"aid\"))"
   ]
  },
  {
   "cell_type": "markdown",
   "metadata": {},
   "source": [
    "# Check if two Strings are anagrams of each other"
   ]
  },
  {
   "cell_type": "markdown",
   "metadata": {},
   "source": [
    "## My Approach"
   ]
  },
  {
   "cell_type": "markdown",
   "metadata": {},
   "source": [
    "Time Complexity: O(2*(nlogn)) since sorting function requires nlogn iterations.\n",
    "\n",
    "Space Complexity: O(1)"
   ]
  },
  {
   "cell_type": "code",
   "execution_count": 4,
   "metadata": {},
   "outputs": [],
   "source": [
    "def is_anagram(s,t):\n",
    "    if (len(s) != len(t)): return False\n",
    "    s=sorted(s[0:])\n",
    "    t=sorted(t[0:])\n",
    "    \n",
    "    if s == t:\n",
    "        return True\n",
    "    \n",
    "    return False"
   ]
  },
  {
   "cell_type": "code",
   "execution_count": 6,
   "metadata": {},
   "outputs": [
    {
     "name": "stdout",
     "output_type": "stream",
     "text": [
      "False\n"
     ]
    }
   ],
   "source": [
    "print(is_anagram(\"isa\",\"aid\"))"
   ]
  },
  {
   "cell_type": "markdown",
   "metadata": {},
   "source": [
    "## Optimal"
   ]
  },
  {
   "cell_type": "markdown",
   "metadata": {},
   "source": [
    "Time Complexity: O(2*n) where n is the length of string\n",
    "\n",
    "Space Complexity: O(1) "
   ]
  },
  {
   "cell_type": "code",
   "execution_count": 5,
   "metadata": {},
   "outputs": [],
   "source": [
    "def is_anagram(s,t):\n",
    "    if (len(s) != len(t)): return False\n",
    "    freq=[0]*26\n",
    "    \n",
    "    for i in range(len(s)):\n",
    "        freq[ord(s[i])-ord('a')]+=1\n",
    "    for i in range(len(t)):\n",
    "        freq[ord(t[i])-ord('a')]-=1\n",
    "        \n",
    "    for i in range(26):\n",
    "        if freq[i]!=0: return False\n",
    "    return True"
   ]
  },
  {
   "cell_type": "code",
   "execution_count": 7,
   "metadata": {},
   "outputs": [
    {
     "name": "stdout",
     "output_type": "stream",
     "text": [
      "True\n"
     ]
    }
   ],
   "source": [
    "print(is_anagram(\"ida\",\"aid\"))"
   ]
  },
  {
   "cell_type": "markdown",
   "metadata": {},
   "source": [
    "# Rotate String"
   ]
  },
  {
   "cell_type": "markdown",
   "metadata": {},
   "source": [
    "## My Approach"
   ]
  },
  {
   "cell_type": "markdown",
   "metadata": {},
   "source": [
    "TC = O(3*n)  n = len(s)\n",
    "\n",
    "SC=O(1)"
   ]
  },
  {
   "cell_type": "code",
   "execution_count": 8,
   "metadata": {},
   "outputs": [],
   "source": [
    "def is_rotated(s,t):\n",
    "    if (len(s) != len(t)): return False\n",
    "    i=0    \n",
    "    while i<len(s):\n",
    "        if t[i]==s[0]:\n",
    "            break\n",
    "        i+=1\n",
    "    j=i\n",
    "    i=0\n",
    "    while j < len(s):\n",
    "        if t[j]!=s[i]:return False\n",
    "        i+=1\n",
    "        j+=1\n",
    "    j=0\n",
    "    while i < len(s):\n",
    "        if t[j]!=s[i]:return False\n",
    "        i+=1\n",
    "        j+=1 \n",
    "    return True"
   ]
  },
  {
   "cell_type": "code",
   "execution_count": 10,
   "metadata": {},
   "outputs": [
    {
     "name": "stdout",
     "output_type": "stream",
     "text": [
      "False\n"
     ]
    }
   ],
   "source": [
    "print(is_rotated(\"iad\",\"aid\"))"
   ]
  }
 ],
 "metadata": {
  "kernelspec": {
   "display_name": "Python 3",
   "language": "python",
   "name": "python3"
  },
  "language_info": {
   "codemirror_mode": {
    "name": "ipython",
    "version": 3
   },
   "file_extension": ".py",
   "mimetype": "text/x-python",
   "name": "python",
   "nbconvert_exporter": "python",
   "pygments_lexer": "ipython3",
   "version": "3.11.4"
  }
 },
 "nbformat": 4,
 "nbformat_minor": 2
}
