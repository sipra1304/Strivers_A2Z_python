{
 "cells": [
  {
   "cell_type": "markdown",
   "metadata": {},
   "source": [
    "# Find the row with maximum number of 1's"
   ]
  },
  {
   "cell_type": "markdown",
   "metadata": {},
   "source": [
    "## BRUTE FORCE"
   ]
  },
  {
   "cell_type": "markdown",
   "metadata": {},
   "source": [
    "Time Complexity: O(n X m), where n = given row number, m = given column number.\n",
    "Reason: We are using nested loops running for n and m times respectively.\n",
    "\n",
    "Space Complexity: O(1) as we are not using any extra space."
   ]
  },
  {
   "cell_type": "code",
   "execution_count": 2,
   "metadata": {},
   "outputs": [],
   "source": [
    "def find_max1s(mat):\n",
    "  \n",
    "    l=0\n",
    "    h=len(mat)-1\n",
    "    row=0\n",
    "    maxi = float('-inf')\n",
    "    for i in range(len(mat)):\n",
    "        s = sum(mat[i])\n",
    "        if s > maxi:\n",
    "            maxi = s\n",
    "            row=i\n",
    "    \n",
    "    if maxi == 0:\n",
    "        return -1\n",
    "    \n",
    "    return row"
   ]
  },
  {
   "cell_type": "code",
   "execution_count": 4,
   "metadata": {},
   "outputs": [
    {
     "name": "stdout",
     "output_type": "stream",
     "text": [
      "The row with maximum no. of 1's is: 2\n"
     ]
    }
   ],
   "source": [
    "if __name__ == \"__main__\":\n",
    "    matrix = [[1, 0, 0], [0, 0, 1], [1, 0, 1]]\n",
    "    n = 3\n",
    "    m = 3\n",
    "    print(\"The row with maximum no. of 1's is:\", find_max1s(matrix))\n"
   ]
  },
  {
   "cell_type": "markdown",
   "metadata": {},
   "source": [
    "## OPTIMAL"
   ]
  },
  {
   "cell_type": "code",
   "execution_count": 6,
   "metadata": {},
   "outputs": [
    {
     "name": "stdout",
     "output_type": "stream",
     "text": [
      "The row with maximum no. of 1's is: 0\n"
     ]
    }
   ],
   "source": [
    "def lowerBound(arr, n, x):\n",
    "    low = 0\n",
    "    high = n - 1\n",
    "    ans = n\n",
    "\n",
    "    while low <= high:\n",
    "        mid = (low + high) // 2\n",
    "        # maybe an answer\n",
    "        if arr[mid] >= x:\n",
    "            ans = mid\n",
    "            # look for smaller index on the left\n",
    "            high = mid - 1\n",
    "        else:\n",
    "            low = mid + 1  # look on the right\n",
    "    return ans\n",
    "\n",
    "def rowWithMax1s(matrix):\n",
    "    n=len(matrix)\n",
    "    m=len(matrix[0])\n",
    "    cnt_max = 0\n",
    "    index = -1\n",
    "\n",
    "    # traverse the rows:\n",
    "    for i in range(n):\n",
    "        # get the number of 1's:\n",
    "        cnt_ones = m - lowerBound(matrix[i], m, 1)\n",
    "        if cnt_ones > cnt_max:\n",
    "            cnt_max = cnt_ones\n",
    "            index = i\n",
    "    return index\n",
    "\n",
    "matrix = [[1, 1, 1], [0, 0, 1], [0, 0, 0]]\n",
    "n = 3\n",
    "m = 3\n",
    "print(\"The row with maximum no. of 1's is:\", rowWithMax1s(matrix))"
   ]
  },
  {
   "cell_type": "markdown",
   "metadata": {},
   "source": [
    "# Search in a sorted 2D matrix"
   ]
  },
  {
   "cell_type": "markdown",
   "metadata": {},
   "source": [
    "## My approach == Better "
   ]
  },
  {
   "cell_type": "markdown",
   "metadata": {},
   "source": [
    "Time Complexity: O(N + logM), where N = given row number, M = given column number.\n",
    "Reason: We are traversing all rows and it takes O(N) time complexity. But for all rows, we are not applying binary search rather we are only applying it once for a particular row. That is why the time complexity is O(N + logM) instead of O(N*logM).\n",
    "\n",
    "Space Complexity: O(1) as we are not using any extra space."
   ]
  },
  {
   "cell_type": "code",
   "execution_count": 25,
   "metadata": {},
   "outputs": [],
   "source": [
    "def search(mat, k):\n",
    "    low=0\n",
    "    high=len(mat)-1\n",
    "   \n",
    "    while low<=high:\n",
    "        mid = (low+high)//2\n",
    "        if mat[mid] == k:\n",
    "            return mid\n",
    "        elif mat[mid] < k:\n",
    "            low = mid+1\n",
    "        else:\n",
    "            high = mid-1\n",
    "            \n",
    "    return False\n",
    "\n",
    "def find_sorted(matr,k):\n",
    "  \n",
    "    l=0\n",
    "    h=len(matr[0])-1\n",
    "    \n",
    "    for i in range(len(matr)):\n",
    "        \n",
    "        if matr[i][0]<=k<=matr[i][h]:\n",
    "            return search(matr[i],k)\n",
    "        \n",
    "    return False"
   ]
  },
  {
   "cell_type": "code",
   "execution_count": 26,
   "metadata": {},
   "outputs": [
    {
     "name": "stdout",
     "output_type": "stream",
     "text": [
      "false\n"
     ]
    }
   ],
   "source": [
    "matrix = [[1, 2, 3, 4], [5, 6, 7, 8], [9, 10, 11, 12]]\n",
    "result = find_sorted(matrix, 28)\n",
    "print(\"true\" if result else \"false\")"
   ]
  },
  {
   "cell_type": "markdown",
   "metadata": {},
   "source": [
    "## OPTIMAL"
   ]
  },
  {
   "cell_type": "markdown",
   "metadata": {},
   "source": [
    "Time Complexity: O(log(NxM)), where N = given row number, M = given column number.\n",
    "Reason: We are applying binary search on the imaginary 1D array of size NxM.\n",
    "\n",
    "Space Complexity: O(1) as we are not using any extra space."
   ]
  },
  {
   "cell_type": "code",
   "execution_count": 27,
   "metadata": {},
   "outputs": [],
   "source": [
    "def searchMatrix(matrix, k):\n",
    "    n= len(matrix)\n",
    "    m= len(matrix[0])\n",
    "    \n",
    "    \n",
    "    low=0\n",
    "    high= n*m -1\n",
    "    while low <= high:\n",
    "        mid = (low+high)//2\n",
    "        row=mid//m\n",
    "        col = mid % m\n",
    "        if matrix[row][col]== k:\n",
    "            return True\n",
    "        elif matrix[row][col]<k:\n",
    "            low = mid+1\n",
    "        else:\n",
    "            high = mid-1\n",
    "            \n",
    "    return False   \n",
    "            "
   ]
  },
  {
   "cell_type": "code",
   "execution_count": 28,
   "metadata": {},
   "outputs": [
    {
     "name": "stdout",
     "output_type": "stream",
     "text": [
      "true\n"
     ]
    }
   ],
   "source": [
    "matrix = [[1, 2, 3, 4], [5, 6, 7, 8], [9, 10, 11, 12]]\n",
    "result = searchMatrix(matrix, 8)\n",
    "print(\"true\" if result else \"false\")"
   ]
  },
  {
   "cell_type": "markdown",
   "metadata": {},
   "source": [
    "# Median of Row Wise Sorted Matrix"
   ]
  },
  {
   "cell_type": "markdown",
   "metadata": {},
   "source": [
    "## optimal"
   ]
  },
  {
   "cell_type": "markdown",
   "metadata": {},
   "source": [
    "Time Complexity: O(log(109)) X O(M(logN)), where M = number of rows in the given matrix, N = number of columns in the given matrix\n",
    "\n",
    "Reason: Our search space lies between [0, 109] as the min(matrix) can be 0 and the max(matrix) can be 109. We are applying binary search in this search space and it takes O(log(109)) time complexity. Then we call countSmallEqual() function for every ‘mid’ and this function takes O(M(logN)) time complexity.\n",
    "\n",
    "Space Complexity : O(1) as we are not using any extra space"
   ]
  },
  {
   "cell_type": "code",
   "execution_count": 34,
   "metadata": {},
   "outputs": [
    {
     "name": "stdout",
     "output_type": "stream",
     "text": [
      "The median element is: 11\n"
     ]
    }
   ],
   "source": [
    "                                    \n",
    "                         \n",
    "def upperBound(arr, x, n):\n",
    "    low = 0\n",
    "    high = n - 1\n",
    "    ans = n\n",
    "\n",
    "    while low <= high:\n",
    "        mid = (low + high) // 2\n",
    "        # maybe an answer\n",
    "        if arr[mid] > x:\n",
    "            ans = mid\n",
    "            # look for a smaller index on the left\n",
    "            high = mid - 1\n",
    "        else:\n",
    "            low = mid + 1  # look on the right\n",
    "\n",
    "    return ans\n",
    "\n",
    "def countSmallEqual(matrix, m, n, x):\n",
    "    cnt = 0\n",
    "    for i in range(m):\n",
    "        cnt += upperBound(matrix[i], x, n)\n",
    "    return cnt\n",
    "\n",
    "def median(matrix, m, n):\n",
    "    low = float('inf')\n",
    "    high = float('-inf')\n",
    "\n",
    "    # point low and high to the right elements\n",
    "    for i in range(m):\n",
    "        low = min(low, matrix[i][0])\n",
    "        high = max(high, matrix[i][n - 1])\n",
    "\n",
    "    req = (n * m) // 2\n",
    "    while low <= high:\n",
    "        mid = (low + high) // 2\n",
    "        smallEqual = countSmallEqual(matrix, m, n, mid)\n",
    "        if smallEqual <= req:\n",
    "            low = mid + 1\n",
    "        else:\n",
    "            high = mid - 1\n",
    "\n",
    "    return low\n",
    "\n",
    "if __name__ == \"__main__\":\n",
    "    matrix = [\n",
    "        [1, 2, 3, 4, 5],\n",
    "        [8, 9, 11, 12, 13],\n",
    "        [21, 23, 25, 27, 29]\n",
    "    ]\n",
    "    m = len(matrix)\n",
    "    n = len(matrix[0])\n",
    "    ans = median(matrix, m, n)\n",
    "    print(\"The median element is:\", ans)                             "
   ]
  },
  {
   "cell_type": "markdown",
   "metadata": {},
   "source": [
    "# Search in a row and column-wise sorted matrix"
   ]
  },
  {
   "cell_type": "markdown",
   "metadata": {},
   "source": [
    "## My approach == Better approach"
   ]
  },
  {
   "cell_type": "markdown",
   "metadata": {},
   "source": [
    "TC = O(NLOG(M))\n",
    "SC = O(1)"
   ]
  },
  {
   "cell_type": "code",
   "execution_count": 5,
   "metadata": {},
   "outputs": [],
   "source": [
    "def bs(arr, k):\n",
    "    n=len(arr)\n",
    "    l=0\n",
    "    h=n-1\n",
    "    while l<=h:\n",
    "        mid=(l+h)//2\n",
    "        if arr[mid]==k:\n",
    "            return True\n",
    "        elif arr[mid]>k:\n",
    "            h=mid-1\n",
    "        else:\n",
    "            l=mid+1\n",
    "    return False"
   ]
  },
  {
   "cell_type": "code",
   "execution_count": 9,
   "metadata": {},
   "outputs": [],
   "source": [
    "def twoDsearch(mat, k):\n",
    "    h=len(mat[0])-1\n",
    "    for i in range(len(mat)):\n",
    "        if mat[i][0] <= k <= mat[i][h]:\n",
    "            f = bs(mat[i], k)\n",
    "            if f:\n",
    "                return True\n",
    "    return False\n"
   ]
  },
  {
   "cell_type": "code",
   "execution_count": 10,
   "metadata": {},
   "outputs": [
    {
     "name": "stdout",
     "output_type": "stream",
     "text": [
      "true\n"
     ]
    }
   ],
   "source": [
    "matrix = [\n",
    "    [1, 4, 7, 11, 15],\n",
    "    [2, 5, 8, 12, 19],\n",
    "    [3, 6, 9, 16, 22],\n",
    "    [10, 13, 14, 17, 24],\n",
    "    [18, 21, 23, 26, 30]\n",
    "]\n",
    "\n",
    "result = twoDsearch(matrix, 8)\n",
    "print(\"true\" if result else \"false\")"
   ]
  },
  {
   "cell_type": "markdown",
   "metadata": {},
   "source": [
    "## Optimal Approach"
   ]
  },
  {
   "cell_type": "markdown",
   "metadata": {},
   "source": [
    "TC = O(N+M)\n",
    "SC = O(1)"
   ]
  },
  {
   "cell_type": "code",
   "execution_count": 14,
   "metadata": {},
   "outputs": [],
   "source": [
    "def twoDsearch(mat, k):\n",
    "    n = len(mat)\n",
    "    m=len(mat[0])\n",
    "    row = 0\n",
    "    col= m-1\n",
    "    \n",
    "    while row< n and col >= 0:\n",
    "        if mat[row][col] == k:\n",
    "            print(row,col)\n",
    "            return True\n",
    "        elif mat[row][col] < k:\n",
    "            print(row,col)\n",
    "            row+=1      \n",
    "            \n",
    "        else:\n",
    "            print(row,col)\n",
    "            col-=1\n",
    "    \n",
    "    return False"
   ]
  },
  {
   "cell_type": "code",
   "execution_count": 18,
   "metadata": {},
   "outputs": [
    {
     "name": "stdout",
     "output_type": "stream",
     "text": [
      "0 4\n",
      "1 4\n",
      "1 3\n",
      "2 3\n",
      "3 3\n",
      "true\n"
     ]
    }
   ],
   "source": [
    "matrix = [\n",
    "    [1, 4, 7, 11, 15],\n",
    "    [2, 5, 8, 12, 19],\n",
    "    [3, 6, 9, 16, 22],\n",
    "    [10, 13, 14, 17, 24],\n",
    "    [11, 15, 16, 18, 30]\n",
    "]\n",
    "\n",
    "result = twoDsearch(matrix, 17)\n",
    "print(\"true\" if result else \"false\")"
   ]
  }
 ],
 "metadata": {
  "kernelspec": {
   "display_name": "Python 3",
   "language": "python",
   "name": "python3"
  },
  "language_info": {
   "codemirror_mode": {
    "name": "ipython",
    "version": 3
   },
   "file_extension": ".py",
   "mimetype": "text/x-python",
   "name": "python",
   "nbconvert_exporter": "python",
   "pygments_lexer": "ipython3",
   "version": "3.11.4"
  }
 },
 "nbformat": 4,
 "nbformat_minor": 2
}
