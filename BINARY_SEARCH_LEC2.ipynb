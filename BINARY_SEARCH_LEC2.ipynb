{
 "cells": [
  {
   "cell_type": "markdown",
   "metadata": {},
   "source": [
    "# Finding Sqrt of a number using Binary Search"
   ]
  },
  {
   "cell_type": "markdown",
   "metadata": {},
   "source": [
    "Time Complexity: O(logN), N = size of the given array.\n",
    "Reason: We are basically using the Binary Search algorithm.\n",
    "\n",
    "Space Complexity: O(1) as we are not using any extra space"
   ]
  },
  {
   "cell_type": "code",
   "execution_count": 36,
   "metadata": {},
   "outputs": [],
   "source": [
    "def bisqrt(n):\n",
    "    l=1\n",
    "    h=n//2\n",
    "    temp,c=0,0\n",
    "    while l<=h:\n",
    "        m = (l+h)//2\n",
    "        val = m*m\n",
    "        \n",
    "        if val <= n :\n",
    "            l = m+1\n",
    "        else:\n",
    "            h = m-1\n",
    "    return h"
   ]
  },
  {
   "cell_type": "code",
   "execution_count": 37,
   "metadata": {},
   "outputs": [
    {
     "name": "stdout",
     "output_type": "stream",
     "text": [
      "The floor of square root is: 9\n"
     ]
    }
   ],
   "source": [
    "ans = bisqrt(82)\n",
    "print(\"The floor of square root is:\", ans)"
   ]
  },
  {
   "cell_type": "markdown",
   "metadata": {},
   "source": [
    "# Nth Root of a Number using Binary Search"
   ]
  },
  {
   "cell_type": "markdown",
   "metadata": {},
   "source": [
    "Complexity Analysis\n",
    "\n",
    "Time Complexity: O(logN), N = size of the given array.\n",
    "Reason: We are basically using binary search to find the minimum.\n",
    "\n",
    "Space Complexity: O(1)\n",
    "Reason: We have not used any extra data structures, this makes space complexity, even in the worst case as O(1)."
   ]
  },
  {
   "cell_type": "markdown",
   "metadata": {},
   "source": [
    "MY APPROACH"
   ]
  },
  {
   "cell_type": "code",
   "execution_count": 44,
   "metadata": {},
   "outputs": [],
   "source": [
    "def n_sqrt(n,k):\n",
    "    l=1\n",
    "    h=n//k\n",
    "    temp,c=0,0\n",
    "    while l<=h:\n",
    "        m = (l+h)//2\n",
    "        val = m**k\n",
    "        \n",
    "        if val <= n :\n",
    "            l = m+1\n",
    "        else:\n",
    "            h = m-1\n",
    "    return h"
   ]
  },
  {
   "cell_type": "code",
   "execution_count": 48,
   "metadata": {},
   "outputs": [
    {
     "name": "stdout",
     "output_type": "stream",
     "text": [
      "The answer is: 2\n"
     ]
    }
   ],
   "source": [
    "n = 4\n",
    "m = 33\n",
    "ans = n_sqrt(m,n)\n",
    "print(\"The answer is:\", ans)"
   ]
  },
  {
   "cell_type": "markdown",
   "metadata": {},
   "source": [
    "GIVEN APPROACH"
   ]
  },
  {
   "cell_type": "code",
   "execution_count": 49,
   "metadata": {},
   "outputs": [
    {
     "name": "stdout",
     "output_type": "stream",
     "text": [
      "The answer is: 3\n"
     ]
    }
   ],
   "source": [
    "\n",
    "def func(mid, n, m):\n",
    "    ans = 1\n",
    "    for i in range(1, n + 1):\n",
    "        ans *= mid\n",
    "        if ans > m:\n",
    "            return 2\n",
    "    if ans == m:\n",
    "        return 1\n",
    "    return 0\n",
    "\n",
    "def NthRoot(n: int, m: int) -> int:\n",
    "    low = 1\n",
    "    high = m\n",
    "    while low <= high:\n",
    "        mid = (low + high) // 2\n",
    "        midN = func(mid, n, m)\n",
    "        if midN == 1:\n",
    "            return mid\n",
    "        elif midN == 0:\n",
    "            low = mid + 1\n",
    "        else:\n",
    "            high = mid - 1\n",
    "    return -1\n",
    "\n",
    "n = 3\n",
    "m = 27\n",
    "ans = NthRoot(n, m)\n",
    "print(\"The answer is:\", ans)"
   ]
  },
  {
   "cell_type": "markdown",
   "metadata": {},
   "source": [
    "# Koko Eating Bananas"
   ]
  },
  {
   "cell_type": "markdown",
   "metadata": {},
   "source": [
    "Problem Statement: A monkey is given ‘n’ piles of bananas, whereas the 'ith' pile has ‘a[i]’ bananas. An integer ‘h’ is also given, which denotes the time (in hours) for all the bananas to be eaten.\n",
    "\n",
    "Each hour, the monkey chooses a non-empty pile of bananas and eats ‘k’ bananas. If the pile contains less than ‘k’ bananas, then the monkey consumes all the bananas and won’t eat any more bananas in that hour.\n",
    "\n",
    "Find the minimum number of bananas ‘k’ to eat per hour so that the monkey can eat all the bananas within ‘h’ hours."
   ]
  },
  {
   "cell_type": "code",
   "execution_count": 1,
   "metadata": {},
   "outputs": [],
   "source": [
    "import math"
   ]
  },
  {
   "cell_type": "markdown",
   "metadata": {},
   "source": [
    "TC = O((max(arr)-minm)*n)\n",
    "\n",
    "SC = O(1)"
   ]
  },
  {
   "cell_type": "code",
   "execution_count": 15,
   "metadata": {},
   "outputs": [],
   "source": [
    "def minBanana(arr,h):\n",
    "    n=len(arr)\n",
    "    if n==h:\n",
    "        return max(arr)\n",
    "    else:        \n",
    "        k = 0\n",
    "        minm = int((sum(arr))/h)\n",
    "        for i in range (minm, max(arr)+1):\n",
    "            s = 0\n",
    "            for key in arr:\n",
    "                x = math.ceil(key/i)\n",
    "                s += x\n",
    "            if s <= h:\n",
    "                k = i\n",
    "                break    \n",
    "    return k"
   ]
  },
  {
   "cell_type": "code",
   "execution_count": 16,
   "metadata": {},
   "outputs": [
    {
     "name": "stdout",
     "output_type": "stream",
     "text": [
      "7\n"
     ]
    }
   ],
   "source": [
    "arr = [7, 15, 6, 3]\n",
    "print(minBanana(arr, 6))"
   ]
  },
  {
   "cell_type": "markdown",
   "metadata": {},
   "source": [
    "OPTIMAL APPROACH"
   ]
  },
  {
   "cell_type": "markdown",
   "metadata": {},
   "source": [
    "Time Complexity: O(N * log(max(a[]))), where max(a[]) is the maximum element in the array and N = size of the array.\n",
    "\n",
    "Space Complexity: O(1) as we are not using any extra space to solve this problem"
   ]
  },
  {
   "cell_type": "code",
   "execution_count": 22,
   "metadata": {},
   "outputs": [],
   "source": [
    "def minBananaopt(arr,h):\n",
    "    n=len(arr)\n",
    "    if n==h:\n",
    "        return max(arr)\n",
    "        \n",
    "    k = 0\n",
    "    minm = int((sum(arr))/h)\n",
    "        \n",
    "    l=minm\n",
    "    high=max(arr)\n",
    "        \n",
    "    while l<=high:\n",
    "        m = (l+high)//2\n",
    "        s = 0\n",
    "        for key in arr:\n",
    "            x=math.ceil(key/m)\n",
    "            s += x\n",
    "        if s <= h:\n",
    "            high=m-1\n",
    "        else:\n",
    "            l=m+1\n",
    "    return l"
   ]
  },
  {
   "cell_type": "code",
   "execution_count": 23,
   "metadata": {},
   "outputs": [
    {
     "name": "stdout",
     "output_type": "stream",
     "text": [
      "7\n"
     ]
    }
   ],
   "source": [
    "arr = [7, 15, 6, 3]\n",
    "print(minBananaopt(arr, 6))"
   ]
  },
  {
   "cell_type": "markdown",
   "metadata": {},
   "source": [
    "# Find the Smallest Divisor Given a Threshold"
   ]
  },
  {
   "cell_type": "markdown",
   "metadata": {},
   "source": [
    "Problem Statement: You are given an array of integers 'arr' and an integer i.e. a threshold value 'limit'. Your task is to find the smallest positive integer divisor, such that upon dividing all the elements of the given array by it, the sum of the division's result is less than or equal to the given threshold value."
   ]
  },
  {
   "cell_type": "markdown",
   "metadata": {},
   "source": [
    "Time Complexity: O(log(max(arr[]))*N), where max(arr[]) = maximum element in the array, N = size of the array.\n",
    "\n",
    "Space Complexity: O(1) as we are not using any extra space to solve this problem."
   ]
  },
  {
   "cell_type": "code",
   "execution_count": 29,
   "metadata": {},
   "outputs": [],
   "source": [
    "import math"
   ]
  },
  {
   "cell_type": "code",
   "execution_count": 30,
   "metadata": {},
   "outputs": [],
   "source": [
    "def findsum(arr,k):\n",
    "    tot=0\n",
    "    for key in arr:\n",
    "        tot+=math.ceil(key/k)\n",
    "    return tot       "
   ]
  },
  {
   "cell_type": "code",
   "execution_count": 31,
   "metadata": {},
   "outputs": [],
   "source": [
    "def smallest_divisor(arr,limit):\n",
    "    \n",
    "    l=1\n",
    "    h=max(arr)+1\n",
    "    \n",
    "    while l<=h:\n",
    "        mid=(l+h)//2\n",
    "        val=findsum(arr,mid)\n",
    "        if val <= limit:\n",
    "            h=mid-1\n",
    "        else:\n",
    "            l=mid+1\n",
    "    return l"
   ]
  },
  {
   "cell_type": "code",
   "execution_count": 33,
   "metadata": {},
   "outputs": [
    {
     "name": "stdout",
     "output_type": "stream",
     "text": [
      "3\n"
     ]
    }
   ],
   "source": [
    "arr = [1, 2, 3, 4, 5]\n",
    "limit = 8\n",
    "print(smallest_divisor(arr,limit))"
   ]
  },
  {
   "cell_type": "markdown",
   "metadata": {},
   "source": [
    "# Kth Missing Positive Number"
   ]
  },
  {
   "cell_type": "markdown",
   "metadata": {},
   "source": [
    "Problem Statement: You are given a strictly increasing array ‘vec’ and a positive integer 'k'. Find the 'kth' positive integer missing from 'vec'."
   ]
  },
  {
   "cell_type": "markdown",
   "metadata": {},
   "source": [
    "BRUTE FORCE"
   ]
  },
  {
   "cell_type": "markdown",
   "metadata": {},
   "source": [
    "Time Complexity: O(N), N = size of the given array.\n",
    "Reason: We are using a loop that traverses the entire given array in the worst case.\n",
    "\n",
    "Space Complexity: O(1) as we are not using any extra space to solve this problem"
   ]
  },
  {
   "cell_type": "code",
   "execution_count": 34,
   "metadata": {},
   "outputs": [
    {
     "name": "stdout",
     "output_type": "stream",
     "text": [
      "The missing number is: 5\n"
     ]
    }
   ],
   "source": [
    "def missingK(vec, n, k):\n",
    "    for i in range(n):\n",
    "        if vec[i] <= k:\n",
    "            k += 1  # shifting k\n",
    "        else:\n",
    "            break\n",
    "    return k\n",
    "\n",
    "\n",
    "vec = [4, 7, 9, 10]\n",
    "n = 4\n",
    "k = 4\n",
    "ans = missingK(vec, n, k)\n",
    "print(\"The missing number is:\", ans)"
   ]
  },
  {
   "cell_type": "markdown",
   "metadata": {},
   "source": [
    "OPTIMAL "
   ]
  },
  {
   "cell_type": "code",
   "execution_count": 45,
   "metadata": {},
   "outputs": [],
   "source": [
    "def opt(arr,k):\n",
    "    l=0\n",
    "    h=len(arr)-1\n",
    "    while l<= h:\n",
    "        m=(l+h)//2\n",
    "        missing= arr[m]-m-1\n",
    "        if missing<k:\n",
    "            l=m+1\n",
    "        else:\n",
    "            h=m-1\n",
    "            \n",
    "    return k+h+1        "
   ]
  },
  {
   "cell_type": "code",
   "execution_count": 46,
   "metadata": {},
   "outputs": [
    {
     "name": "stdout",
     "output_type": "stream",
     "text": [
      "The missing number is: 5\n"
     ]
    }
   ],
   "source": [
    "vec = [4, 7, 9, 10]\n",
    "n = 4\n",
    "k = 4\n",
    "ans = opt(vec, k)\n",
    "print(\"The missing number is:\", ans)"
   ]
  },
  {
   "cell_type": "markdown",
   "metadata": {},
   "source": [
    "# Median of Two Sorted Arrays of different sizes"
   ]
  },
  {
   "cell_type": "markdown",
   "metadata": {},
   "source": [
    "My Approach"
   ]
  },
  {
   "cell_type": "markdown",
   "metadata": {},
   "source": [
    "Time Complexity: O(n1+n2), where  n1 and n2 are the sizes of the given arrays.\n",
    "Reason: We traverse through both arrays linearly.\n",
    "\n",
    "Space Complexity: O(1), as we are not using any extra space to solve this problem."
   ]
  },
  {
   "cell_type": "code",
   "execution_count": 2,
   "metadata": {},
   "outputs": [],
   "source": [
    "def median(arr1, arr2):\n",
    "    n1=len(arr1)\n",
    "    n2=len(arr2)\n",
    "    ind2=(n1+n2)//2\n",
    "    ind1=ind2-1\n",
    "    \n",
    "    el1,el2=-1,-1\n",
    "    \n",
    "    i,j,c=0,0,0\n",
    "    \n",
    "    while i<n1 and j<n2 :\n",
    "        if arr1[i]<arr2[j]:\n",
    "            if c==ind1:\n",
    "                el1=arr1[i]\n",
    "            if c==ind2:\n",
    "                el2=arr1[i]\n",
    "            c+=1\n",
    "            i+=1\n",
    "            \n",
    "        else:\n",
    "            if c==ind1:\n",
    "                el1=arr2[j]\n",
    "            if c==ind2:\n",
    "                el2=arr2[j]\n",
    "            c+=1\n",
    "            j+=1\n",
    "    \n",
    "    while i<n1:\n",
    "        if c==ind1:\n",
    "            el1=arr1[i]\n",
    "        c+=1\n",
    "        i+=1\n",
    "    while j<n2:\n",
    "        if c==ind2:\n",
    "            el2=arr2[j]\n",
    "        c+=1\n",
    "        j+=1\n",
    "        \n",
    "    if (n1+ n2)%2==0:\n",
    "        return float(el1+el2)/2.0\n",
    "    else:   \n",
    "        return el2"
   ]
  },
  {
   "cell_type": "code",
   "execution_count": 3,
   "metadata": {},
   "outputs": [
    {
     "name": "stdout",
     "output_type": "stream",
     "text": [
      "The median of two sorted arrays is 6.0\n"
     ]
    }
   ],
   "source": [
    "if __name__ == \"__main__\":\n",
    "    a = [1, 4, 7, 10, 12]\n",
    "    b = [2, 3, 6, 15]\n",
    "    print(\"The median of two sorted arrays is\", \"{:.1f}\".format(median(a, b)))"
   ]
  },
  {
   "cell_type": "markdown",
   "metadata": {},
   "source": [
    "Optimal Approach"
   ]
  },
  {
   "cell_type": "markdown",
   "metadata": {},
   "source": [
    "Time Complexity: O(log(min(n1,n2))), where n1 and n2 are the sizes of two given arrays.\n",
    "Reason: We are applying binary search on the range [0, min(n1, n2)].\n",
    "\n",
    "Space Complexity: O(1) as no extra space is used."
   ]
  },
  {
   "cell_type": "code",
   "execution_count": 12,
   "metadata": {},
   "outputs": [],
   "source": [
    "def median_opt(arr1,arr2):\n",
    "    n1, n2= len(arr1),len(arr2)\n",
    "    if n1>n2:\n",
    "        return median_opt(arr2,arr1)\n",
    "    n=n1+n2\n",
    "    # length of left half\n",
    "    lt=(n1+n2+1)//2\n",
    "    low, high = 0,n1\n",
    "    while low<=high:\n",
    "        mid1 = (low+high)//2\n",
    "        mid2 = lt-mid1\n",
    "        l1,l2,r1,r2=float('-inf'), float('-inf'), float('inf'), float('inf')\n",
    "        if mid1<n1:\n",
    "            r1 = arr1[mid1]\n",
    "        if mid2<n2:\n",
    "            r2 = arr2[mid2]\n",
    "            \n",
    "        if mid1-1>=0:\n",
    "            l1=arr1[mid1-1]\n",
    "            \n",
    "        if mid2-1>=0:\n",
    "            l2=arr2[mid2-1]\n",
    "          \n",
    "        if l1 <= r2 and l2 <= r1:\n",
    "            \n",
    "            return max(l1, l2)\n",
    "            \n",
    "            \n",
    "        if l1>r2:\n",
    "            high = mid1-1\n",
    "        else:\n",
    "            low = mid1+1\n",
    "    \n",
    "    return -1 "
   ]
  },
  {
   "cell_type": "code",
   "execution_count": 13,
   "metadata": {},
   "outputs": [
    {
     "name": "stdout",
     "output_type": "stream",
     "text": [
      "The median of two sorted arrays is 10.0\n"
     ]
    }
   ],
   "source": [
    "a = [1, 4, 7, 10, 12]\n",
    "b = [2, 3, 6, 15]\n",
    "print(\"The median of two sorted arrays is {:.1f}\".format(median_opt(a, b)))"
   ]
  },
  {
   "cell_type": "markdown",
   "metadata": {},
   "source": [
    "# K-th Element of two sorted arrays"
   ]
  },
  {
   "cell_type": "markdown",
   "metadata": {},
   "source": [
    "Time Complexity: O(log(min(m, n))), where m and n are the sizes of two given arrays.\n",
    "Reason: We are applying binary search on the range [max(0, k-n2), min(k, n1)]. The range length <= min(m, n).\n",
    "\n",
    "Space Complexity: O(1), as we are not using any extra space to solve this problem."
   ]
  },
  {
   "cell_type": "code",
   "execution_count": 24,
   "metadata": {},
   "outputs": [],
   "source": [
    "\n",
    "def kth_element(arr1,arr2,k):\n",
    "    n1, n2= len(arr1),len(arr2)\n",
    "    if n1>n2:\n",
    "        return median_opt(arr2,arr1)\n",
    "    n=n1+n2\n",
    "    # length of left half\n",
    "    lt=k\n",
    "    low, high = max(0,k-n1),min(k,n2)\n",
    "    while low<=high:\n",
    "        mid1 = (low+high)//2\n",
    "        mid2 = lt-mid1\n",
    "        l1,l2,r1,r2=float('-inf'), float('-inf'), float('inf'), float('inf')\n",
    "        if mid1<n1:\n",
    "            r1 = arr1[mid1]\n",
    "        if mid2<n2:\n",
    "            r2 = arr2[mid2]\n",
    "            \n",
    "        if mid1-1>=0:\n",
    "            l1=arr1[mid1-1]\n",
    "            \n",
    "        if mid2-1>=0:\n",
    "            l2=arr2[mid2-1]\n",
    "          \n",
    "        if l1 <= r2 and l2 <= r1:\n",
    "            \n",
    "            return max(l1, l2)\n",
    "            \n",
    "            \n",
    "        if l1>r2:\n",
    "            high = mid1-1\n",
    "        else:\n",
    "            low = mid1+1\n",
    "    \n",
    "    return -1 "
   ]
  },
  {
   "cell_type": "code",
   "execution_count": 26,
   "metadata": {},
   "outputs": [
    {
     "name": "stdout",
     "output_type": "stream",
     "text": [
      "The median of two sorted arrays is 10.0\n"
     ]
    }
   ],
   "source": [
    "a = [1, 4, 7, 10, 12]\n",
    "b = [2, 3, 6, 15]\n",
    "print(\"The median of two sorted arrays is {:.1f}\".format(kth_element(a, b,7)))"
   ]
  },
  {
   "cell_type": "markdown",
   "metadata": {},
   "source": [
    "# Allocate Minimum Number of Pages"
   ]
  },
  {
   "cell_type": "markdown",
   "metadata": {},
   "source": [
    "Time Complexity: O(NlogN) + O(N * log(max(stalls[])-min(stalls[]))), where N = size of the array, max(stalls[]) = maximum element in stalls[] array, min(stalls[]) = minimum element in stalls[] array.\n",
    "Reason: O(NlogN) for sorting the array. We are applying binary search on [1, max(stalls[])-min(stalls[])]. Inside the loop, we are calling canWePlace() function for each distance, ‘mid’. Now, inside the canWePlace() function, we are using a loop that runs for N times.\n",
    "\n",
    "Space Complexity: O(1) as we are not using any extra space to solve this problem."
   ]
  },
  {
   "cell_type": "code",
   "execution_count": 31,
   "metadata": {},
   "outputs": [],
   "source": [
    "def ispossible(arr,d,k):\n",
    "    count_cows=1\n",
    "    last = arr[0]\n",
    "    for i in range(1,len(arr)):\n",
    "        if arr[i]-last >= d:\n",
    "            count_cows+=1\n",
    "            last=arr[i]\n",
    "        if count_cows >= k:\n",
    "            return True\n",
    "    return False"
   ]
  },
  {
   "cell_type": "code",
   "execution_count": 34,
   "metadata": {},
   "outputs": [],
   "source": [
    "def allocation(arr,k):\n",
    "    arr.sort()\n",
    "    l=1\n",
    "    h=arr[len(arr)-1]-arr[0]\n",
    "    reqd=float(\"-inf\")\n",
    "    while l<=h:\n",
    "        mid=(l+h)//2\n",
    "        if ispossible(arr,mid,k):\n",
    "            reqd=mid\n",
    "            l = mid+1\n",
    "        else:\n",
    "            h=mid-1\n",
    "    return reqd\n",
    "        "
   ]
  },
  {
   "cell_type": "code",
   "execution_count": 35,
   "metadata": {},
   "outputs": [
    {
     "name": "stdout",
     "output_type": "stream",
     "text": [
      "The maximum possible minimum distance is: 3\n"
     ]
    }
   ],
   "source": [
    "\n",
    "stalls = [0, 3, 4, 7, 10, 9]\n",
    "k = 4\n",
    "ans = allocation(stalls, k)\n",
    "print(\"The maximum possible minimum distance is:\", ans)"
   ]
  }
 ],
 "metadata": {
  "kernelspec": {
   "display_name": "base",
   "language": "python",
   "name": "python3"
  },
  "language_info": {
   "codemirror_mode": {
    "name": "ipython",
    "version": 3
   },
   "file_extension": ".py",
   "mimetype": "text/x-python",
   "name": "python",
   "nbconvert_exporter": "python",
   "pygments_lexer": "ipython3",
   "version": "3.11.4"
  }
 },
 "nbformat": 4,
 "nbformat_minor": 2
}
