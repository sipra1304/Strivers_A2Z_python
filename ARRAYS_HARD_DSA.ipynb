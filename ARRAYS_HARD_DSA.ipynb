{
 "cells": [
  {
   "cell_type": "markdown",
   "metadata": {},
   "source": [
    "# Length of the longest subarray with zero Sum"
   ]
  },
  {
   "cell_type": "markdown",
   "metadata": {},
   "source": [
    "My Approach set k=0 for longest subarray with k sum problem"
   ]
  },
  {
   "cell_type": "code",
   "execution_count": 1,
   "metadata": {},
   "outputs": [],
   "source": [
    "def longest_better(arr,k=0):\n",
    "    n= len(arr)\n",
    "    pre_sum_dict={}\n",
    "    sum=0\n",
    "    max_len=0\n",
    "    for i in range(n):\n",
    "        \n",
    "        #calc the prefix sum till index i\n",
    "        sum+=arr[i]\n",
    "        \n",
    "        #if sum==k, update the maxlen\n",
    "        if sum==k:\n",
    "            max_len=max(max_len,i+1)\n",
    "        \n",
    "        #calculate sum of remaining part i.e x-k\n",
    "        rem= sum-k\n",
    "        \n",
    "        # Calculate the length and update maxLen:\n",
    "        if rem in pre_sum_dict:\n",
    "            max_len=max(max_len,i-pre_sum_dict[rem])\n",
    "            \n",
    "        if sum not in pre_sum_dict:\n",
    "            pre_sum_dict[sum]=i\n",
    "            \n",
    "    return max_len"
   ]
  },
  {
   "cell_type": "code",
   "execution_count": 2,
   "metadata": {},
   "outputs": [
    {
     "name": "stdout",
     "output_type": "stream",
     "text": [
      "2\n"
     ]
    }
   ],
   "source": [
    "arr=[2,1,5,-1,1,2,-9]\n",
    "ans=longest_better(arr)\n",
    "print(ans)"
   ]
  },
  {
   "cell_type": "markdown",
   "metadata": {},
   "source": [
    " OPTIMISED"
   ]
  },
  {
   "cell_type": "markdown",
   "metadata": {},
   "source": [
    "Time Complexity: O(N), as we are traversing the array only once\n",
    "\n",
    "Space Complexity: O(N), in the worst case we would insert all array elements prefix sum into our hashmap"
   ]
  },
  {
   "cell_type": "code",
   "execution_count": 6,
   "metadata": {},
   "outputs": [],
   "source": [
    "def opt_max(arr):\n",
    "    n=len(arr)\n",
    "    sum=0\n",
    "    max_len=0\n",
    "    hash_map={}\n",
    "    for i in range(n):\n",
    "        sum+=arr[i]\n",
    "        \n",
    "        if sum == 0:\n",
    "            max_len=i+1\n",
    "        else:\n",
    "            if sum in hash_map:\n",
    "                max_len=max(max_len,i-hash_map[sum])\n",
    "            else:\n",
    "                hash_map[sum]=i\n",
    "    return max_len"
   ]
  },
  {
   "cell_type": "code",
   "execution_count": 8,
   "metadata": {},
   "outputs": [
    {
     "name": "stdout",
     "output_type": "stream",
     "text": [
      "6\n"
     ]
    }
   ],
   "source": [
    "arr=[2,1,5,-1,2,2,-9]\n",
    "ans=opt_max(arr)\n",
    "print(ans)"
   ]
  },
  {
   "cell_type": "markdown",
   "metadata": {},
   "source": [
    "# 3 Sum : Find triplets that add up to a zero"
   ]
  },
  {
   "cell_type": "markdown",
   "metadata": {},
   "source": [
    "My APPROACH == OPTIMAL SOLN"
   ]
  },
  {
   "cell_type": "markdown",
   "metadata": {},
   "source": [
    "TC=O(N^2)+O(n*log(N))\n",
    "\n",
    "SC= O(triplets found) or O(1) as we are storing the value required by the question so technically we are not using any extra space"
   ]
  },
  {
   "cell_type": "code",
   "execution_count": 30,
   "metadata": {},
   "outputs": [],
   "source": [
    "def three_sum(arr):\n",
    "    n=len(arr)\n",
    "    arr.sort()\n",
    "    t=[]\n",
    "    left=0\n",
    "    for left in range(n-2):\n",
    "        \n",
    "        if left > 0 and arr[left] == arr[left - 1]:\n",
    "            continue \n",
    "        \n",
    "        right=n-1\n",
    "        mid= left+1\n",
    "        \n",
    "        while mid< right:\n",
    "            if (arr[left]+arr[mid]+arr[right]==0)  and (arr[left]!=arr[right]) and (arr[left]!=arr[mid])  and (arr[right]!=arr[mid] ) :\n",
    "                t.append([arr[left],arr[mid],arr[right]]) \n",
    "                mid+=1\n",
    "                right-=1 \n",
    "                              \n",
    "            elif arr[mid]+arr[right]+arr[left] < 0:\n",
    "                mid+=1  \n",
    "                \n",
    "            else:\n",
    "                right-=1\n",
    "    return t        "
   ]
  },
  {
   "cell_type": "code",
   "execution_count": 31,
   "metadata": {},
   "outputs": [
    {
     "name": "stdout",
     "output_type": "stream",
     "text": [
      "[[-9, 4, 5], [-2, 0, 2], [-1, 0, 1]]\n"
     ]
    }
   ],
   "source": [
    "arr=[-2,1,5,-1,0,2,4,-9]\n",
    "print(three_sum(arr))"
   ]
  },
  {
   "cell_type": "markdown",
   "metadata": {},
   "source": [
    "# Majority Elements(&gt;N/3 times) | Find the elements that appears more than N/3 times in the array"
   ]
  },
  {
   "cell_type": "markdown",
   "metadata": {},
   "source": [
    "MY APPROACH == BETTER APPROACH"
   ]
  },
  {
   "cell_type": "markdown",
   "metadata": {},
   "source": [
    "Time Complexity: O(N*logN), where N = size of the given array.\n",
    "\n",
    "\n",
    "Space Complexity: O(N) as we are using a map data structure. We are also using a list that stores a maximum of 2 elements. That space used is so small that it can be considered constant."
   ]
  },
  {
   "cell_type": "code",
   "execution_count": 32,
   "metadata": {},
   "outputs": [],
   "source": [
    "def opt_mjor(arr):\n",
    "    n=len(arr)\n",
    "    count =0\n",
    "    hash={}\n",
    "    t=[]\n",
    "    \n",
    "    for i in range(n):\n",
    "        hash[arr[i]]=hash.get(arr[i],0)+1\n",
    "    \n",
    "    for i in hash:\n",
    "        if hash[i]>n/3:\n",
    "            t.append(i)\n",
    "        \n",
    "    return t"
   ]
  },
  {
   "cell_type": "code",
   "execution_count": 34,
   "metadata": {},
   "outputs": [
    {
     "name": "stdout",
     "output_type": "stream",
     "text": [
      "[5, 2]\n"
     ]
    }
   ],
   "source": [
    "if __name__ == \"__main__\":\n",
    "    arr =[5, 5,2,5, 5, 2, 2]\n",
    "    res=opt_mjor(arr)\n",
    "    print(res)"
   ]
  },
  {
   "cell_type": "markdown",
   "metadata": {},
   "source": [
    "OPTIMAL SOLUTION\n",
    "\n",
    "Extended Boyer Moore’s Voting Algorithm"
   ]
  },
  {
   "cell_type": "markdown",
   "metadata": {},
   "source": [
    "TC=O(N)+O(N)\n",
    "\n",
    "SC=O(1)"
   ]
  },
  {
   "cell_type": "code",
   "execution_count": 36,
   "metadata": {},
   "outputs": [],
   "source": [
    "def boyermoore(arr):\n",
    "    n=len(arr)\n",
    "    el1=None\n",
    "    el2=None\n",
    "    ct1=0\n",
    "    ct2=0\n",
    "    for i in range(n):\n",
    "        if (ct1 == 0) and el2!=arr[i]:\n",
    "            ct1+=1\n",
    "            el1=arr[i]\n",
    "        elif ct2==0 and el1!=arr[i]:\n",
    "            ct2+=1\n",
    "            el2=arr[i]\n",
    "        elif arr[i]==el1:\n",
    "            ct1+=1\n",
    "        elif arr[i]==el2:\n",
    "            ct2+=1\n",
    "        else:\n",
    "            ct1-=1\n",
    "            ct2-=1\n",
    "    c1=0\n",
    "    c2=0\n",
    "    for el in arr:\n",
    "        if el==el1:\n",
    "            c1+=1\n",
    "        if el2==el:\n",
    "            c2+=1\n",
    "    if c1>n/3 and c2>n/3: return el1,el2\n",
    "    elif c1>n/3:return el1\n",
    "    else: return el2\n",
    "        "
   ]
  },
  {
   "cell_type": "code",
   "execution_count": 37,
   "metadata": {},
   "outputs": [
    {
     "name": "stdout",
     "output_type": "stream",
     "text": [
      "(5, 2)\n"
     ]
    }
   ],
   "source": [
    "if __name__ == \"__main__\":\n",
    "    arr =[5, 5,2,5, 5, 2, 2]\n",
    "    res=boyermoore(arr)\n",
    "    print(res)"
   ]
  },
  {
   "cell_type": "markdown",
   "metadata": {},
   "source": [
    "# Maximum Product Subarray in an Array"
   ]
  },
  {
   "cell_type": "markdown",
   "metadata": {},
   "source": [
    "Most Intuitive Approach"
   ]
  },
  {
   "cell_type": "markdown",
   "metadata": {},
   "source": [
    "TC= O(N)\n",
    "\n",
    "SC=O(1)"
   ]
  },
  {
   "cell_type": "code",
   "execution_count": 43,
   "metadata": {},
   "outputs": [],
   "source": [
    "def max_prod(arr):\n",
    "    prod=1\n",
    "    pre,suff=1,1\n",
    "    n=len(arr)\n",
    "    max_prod=float('-inf')\n",
    "    for i in range(n):\n",
    "        if pre==0:\n",
    "            pre=1\n",
    "        if suff==0:\n",
    "            suff=1\n",
    "        \n",
    "        pre*=arr[i]\n",
    "        suff*=arr[n-i-1]\n",
    "        max_prod=max(max_prod, max(pre, suff))\n",
    "    return max_prod"
   ]
  },
  {
   "cell_type": "code",
   "execution_count": 44,
   "metadata": {},
   "outputs": [
    {
     "name": "stdout",
     "output_type": "stream",
     "text": [
      "120\n"
     ]
    }
   ],
   "source": [
    "arr=[1,2,-3,0,-4,-5,6]\n",
    "print(max_prod(arr))"
   ]
  },
  {
   "cell_type": "markdown",
   "metadata": {},
   "source": [
    "# Program to generate Pascal's Triangle"
   ]
  },
  {
   "cell_type": "markdown",
   "metadata": {},
   "source": [
    "# Variation 1\n",
    "In this case, we are given the row number r and the column number c, and we need to find out the element at position (r,c)."
   ]
  },
  {
   "cell_type": "markdown",
   "metadata": {},
   "source": [
    "Time Complexity: O(c), where c = given column number.\n",
    "Reason: We are running a loop for r times, where r is c-1.\n",
    "\n",
    "Space Complexity: O(1) as we are not using any extra space."
   ]
  },
  {
   "cell_type": "code",
   "execution_count": 7,
   "metadata": {},
   "outputs": [],
   "source": [
    "def nCr(n,r):\n",
    "    a=1\n",
    "    for i in range(r):\n",
    "        a*= (n-i)\n",
    "        a= a//(i+1)\n",
    "    \n",
    "    return a"
   ]
  },
  {
   "cell_type": "code",
   "execution_count": 8,
   "metadata": {},
   "outputs": [],
   "source": [
    "def pascalTriangle(r, c):\n",
    "    element = nCr(r - 1, c - 1)\n",
    "    return element"
   ]
  },
  {
   "cell_type": "code",
   "execution_count": 9,
   "metadata": {},
   "outputs": [
    {
     "name": "stdout",
     "output_type": "stream",
     "text": [
      "The element at position (r,c) is: 6\n"
     ]
    }
   ],
   "source": [
    "if __name__ == '__main__':\n",
    "    r = 5 # row number\n",
    "    c = 3 # col number\n",
    "    element = pascalTriangle(r, c)\n",
    "    print(f\"The element at position (r,c) is: {element}\")"
   ]
  },
  {
   "cell_type": "markdown",
   "metadata": {},
   "source": [
    "# Variation 2\n",
    "\n",
    "Given the row number n. Print the n-th row of Pascal’s triangle."
   ]
  },
  {
   "cell_type": "markdown",
   "metadata": {},
   "source": [
    "MY APPROACH \n",
    "\n",
    "TC= O(N*R)\n",
    "\n",
    "SC= O(1)"
   ]
  },
  {
   "cell_type": "code",
   "execution_count": null,
   "metadata": {},
   "outputs": [],
   "source": [
    "def nth_row_print(n):\n",
    "    a=1\n",
    "    for i in range(r):\n",
    "        a*= (n-i)\n",
    "        a= a/(i+1)\n",
    "    \n",
    "    return a"
   ]
  },
  {
   "cell_type": "code",
   "execution_count": null,
   "metadata": {},
   "outputs": [],
   "source": [
    "def pascalTriangle2(n):\n",
    "    \n",
    "    for c in range(1, n+1):\n",
    "        print(nCr(n-1, c-1), end=\" \")\n",
    "    print()"
   ]
  },
  {
   "cell_type": "markdown",
   "metadata": {},
   "source": [
    "Time Complexity: O(N) where N = given row number. Here we are using only a single loop.\n",
    "\n",
    "Space Complexity: O(1) as we not using any extra space."
   ]
  },
  {
   "cell_type": "code",
   "execution_count": 30,
   "metadata": {},
   "outputs": [],
   "source": [
    "def pascalTriangle2(n):\n",
    "    a=1\n",
    "    print(a, end=' ')\n",
    "    for i in range(1, n):\n",
    "        a*=(n-i)\n",
    "        a= a// i\n",
    "        print(a, end=' ')\n",
    "    print()"
   ]
  },
  {
   "cell_type": "code",
   "execution_count": 31,
   "metadata": {},
   "outputs": [
    {
     "name": "stdout",
     "output_type": "stream",
     "text": [
      "1 4 6 4 1 \n"
     ]
    }
   ],
   "source": [
    "if __name__ == \"__main__\":\n",
    "    n = 5\n",
    "    pascalTriangle2(n)"
   ]
  },
  {
   "cell_type": "markdown",
   "metadata": {},
   "source": [
    "# Variation 3: \n",
    "\n",
    "Given the number of rows n. Print the first n rows of Pascal’s triangle."
   ]
  },
  {
   "cell_type": "markdown",
   "metadata": {},
   "source": [
    "Time Complexity: O(n^2), where n = number of rows(given).\n",
    "Reason: We are generating a row for each single row. The number of rows is n. And generating an entire row takes O(n) time complexity."
   ]
  },
  {
   "cell_type": "markdown",
   "metadata": {},
   "source": [
    "SC=O(1)"
   ]
  },
  {
   "cell_type": "code",
   "execution_count": 32,
   "metadata": {},
   "outputs": [],
   "source": [
    "def pascalTriangle3(n):\n",
    "    \n",
    "        for k in range(1, n+1):\n",
    "            pascalTriangle2(k)\n",
    "            \n",
    "        print()"
   ]
  },
  {
   "cell_type": "code",
   "execution_count": 33,
   "metadata": {},
   "outputs": [
    {
     "name": "stdout",
     "output_type": "stream",
     "text": [
      "1 \n",
      "1 1 \n",
      "1 2 1 \n",
      "1 3 3 1 \n",
      "1 4 6 4 1 \n",
      "\n"
     ]
    }
   ],
   "source": [
    "if __name__ == \"__main__\":\n",
    "    n = 5\n",
    "    pascalTriangle3(n)"
   ]
  },
  {
   "cell_type": "markdown",
   "metadata": {},
   "source": [
    "# Merge two Sorted Arrays Without Extra Space"
   ]
  },
  {
   "cell_type": "markdown",
   "metadata": {},
   "source": [
    "Problem statement: Given two sorted arrays arr1[] and arr2[] of sizes n and m in non-decreasing order. Merge them in sorted order. Modify arr1 so that it contains the first N elements and modify arr2 so that it contains the last M elements."
   ]
  },
  {
   "cell_type": "markdown",
   "metadata": {},
   "source": [
    "MY APPROACH"
   ]
  },
  {
   "cell_type": "markdown",
   "metadata": {},
   "source": [
    "TC=O(n*nlog(n)); n= s1\n",
    "\n",
    "SC=O(1)"
   ]
  },
  {
   "cell_type": "code",
   "execution_count": 1,
   "metadata": {},
   "outputs": [],
   "source": [
    "def merge(arr1, arr2):\n",
    "    s1=len(arr1)\n",
    "    s2=len(arr2)\n",
    "    \n",
    "    for i in range(s1):\n",
    "        if arr1[i]>arr2[0]:\n",
    "            t=arr1[i]\n",
    "            arr1[i]=arr2[0]\n",
    "            arr2[0]=t\n",
    "            arr2.sort()\n",
    "        else: continue\n",
    "        \n",
    "    return arr1, arr2"
   ]
  },
  {
   "cell_type": "code",
   "execution_count": 3,
   "metadata": {},
   "outputs": [
    {
     "name": "stdout",
     "output_type": "stream",
     "text": [
      "The merged arrays are:\n",
      "arr1[] = 1 2 3 4 \n",
      "arr2[] = 8 9 10 \n"
     ]
    }
   ],
   "source": [
    "if __name__ == '__main__':\n",
    "    arr1 = [1, 4, 8, 10]\n",
    "    arr2 = [2, 3, 9]\n",
    "    n = 4\n",
    "    m = 3\n",
    "    merge(arr1, arr2)\n",
    "    \n",
    "    print(\"The merged arrays are:\")\n",
    "    print(\"arr1[] = \", end=\"\")\n",
    "    for i in range(n):\n",
    "        print(arr1[i], end=\" \")\n",
    "    print(\"\\narr2[] = \", end=\"\")\n",
    "    for i in range(m):\n",
    "        print(arr2[i], end=\" \")\n",
    "    print()"
   ]
  },
  {
   "cell_type": "markdown",
   "metadata": {},
   "source": [
    "OPTIMAL SOLN1"
   ]
  },
  {
   "cell_type": "markdown",
   "metadata": {},
   "source": [
    "Time Complexity: O(min(n, m)) + O(n*logn) + O(m*logm), where n and m are the sizes of the given arrays.\n",
    "Reason: O(min(n, m)) is for swapping the array elements. And O(n*logn) and O(m*logm) are for sorting the two arrays.\n",
    "\n",
    "Space Complexity: O(1) as we are not using any extra space."
   ]
  },
  {
   "cell_type": "code",
   "execution_count": 4,
   "metadata": {},
   "outputs": [],
   "source": [
    "def merge2(arr1,arr2):\n",
    "    l=len(arr1)-1\n",
    "    r=0\n",
    "    while l>=0 and r< len(arr2):\n",
    "        if arr1[l]> arr2[r]:\n",
    "            arr1[l],arr2[r]=arr2[r],arr1[l]\n",
    "            l-=1\n",
    "            r+=1\n",
    "        else:\n",
    "            break\n",
    "    arr1.sort()\n",
    "    arr2.sort()"
   ]
  },
  {
   "cell_type": "code",
   "execution_count": 5,
   "metadata": {},
   "outputs": [
    {
     "name": "stdout",
     "output_type": "stream",
     "text": [
      "The merged arrays are:\n",
      "arr1[] = 1 2 3 4 \n",
      "arr2[] = 8 9 10 \n"
     ]
    }
   ],
   "source": [
    "if __name__ == '__main__':\n",
    "    arr1 = [1, 4, 8, 10]\n",
    "    arr2 = [2, 3, 9]\n",
    "    n = 4\n",
    "    m = 3\n",
    "    merge2(arr1, arr2)\n",
    "\n",
    "    print(\"The merged arrays are:\")\n",
    "    print(\"arr1[] = \", end=\"\")\n",
    "    for i in range(n):\n",
    "        print(arr1[i], end=\" \")\n",
    "    print(\"\\narr2[] = \", end=\"\")\n",
    "    for i in range(m):\n",
    "        print(arr2[i], end=\" \")\n",
    "    print()"
   ]
  }
 ],
 "metadata": {
  "kernelspec": {
   "display_name": "base",
   "language": "python",
   "name": "python3"
  },
  "language_info": {
   "codemirror_mode": {
    "name": "ipython",
    "version": 3
   },
   "file_extension": ".py",
   "mimetype": "text/x-python",
   "name": "python",
   "nbconvert_exporter": "python",
   "pygments_lexer": "ipython3",
   "version": "3.11.4"
  }
 },
 "nbformat": 4,
 "nbformat_minor": 2
}
